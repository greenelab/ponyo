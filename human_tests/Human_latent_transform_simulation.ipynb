{
 "cells": [
  {
   "cell_type": "markdown",
   "metadata": {},
   "source": [
    "# Test simulating compendia by latent transformation"
   ]
  },
  {
   "cell_type": "code",
   "execution_count": 1,
   "metadata": {},
   "outputs": [
    {
     "name": "stderr",
     "output_type": "stream",
     "text": [
      "Using TensorFlow backend.\n"
     ]
    }
   ],
   "source": [
    "%load_ext autoreload\n",
    "%autoreload 2\n",
    "\n",
    "import os\n",
    "import sys\n",
    "import pandas as pd\n",
    "import numpy as np\n",
    "import random\n",
    "import umap\n",
    "import glob\n",
    "from keras.models import load_model\n",
    "from sklearn.decomposition import PCA\n",
    "from plotnine import (ggplot,\n",
    "                      labs,  \n",
    "                      geom_point,\n",
    "                      aes, \n",
    "                      ggsave, \n",
    "                      theme_bw,\n",
    "                      theme,\n",
    "                      facet_wrap,\n",
    "                      scale_color_manual,\n",
    "                      guides, \n",
    "                      guide_legend,\n",
    "                      element_blank,\n",
    "                      element_text,\n",
    "                      element_rect,\n",
    "                      element_line,\n",
    "                      coords)\n",
    "\n",
    "\n",
    "import warnings\n",
    "warnings.filterwarnings(action='ignore')\n",
    "\n",
    "from ponyo import utils, train_vae_modules, simulate_expression_data\n",
    "\n",
    "np.random.seed(123)"
   ]
  },
  {
   "cell_type": "code",
   "execution_count": 2,
   "metadata": {},
   "outputs": [],
   "source": [
    "# Read in config variables\n",
    "base_dir = os.path.abspath(os.path.join(os.getcwd(),\"../\"))\n",
    "config_file = os.path.abspath(os.path.join(base_dir,\n",
    "                                           \"human_tests\", \n",
    "                                           \"config_test_human.tsv\"))\n",
    "params = utils.read_config(config_file)"
   ]
  },
  {
   "cell_type": "code",
   "execution_count": 3,
   "metadata": {},
   "outputs": [],
   "source": [
    "# Load parameters\n",
    "local_dir = params[\"local_dir\"]\n",
    "dataset_name = params['dataset_name']\n",
    "analysis_name = params[\"simulation_type\"]\n",
    "NN_architecture = params['NN_architecture']\n",
    "sample_id_colname = params['metadata_colname']\n",
    "num_simulated_experiments = params['num_simulated_experiments']\n",
    "\n",
    "NN_dir = os.path.join(\n",
    "    base_dir, \n",
    "    dataset_name, \n",
    "    \"models\", \n",
    "    NN_architecture)\n",
    "\n",
    "metadata_file = os.path.join(\n",
    "    base_dir,\n",
    "    dataset_name,\n",
    "    \"data\",\n",
    "    \"metadata\",\n",
    "    \"recount2_metadata.tsv\")"
   ]
  },
  {
   "cell_type": "code",
   "execution_count": 4,
   "metadata": {},
   "outputs": [],
   "source": [
    "# Input files\n",
    "rpkm_data_file = os.path.join(\n",
    "    base_dir,\n",
    "    dataset_name,\n",
    "    \"data\",\n",
    "    \"input\",\n",
    "    \"recount2_gene_RPKM_data_test.tsv\")\n",
    "assert os.path.exists(rpkm_data_file)"
   ]
  },
  {
   "cell_type": "markdown",
   "metadata": {},
   "source": [
    "## Setup directories"
   ]
  },
  {
   "cell_type": "code",
   "execution_count": 5,
   "metadata": {},
   "outputs": [],
   "source": [
    "utils.setup_dir(config_file)"
   ]
  },
  {
   "cell_type": "markdown",
   "metadata": {},
   "source": [
    "## Pre-process data"
   ]
  },
  {
   "cell_type": "code",
   "execution_count": 6,
   "metadata": {},
   "outputs": [],
   "source": [
    "# Output file\n",
    "normalized_data_file = os.path.join(\n",
    "    base_dir,\n",
    "    dataset_name,\n",
    "    \"data\",\n",
    "    \"input\",\n",
    "    \"recount2_gene_normalized_data_test.tsv.xz\")"
   ]
  },
  {
   "cell_type": "code",
   "execution_count": 7,
   "metadata": {},
   "outputs": [
    {
     "name": "stdout",
     "output_type": "stream",
     "text": [
      "input: dataset contains 50 samples and 5000 genes\n",
      "Output: normalized dataset contains 50 samples and 5000 genes\n"
     ]
    }
   ],
   "source": [
    "train_vae_modules.normalize_expression_data(base_dir,\n",
    "                                            config_file,\n",
    "                                            rpkm_data_file,\n",
    "                                            normalized_data_file)"
   ]
  },
  {
   "cell_type": "code",
   "execution_count": 8,
   "metadata": {},
   "outputs": [],
   "source": [
    "# Output file\n",
    "experiment_id_file = os.path.join(\n",
    "    base_dir, \n",
    "    dataset_name,\n",
    "    \"data\",\n",
    "    \"metadata\", \n",
    "    \"experiment_ids.txt\")"
   ]
  },
  {
   "cell_type": "code",
   "execution_count": 9,
   "metadata": {},
   "outputs": [
    {
     "name": "stdout",
     "output_type": "stream",
     "text": [
      "There are 3219 experiments in the compendium\n",
      "There are 6 experiments with gene expression data\n",
      "6 experiment ids saved to file\n"
     ]
    }
   ],
   "source": [
    "utils.create_experiment_id_file(metadata_file,\n",
    "                                normalized_data_file,\n",
    "                                experiment_id_file,\n",
    "                                config_file)"
   ]
  },
  {
   "cell_type": "markdown",
   "metadata": {},
   "source": [
    "## Train VAE"
   ]
  },
  {
   "cell_type": "code",
   "execution_count": 10,
   "metadata": {},
   "outputs": [],
   "source": [
    "# Directory containing log information from VAE training\n",
    "vae_log_dir = os.path.join(\n",
    "    base_dir, \n",
    "    dataset_name,\n",
    "    \"logs\",\n",
    "    NN_architecture)"
   ]
  },
  {
   "cell_type": "code",
   "execution_count": 11,
   "metadata": {
    "scrolled": true
   },
   "outputs": [
    {
     "name": "stdout",
     "output_type": "stream",
     "text": [
      "input dataset contains 50 samples and 5000 genes\n",
      "WARNING:tensorflow:From /home/alexandra/anaconda3/envs/simulate_expression_compendia/lib/python3.7/site-packages/tensorflow/python/ops/resource_variable_ops.py:435: colocate_with (from tensorflow.python.framework.ops) is deprecated and will be removed in a future version.\n",
      "Instructions for updating:\n",
      "Colocations handled automatically by placer.\n",
      "tracking <tf.Variable 'Variable:0' shape=() dtype=float32> beta\n",
      "WARNING:tensorflow:From /home/alexandra/anaconda3/envs/simulate_expression_compendia/lib/python3.7/site-packages/tensorflow/python/ops/math_ops.py:3066: to_int32 (from tensorflow.python.ops.math_ops) is deprecated and will be removed in a future version.\n",
      "Instructions for updating:\n",
      "Use tf.cast instead.\n",
      "Train on 45 samples, validate on 5 samples\n",
      "Epoch 1/10\n",
      "45/45 [==============================] - 4s 88ms/step - loss: 2466.1158 - val_loss: 2732.4883\n",
      "Epoch 2/10\n",
      "45/45 [==============================] - 4s 79ms/step - loss: 1671.1998 - val_loss: 2180.0183\n",
      "Epoch 3/10\n",
      "45/45 [==============================] - 4s 79ms/step - loss: 1566.8178 - val_loss: 1799.2496\n",
      "Epoch 4/10\n",
      "45/45 [==============================] - 4s 78ms/step - loss: 1481.5816 - val_loss: 1730.1412\n",
      "Epoch 5/10\n",
      "45/45 [==============================] - 4s 79ms/step - loss: 1577.6224 - val_loss: 1477.2603\n",
      "Epoch 6/10\n",
      "45/45 [==============================] - 4s 78ms/step - loss: 1444.6422 - val_loss: 1510.6864\n",
      "Epoch 7/10\n",
      "45/45 [==============================] - 4s 79ms/step - loss: 1475.2912 - val_loss: 1676.2584\n",
      "Epoch 8/10\n",
      "45/45 [==============================] - 4s 79ms/step - loss: 1398.2218 - val_loss: 1403.8243\n",
      "Epoch 9/10\n",
      "45/45 [==============================] - 4s 78ms/step - loss: 1352.8320 - val_loss: 1309.4790\n",
      "Epoch 10/10\n",
      "45/45 [==============================] - 4s 78ms/step - loss: 1411.7664 - val_loss: 1252.2395\n"
     ]
    },
    {
     "data": {
      "image/png": "[encoded data removed]",
      "text/plain": [
       "<Figure size 432x288 with 1 Axes>"
      ]
     },
     "metadata": {
      "needs_background": "light"
     },
     "output_type": "display_data"
    }
   ],
   "source": [
    "# Train VAE\n",
    "train_vae_modules.train_vae(config_file,\n",
    "                            normalized_data_file)"
   ]
  },
  {
   "cell_type": "markdown",
   "metadata": {},
   "source": [
    "## Simulate data by latent transformation"
   ]
  },
  {
   "cell_type": "code",
   "execution_count": 12,
   "metadata": {
    "scrolled": false
   },
   "outputs": [
    {
     "name": "stdout",
     "output_type": "stream",
     "text": [
      "Normalized gene expression data contains 50 samples and 5000 genes\n",
      "Return: simulated gene expression data containing 426 samples and 5001 genes\n"
     ]
    }
   ],
   "source": [
    "# Run simulation\n",
    "simulated_data = simulate_expression_data.simulate_by_latent_transformation(\n",
    "    num_simulated_experiments,\n",
    "    normalized_data_file,\n",
    "    NN_architecture,\n",
    "    dataset_name,\n",
    "    analysis_name,\n",
    "    experiment_id_file,\n",
    "    sample_id_colname,\n",
    "    local_dir,\n",
    "    base_dir)"
   ]
  },
  {
   "cell_type": "markdown",
   "metadata": {},
   "source": [
    "## Visualize latent transform compendium"
   ]
  },
  {
   "cell_type": "code",
   "execution_count": 13,
   "metadata": {},
   "outputs": [],
   "source": [
    "# Load VAE models\n",
    "model_encoder_file = glob.glob(os.path.join(\n",
    "        NN_dir,\n",
    "        \"*_encoder_model.h5\"))[0]\n",
    "\n",
    "weights_encoder_file = glob.glob(os.path.join(\n",
    "    NN_dir,\n",
    "    \"*_encoder_weights.h5\"))[0]\n",
    "\n",
    "model_decoder_file = glob.glob(os.path.join(\n",
    "    NN_dir,\n",
    "    \"*_decoder_model.h5\"))[0]\n",
    "\n",
    "weights_decoder_file = glob.glob(os.path.join(\n",
    "    NN_dir,\n",
    "    \"*_decoder_weights.h5\"))[0]\n",
    "\n",
    "# Load saved models\n",
    "loaded_model = load_model(model_encoder_file)\n",
    "loaded_decode_model = load_model(model_decoder_file)\n",
    "\n",
    "loaded_model.load_weights(weights_encoder_file)\n",
    "loaded_decode_model.load_weights(weights_decoder_file)"
   ]
  },
  {
   "cell_type": "code",
   "execution_count": 14,
   "metadata": {},
   "outputs": [],
   "source": [
    "pca = PCA(n_components=2)"
   ]
  },
  {
   "cell_type": "code",
   "execution_count": 15,
   "metadata": {},
   "outputs": [],
   "source": [
    "# Read data\n",
    "normalized_compendium = pd.read_csv(normalized_data_file, header=0, sep=\"\\t\", index_col=0)"
   ]
  },
  {
   "cell_type": "code",
   "execution_count": 16,
   "metadata": {},
   "outputs": [],
   "source": [
    "# Encode normalized compendium into latent space\n",
    "compendium_encoded = loaded_model.predict_on_batch(normalized_compendium)\n",
    "\n",
    "compendium_encoded_df = pd.DataFrame(data=compendium_encoded, \n",
    "                                     index=normalized_compendium.index)\n",
    "\n",
    "# Get and save PCA model\n",
    "model = pca.fit(compendium_encoded_df)\n",
    "\n",
    "compendium_PCAencoded = model.transform(compendium_encoded_df)\n",
    "\n",
    "compendium_PCAencoded_df = pd.DataFrame(data=compendium_PCAencoded,\n",
    "                                         index=compendium_encoded_df.index,\n",
    "                                         columns=['1','2'])\n",
    "\n",
    "# Add label\n",
    "compendium_PCAencoded_df['experiment_id'] = 'background'"
   ]
  },
  {
   "cell_type": "code",
   "execution_count": 17,
   "metadata": {},
   "outputs": [],
   "source": [
    "# Embedding of real template experiment (encoded)\n",
    "before_encoded_file = os.path.join(local_dir, \"simulated_before_encoded.txt\")\n",
    "\n",
    "template_encoded_df = pd.read_csv(before_encoded_file, header=0, sep='\\t', index_col=0)\n",
    "\n",
    "template_PCAencoded = model.transform(template_encoded_df)\n",
    "\n",
    "template_PCAencoded_df = pd.DataFrame(data=template_PCAencoded,\n",
    "                                         index=template_encoded_df.index,\n",
    "                                         columns=['1','2'])\n",
    "\n",
    "# Add back label column\n",
    "template_PCAencoded_df['experiment_id'] = 'before_experiment'"
   ]
  },
  {
   "cell_type": "code",
   "execution_count": 18,
   "metadata": {},
   "outputs": [],
   "source": [
    "# Embedding of simulated experiment (encoded)\n",
    "after_encoded_file = os.path.join(local_dir, \"simulated_after_encoded.txt\")\n",
    "\n",
    "simulated_encoded_df = pd.read_csv(after_encoded_file,header=0, sep='\\t', index_col=0)\n",
    "\n",
    "simulated_PCAencoded = model.transform(simulated_encoded_df)\n",
    "\n",
    "simulated_PCAencoded_df = pd.DataFrame(data=simulated_PCAencoded,\n",
    "                                         index=simulated_encoded_df.index,\n",
    "                                         columns=['1','2'])\n",
    "\n",
    "# Add back label column\n",
    "simulated_PCAencoded_df['experiment_id'] = 'after_experiment'"
   ]
  },
  {
   "cell_type": "code",
   "execution_count": 19,
   "metadata": {},
   "outputs": [
    {
     "name": "stdout",
     "output_type": "stream",
     "text": [
      "(58, 3)\n"
     ]
    },
    {
     "data": {
      "text/html": [
       "<div>\n",
       "<style scoped>\n",
       "    .dataframe tbody tr th:only-of-type {\n",
       "        vertical-align: middle;\n",
       "    }\n",
       "\n",
       "    .dataframe tbody tr th {\n",
       "        vertical-align: top;\n",
       "    }\n",
       "\n",
       "    .dataframe thead th {\n",
       "        text-align: right;\n",
       "    }\n",
       "</style>\n",
       "<table border=\"1\" class=\"dataframe\">\n",
       "  <thead>\n",
       "    <tr style=\"text-align: right;\">\n",
       "      <th></th>\n",
       "      <th>1</th>\n",
       "      <th>2</th>\n",
       "      <th>experiment_id</th>\n",
       "    </tr>\n",
       "  </thead>\n",
       "  <tbody>\n",
       "    <tr>\n",
       "      <th>SRR592745</th>\n",
       "      <td>-1.557785</td>\n",
       "      <td>6.548028</td>\n",
       "      <td>background</td>\n",
       "    </tr>\n",
       "    <tr>\n",
       "      <th>SRR592746</th>\n",
       "      <td>-1.335538</td>\n",
       "      <td>6.123819</td>\n",
       "      <td>background</td>\n",
       "    </tr>\n",
       "    <tr>\n",
       "      <th>SRR592747</th>\n",
       "      <td>-1.234933</td>\n",
       "      <td>6.325553</td>\n",
       "      <td>background</td>\n",
       "    </tr>\n",
       "    <tr>\n",
       "      <th>SRR592748</th>\n",
       "      <td>0.633263</td>\n",
       "      <td>9.497215</td>\n",
       "      <td>background</td>\n",
       "    </tr>\n",
       "    <tr>\n",
       "      <th>SRR592749</th>\n",
       "      <td>1.389616</td>\n",
       "      <td>8.344598</td>\n",
       "      <td>background</td>\n",
       "    </tr>\n",
       "  </tbody>\n",
       "</table>\n",
       "</div>"
      ],
      "text/plain": [
       "                  1         2 experiment_id\n",
       "SRR592745 -1.557785  6.548028    background\n",
       "SRR592746 -1.335538  6.123819    background\n",
       "SRR592747 -1.234933  6.325553    background\n",
       "SRR592748  0.633263  9.497215    background\n",
       "SRR592749  1.389616  8.344598    background"
      ]
     },
     "execution_count": 19,
     "metadata": {},
     "output_type": "execute_result"
    }
   ],
   "source": [
    "# Concatenate dataframes\n",
    "combined_PCAencoded_df = pd.concat([compendium_PCAencoded_df, \n",
    "                                    template_PCAencoded_df,\n",
    "                                    simulated_PCAencoded_df])\n",
    "\n",
    "print(combined_PCAencoded_df.shape)\n",
    "combined_PCAencoded_df.head()"
   ]
  },
  {
   "cell_type": "code",
   "execution_count": 20,
   "metadata": {},
   "outputs": [
    {
     "data": {
      "image/png": "[encoded data removed]",
      "text/plain": [
       "<Figure size 640x480 with 1 Axes>"
      ]
     },
     "metadata": {},
     "output_type": "display_data"
    },
    {
     "name": "stdout",
     "output_type": "stream",
     "text": [
      "<ggplot: (-9223363271418897685)>\n"
     ]
    }
   ],
   "source": [
    "# Plot\n",
    "fig = ggplot(combined_PCAencoded_df, aes(x='1', y='2'))\n",
    "fig += geom_point(aes(color='experiment_id'), alpha=0.5)\n",
    "fig += labs(x ='PCA 1',\n",
    "            y = 'PCA 2',\n",
    "            title = 'PCA original data with experiments (latent space)')\n",
    "fig += theme_bw()\n",
    "fig += theme(\n",
    "    legend_title_align = \"center\",\n",
    "    plot_background=element_rect(fill='white'),\n",
    "    legend_key=element_rect(fill='white', colour='white'), \n",
    "    legend_title=element_text(family='sans-serif', size=15),\n",
    "    legend_text=element_text(family='sans-serif', size=12),\n",
    "    plot_title=element_text(family='sans-serif', size=15),\n",
    "    axis_text=element_text(family='sans-serif', size=12),\n",
    "    axis_title=element_text(family='sans-serif', size=15)\n",
    "    )\n",
    "fig += guides(colour=guide_legend(override_aes={'alpha': 1}))\n",
    "fig += scale_color_manual(['red', '#bdbdbd', 'blue'])\n",
    "fig += geom_point(data=combined_PCAencoded_df[combined_PCAencoded_df['experiment_id'] == 'after_experiment'],\n",
    "                  alpha=0.2, \n",
    "                  color='red')\n",
    "fig += geom_point(data=combined_PCAencoded_df[combined_PCAencoded_df['experiment_id'] == 'before_experiment'],\n",
    "                  alpha=0.2, \n",
    "                  color='blue')\n",
    "\n",
    "print(fig)"
   ]
  }
 ],
 "metadata": {
  "kernelspec": {
   "display_name": "Python [conda env:simulate_expression_compendia] *",
   "language": "python",
   "name": "conda-env-simulate_expression_compendia-py"
  },
  "language_info": {
   "codemirror_mode": {
    "name": "ipython",
    "version": 3
   },
   "file_extension": ".py",
   "mimetype": "text/x-python",
   "name": "python",
   "nbconvert_exporter": "python",
   "pygments_lexer": "ipython3",
   "version": "3.7.3"
  }
 },
 "nbformat": 4,
 "nbformat_minor": 2
}
