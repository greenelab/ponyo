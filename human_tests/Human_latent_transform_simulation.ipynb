{
 "cells": [
  {
   "cell_type": "markdown",
   "metadata": {},
   "source": [
    "# Test simulating compendia by latent transformation"
   ]
  },
  {
   "cell_type": "code",
   "execution_count": 1,
   "metadata": {},
   "outputs": [
    {
     "name": "stderr",
     "output_type": "stream",
     "text": [
      "Using TensorFlow backend.\n"
     ]
    },
    {
     "name": "stdout",
     "output_type": "stream",
     "text": [
      "WARNING:tensorflow:From /home/alexandra/Documents/Repos/ponyo/ponyo/helper_vae.py:21: The name tf.ConfigProto is deprecated. Please use tf.compat.v1.ConfigProto instead.\n",
      "\n",
      "WARNING:tensorflow:From /home/alexandra/Documents/Repos/ponyo/ponyo/helper_vae.py:25: The name tf.Session is deprecated. Please use tf.compat.v1.Session instead.\n",
      "\n",
      "WARNING:tensorflow:From /home/alexandra/Documents/Repos/ponyo/ponyo/helper_vae.py:25: The name tf.get_default_graph is deprecated. Please use tf.compat.v1.get_default_graph instead.\n",
      "\n"
     ]
    }
   ],
   "source": [
    "%load_ext autoreload\n",
    "%autoreload 2\n",
    "\n",
    "import os\n",
    "import sys\n",
    "import pandas as pd\n",
    "import umap\n",
    "import glob\n",
    "from keras.models import load_model\n",
    "from sklearn.decomposition import PCA\n",
    "from plotnine import (ggplot,\n",
    "                      labs,  \n",
    "                      geom_point,\n",
    "                      aes, \n",
    "                      ggsave, \n",
    "                      theme_bw,\n",
    "                      theme,\n",
    "                      facet_wrap,\n",
    "                      scale_color_manual,\n",
    "                      guides, \n",
    "                      guide_legend,\n",
    "                      element_blank,\n",
    "                      element_text,\n",
    "                      element_rect,\n",
    "                      element_line,\n",
    "                      coords)\n",
    "\n",
    "\n",
    "import warnings\n",
    "warnings.filterwarnings(action='ignore')\n",
    "\n",
    "from ponyo import utils, train_vae_modules, simulate_expression_data"
   ]
  },
  {
   "cell_type": "code",
   "execution_count": 2,
   "metadata": {},
   "outputs": [
    {
     "name": "stdout",
     "output_type": "stream",
     "text": [
      "WARNING:tensorflow:From /home/alexandra/Documents/Repos/ponyo/ponyo/train_vae_modules.py:56: The name tf.set_random_seed is deprecated. Please use tf.compat.v1.set_random_seed instead.\n",
      "\n"
     ]
    }
   ],
   "source": [
    "# Set seeds to get reproducible VAE trained models\n",
    "train_vae_modules.set_all_seeds()"
   ]
  },
  {
   "cell_type": "code",
   "execution_count": 3,
   "metadata": {},
   "outputs": [],
   "source": [
    "# Read in config variables\n",
    "base_dir = os.path.abspath(os.path.join(os.getcwd(),\"../\"))\n",
    "config_filename = os.path.abspath(os.path.join(base_dir,\n",
    "                                           \"human_tests\", \n",
    "                                           \"config_test_human.tsv\"))\n",
    "params = utils.read_config(config_filename)"
   ]
  },
  {
   "cell_type": "code",
   "execution_count": 4,
   "metadata": {},
   "outputs": [],
   "source": [
    "# Load parameters\n",
    "local_dir = params[\"local_dir\"]\n",
    "dataset_name = params['dataset_name']\n",
    "analysis_name = params[\"simulation_type\"]\n",
    "rpkm_data_filename = params[\"raw_data_filename\"]\n",
    "normalized_data_filename = params[\"normalized_data_filename\"]\n",
    "metadata_filename = params[\"metadata_filename\"]\n",
    "experiment_id_filename = params[\"experiment_ids_filename\"]\n",
    "NN_architecture = params['NN_architecture']\n",
    "latent_dim = params['latent_dim']\n",
    "num_simulated_experiments = params['num_simulated_experiments']\n",
    "metadata_delimiter = params[\"metadata_delimiter\"]\n",
    "experiment_id_colname = params['metadata_experiment_colname']\n",
    "sample_id_colname = params['metadata_sample_colname']\n",
    "\n",
    "NN_dir = os.path.join(\n",
    "    base_dir, \n",
    "    dataset_name, \n",
    "    \"models\", \n",
    "    NN_architecture)"
   ]
  },
  {
   "cell_type": "code",
   "execution_count": 5,
   "metadata": {},
   "outputs": [],
   "source": [
    "assert os.path.exists(rpkm_data_filename)"
   ]
  },
  {
   "cell_type": "markdown",
   "metadata": {},
   "source": [
    "## Setup directories"
   ]
  },
  {
   "cell_type": "code",
   "execution_count": 6,
   "metadata": {},
   "outputs": [],
   "source": [
    "utils.setup_dir(config_filename)"
   ]
  },
  {
   "cell_type": "markdown",
   "metadata": {},
   "source": [
    "## Pre-process data"
   ]
  },
  {
   "cell_type": "code",
   "execution_count": 7,
   "metadata": {},
   "outputs": [
    {
     "name": "stdout",
     "output_type": "stream",
     "text": [
      "input: dataset contains 273 samples and 5000 genes\n",
      "Output: normalized dataset contains 273 samples and 5000 genes\n"
     ]
    }
   ],
   "source": [
    "train_vae_modules.normalize_expression_data(base_dir,\n",
    "                                            config_filename,\n",
    "                                            rpkm_data_filename,\n",
    "                                            normalized_data_filename)"
   ]
  },
  {
   "cell_type": "code",
   "execution_count": 8,
   "metadata": {},
   "outputs": [
    {
     "name": "stdout",
     "output_type": "stream",
     "text": [
      "There are 3219 experiments in the compendium\n",
      "There are 9 experiments with gene expression data\n",
      "9 experiment ids saved to file\n"
     ]
    }
   ],
   "source": [
    "utils.create_experiment_id_file(metadata_filename,\n",
    "                                normalized_data_filename,\n",
    "                                experiment_id_filename,\n",
    "                                config_filename)"
   ]
  },
  {
   "cell_type": "markdown",
   "metadata": {},
   "source": [
    "## Train VAE"
   ]
  },
  {
   "cell_type": "code",
   "execution_count": 9,
   "metadata": {},
   "outputs": [],
   "source": [
    "# Directory containing log information from VAE training\n",
    "vae_log_dir = os.path.join(\n",
    "    base_dir, \n",
    "    dataset_name,\n",
    "    \"logs\",\n",
    "    NN_architecture)"
   ]
  },
  {
   "cell_type": "code",
   "execution_count": 10,
   "metadata": {
    "scrolled": true
   },
   "outputs": [
    {
     "name": "stdout",
     "output_type": "stream",
     "text": [
      "input dataset contains 273 samples and 5000 genes\n",
      "WARNING:tensorflow:From /home/alexandra/anaconda3/envs/test_ponyo/lib/python3.7/site-packages/tensorflow_core/python/ops/resource_variable_ops.py:1630: calling BaseResourceVariable.__init__ (from tensorflow.python.ops.resource_variable_ops) with constraint is deprecated and will be removed in a future version.\n",
      "Instructions for updating:\n",
      "If using Keras pass *_constraint arguments to layers.\n",
      "tracking <tf.Variable 'Variable:0' shape=() dtype=float32> beta\n",
      "WARNING:tensorflow:From /home/alexandra/anaconda3/envs/test_ponyo/lib/python3.7/site-packages/tensorflow_core/python/ops/nn_impl.py:183: where (from tensorflow.python.ops.array_ops) is deprecated and will be removed in a future version.\n",
      "Instructions for updating:\n",
      "Use tf.where in 2.0, which has the same broadcast rule as np.where\n",
      "WARNING:tensorflow:From /home/alexandra/anaconda3/envs/test_ponyo/lib/python3.7/site-packages/keras/backend/tensorflow_backend.py:422: The name tf.global_variables is deprecated. Please use tf.compat.v1.global_variables instead.\n",
      "\n",
      "Train on 246 samples, validate on 27 samples\n",
      "Epoch 1/10\n",
      "246/246 [==============================] - 21s 84ms/step - loss: 2340.0547 - kl_loss: 13.9695 - recons_loss: 2340.0549 - val_loss: 2576.0480 - val_kl_loss: 138.0642 - val_recons_loss: 2576.0481\n",
      "Epoch 2/10\n",
      "246/246 [==============================] - 20s 82ms/step - loss: 2167.1981 - kl_loss: 13.5955 - recons_loss: 2167.1982 - val_loss: 2336.0543 - val_kl_loss: 77.9998 - val_recons_loss: 2336.0542\n",
      "Epoch 3/10\n",
      "246/246 [==============================] - 20s 82ms/step - loss: 2154.3693 - kl_loss: 13.6479 - recons_loss: 2154.3691 - val_loss: 2209.4096 - val_kl_loss: 48.1001 - val_recons_loss: 2209.4097\n",
      "Epoch 4/10\n",
      "246/246 [==============================] - 20s 82ms/step - loss: 2145.3798 - kl_loss: 14.4935 - recons_loss: 2145.3799 - val_loss: 2148.8787 - val_kl_loss: 27.0799 - val_recons_loss: 2148.8787\n",
      "Epoch 5/10\n",
      "246/246 [==============================] - 20s 82ms/step - loss: 2140.5616 - kl_loss: 14.7198 - recons_loss: 2140.5618 - val_loss: 2125.0939 - val_kl_loss: 29.0089 - val_recons_loss: 2125.0940\n",
      "Epoch 6/10\n",
      "246/246 [==============================] - 20s 82ms/step - loss: 2135.2608 - kl_loss: 14.7896 - recons_loss: 2135.2607 - val_loss: 2106.7844 - val_kl_loss: 32.8426 - val_recons_loss: 2106.7847\n",
      "Epoch 7/10\n",
      "246/246 [==============================] - 20s 82ms/step - loss: 2123.8124 - kl_loss: 15.0116 - recons_loss: 2123.8123 - val_loss: 2084.1353 - val_kl_loss: 29.0683 - val_recons_loss: 2084.1355\n",
      "Epoch 8/10\n",
      "246/246 [==============================] - 20s 83ms/step - loss: 2123.9799 - kl_loss: 15.5945 - recons_loss: 2123.9795 - val_loss: 2089.8382 - val_kl_loss: 27.0921 - val_recons_loss: 2089.8381\n",
      "Epoch 9/10\n",
      "246/246 [==============================] - 20s 83ms/step - loss: 2090.6535 - kl_loss: 16.3353 - recons_loss: 2090.6541 - val_loss: 2126.9455 - val_kl_loss: 36.0171 - val_recons_loss: 2126.9456\n",
      "Epoch 10/10\n",
      "246/246 [==============================] - 20s 83ms/step - loss: 2101.7460 - kl_loss: 16.4985 - recons_loss: 2101.7461 - val_loss: 2079.0770 - val_kl_loss: 29.5822 - val_recons_loss: 2079.0769\n"
     ]
    },
    {
     "data": {
      "image/png": "[encoded data removed]",
      "text/plain": [
       "<Figure size 432x288 with 1 Axes>"
      ]
     },
     "metadata": {
      "needs_background": "light"
     },
     "output_type": "display_data"
    }
   ],
   "source": [
    "# Train VAE\n",
    "train_vae_modules.train_vae(config_filename,\n",
    "                            normalized_data_filename)"
   ]
  },
  {
   "cell_type": "markdown",
   "metadata": {},
   "source": [
    "## Simulate data by latent transformation"
   ]
  },
  {
   "cell_type": "code",
   "execution_count": 11,
   "metadata": {
    "scrolled": false
   },
   "outputs": [
    {
     "name": "stdout",
     "output_type": "stream",
     "text": [
      "Normalized gene expression data contains 273 samples and 5000 genes\n",
      "Return: simulated gene expression data containing 1766 samples and 5001 genes\n"
     ]
    }
   ],
   "source": [
    "# Run simulation\n",
    "simulated_data = simulate_expression_data.simulate_by_latent_transformation(\n",
    "    num_simulated_experiments,\n",
    "    normalized_data_filename,\n",
    "    NN_architecture,\n",
    "    latent_dim,\n",
    "    dataset_name,\n",
    "    analysis_name,\n",
    "    metadata_filename,\n",
    "    metadata_delimiter,\n",
    "    experiment_id_colname,\n",
    "    sample_id_colname,\n",
    "    experiment_id_filename,\n",
    "    local_dir,\n",
    "    base_dir)"
   ]
  },
  {
   "cell_type": "markdown",
   "metadata": {},
   "source": [
    "## Visualize latent transform compendium"
   ]
  },
  {
   "cell_type": "code",
   "execution_count": 12,
   "metadata": {},
   "outputs": [],
   "source": [
    "# Load VAE models\n",
    "model_encoder_filename = glob.glob(os.path.join(\n",
    "        NN_dir,\n",
    "        \"*_encoder_model.h5\"))[0]\n",
    "\n",
    "weights_encoder_filename = glob.glob(os.path.join(\n",
    "    NN_dir,\n",
    "    \"*_encoder_weights.h5\"))[0]\n",
    "\n",
    "model_decoder_filename = glob.glob(os.path.join(\n",
    "    NN_dir,\n",
    "    \"*_decoder_model.h5\"))[0]\n",
    "\n",
    "weights_decoder_filename = glob.glob(os.path.join(\n",
    "    NN_dir,\n",
    "    \"*_decoder_weights.h5\"))[0]\n",
    "\n",
    "# Load saved models\n",
    "loaded_model = load_model(model_encoder_filename)\n",
    "loaded_decode_model = load_model(model_decoder_filename)\n",
    "\n",
    "loaded_model.load_weights(weights_encoder_filename)\n",
    "loaded_decode_model.load_weights(weights_decoder_filename)"
   ]
  },
  {
   "cell_type": "code",
   "execution_count": 13,
   "metadata": {},
   "outputs": [],
   "source": [
    "pca = PCA(n_components=2)"
   ]
  },
  {
   "cell_type": "code",
   "execution_count": 14,
   "metadata": {},
   "outputs": [],
   "source": [
    "# Read data\n",
    "normalized_compendium = pd.read_csv(normalized_data_filename, header=0, sep=\"\\t\", index_col=0)"
   ]
  },
  {
   "cell_type": "code",
   "execution_count": 15,
   "metadata": {},
   "outputs": [],
   "source": [
    "# Encode normalized compendium into latent space\n",
    "compendium_encoded = loaded_model.predict_on_batch(normalized_compendium)\n",
    "\n",
    "compendium_encoded_df = pd.DataFrame(data=compendium_encoded, \n",
    "                                     index=normalized_compendium.index)\n",
    "\n",
    "# Get and save PCA model\n",
    "model = pca.fit(compendium_encoded_df)\n",
    "\n",
    "compendium_PCAencoded = model.transform(compendium_encoded_df)\n",
    "\n",
    "compendium_PCAencoded_df = pd.DataFrame(data=compendium_PCAencoded,\n",
    "                                         index=compendium_encoded_df.index,\n",
    "                                         columns=['1','2'])\n",
    "\n",
    "# Add label\n",
    "compendium_PCAencoded_df['experiment_id'] = 'background'"
   ]
  },
  {
   "cell_type": "code",
   "execution_count": 16,
   "metadata": {},
   "outputs": [],
   "source": [
    "# Embedding of real template experiment (encoded)\n",
    "before_encoded_filename = os.path.join(local_dir, \"simulated_before_encoded.txt\")\n",
    "\n",
    "template_encoded_df = pd.read_csv(before_encoded_filename, header=0, sep='\\t', index_col=0)\n",
    "\n",
    "template_PCAencoded = model.transform(template_encoded_df)\n",
    "\n",
    "template_PCAencoded_df = pd.DataFrame(data=template_PCAencoded,\n",
    "                                         index=template_encoded_df.index,\n",
    "                                         columns=['1','2'])\n",
    "\n",
    "# Add back label column\n",
    "template_PCAencoded_df['experiment_id'] = 'template_experiment'"
   ]
  },
  {
   "cell_type": "code",
   "execution_count": 17,
   "metadata": {},
   "outputs": [],
   "source": [
    "# Embedding of simulated experiment (encoded)\n",
    "after_encoded_filename = os.path.join(local_dir, \"simulated_after_encoded.txt\")\n",
    "\n",
    "simulated_encoded_df = pd.read_csv(after_encoded_filename,header=0, sep='\\t', index_col=0)\n",
    "\n",
    "simulated_PCAencoded = model.transform(simulated_encoded_df)\n",
    "\n",
    "simulated_PCAencoded_df = pd.DataFrame(data=simulated_PCAencoded,\n",
    "                                         index=simulated_encoded_df.index,\n",
    "                                         columns=['1','2'])\n",
    "\n",
    "# Add back label column\n",
    "simulated_PCAencoded_df['experiment_id'] = 'simulated_experiment'"
   ]
  },
  {
   "cell_type": "code",
   "execution_count": 18,
   "metadata": {},
   "outputs": [
    {
     "name": "stdout",
     "output_type": "stream",
     "text": [
      "(291, 3)\n"
     ]
    },
    {
     "data": {
      "text/html": [
       "<div>\n",
       "<style scoped>\n",
       "    .dataframe tbody tr th:only-of-type {\n",
       "        vertical-align: middle;\n",
       "    }\n",
       "\n",
       "    .dataframe tbody tr th {\n",
       "        vertical-align: top;\n",
       "    }\n",
       "\n",
       "    .dataframe thead th {\n",
       "        text-align: right;\n",
       "    }\n",
       "</style>\n",
       "<table border=\"1\" class=\"dataframe\">\n",
       "  <thead>\n",
       "    <tr style=\"text-align: right;\">\n",
       "      <th></th>\n",
       "      <th>1</th>\n",
       "      <th>2</th>\n",
       "      <th>experiment_id</th>\n",
       "    </tr>\n",
       "  </thead>\n",
       "  <tbody>\n",
       "    <tr>\n",
       "      <th>SRR493816</th>\n",
       "      <td>1.848396</td>\n",
       "      <td>1.286768</td>\n",
       "      <td>background</td>\n",
       "    </tr>\n",
       "    <tr>\n",
       "      <th>SRR493817</th>\n",
       "      <td>1.990783</td>\n",
       "      <td>0.579773</td>\n",
       "      <td>background</td>\n",
       "    </tr>\n",
       "    <tr>\n",
       "      <th>SRR547975</th>\n",
       "      <td>2.150964</td>\n",
       "      <td>3.926265</td>\n",
       "      <td>background</td>\n",
       "    </tr>\n",
       "    <tr>\n",
       "      <th>SRR547973</th>\n",
       "      <td>2.045691</td>\n",
       "      <td>1.005350</td>\n",
       "      <td>background</td>\n",
       "    </tr>\n",
       "    <tr>\n",
       "      <th>SRR547968</th>\n",
       "      <td>2.227068</td>\n",
       "      <td>1.426534</td>\n",
       "      <td>background</td>\n",
       "    </tr>\n",
       "  </tbody>\n",
       "</table>\n",
       "</div>"
      ],
      "text/plain": [
       "                  1         2 experiment_id\n",
       "SRR493816  1.848396  1.286768    background\n",
       "SRR493817  1.990783  0.579773    background\n",
       "SRR547975  2.150964  3.926265    background\n",
       "SRR547973  2.045691  1.005350    background\n",
       "SRR547968  2.227068  1.426534    background"
      ]
     },
     "execution_count": 18,
     "metadata": {},
     "output_type": "execute_result"
    }
   ],
   "source": [
    "# Concatenate dataframes\n",
    "combined_PCAencoded_df = pd.concat([compendium_PCAencoded_df, \n",
    "                                    template_PCAencoded_df,\n",
    "                                    simulated_PCAencoded_df])\n",
    "\n",
    "print(combined_PCAencoded_df.shape)\n",
    "combined_PCAencoded_df.head()"
   ]
  },
  {
   "cell_type": "code",
   "execution_count": 20,
   "metadata": {},
   "outputs": [
    {
     "data": {
      "image/png": "[encoded data removed]",
      "text/plain": [
       "<Figure size 640x480 with 1 Axes>"
      ]
     },
     "metadata": {},
     "output_type": "display_data"
    },
    {
     "name": "stdout",
     "output_type": "stream",
     "text": [
      "<ggplot: (8794443754057)>\n"
     ]
    }
   ],
   "source": [
    "# Plot\n",
    "fig = ggplot(combined_PCAencoded_df, aes(x='1', y='2'))\n",
    "fig += geom_point(aes(color='experiment_id'), alpha=0.5)\n",
    "fig += labs(x ='PCA 1',\n",
    "            y = 'PCA 2',\n",
    "            title = 'PCA original data with experiments (latent space)')\n",
    "fig += theme_bw()\n",
    "fig += theme(\n",
    "    legend_title_align = \"center\",\n",
    "    plot_background=element_rect(fill='white'),\n",
    "    legend_key=element_rect(fill='white', colour='white'), \n",
    "    legend_title=element_text(family='sans-serif', size=15),\n",
    "    legend_text=element_text(family='sans-serif', size=12),\n",
    "    plot_title=element_text(family='sans-serif', size=15),\n",
    "    axis_text=element_text(family='sans-serif', size=12),\n",
    "    axis_title=element_text(family='sans-serif', size=15)\n",
    "    )\n",
    "fig += guides(colour=guide_legend(override_aes={'alpha': 1}))\n",
    "fig += scale_color_manual(['#bdbdbd', 'red', 'blue'])\n",
    "fig += geom_point(data=combined_PCAencoded_df[combined_PCAencoded_df['experiment_id'] == 'after_experiment'],\n",
    "                  alpha=0.2, \n",
    "                  color='red')\n",
    "fig += geom_point(data=combined_PCAencoded_df[combined_PCAencoded_df['experiment_id'] == 'before_experiment'],\n",
    "                  alpha=0.2, \n",
    "                  color='blue')\n",
    "\n",
    "print(fig)"
   ]
  }
 ],
 "metadata": {
  "kernelspec": {
   "display_name": "Python 3",
   "language": "python",
   "name": "python3"
  },
  "language_info": {
   "codemirror_mode": {
    "name": "ipython",
    "version": 3
   },
   "file_extension": ".py",
   "mimetype": "text/x-python",
   "name": "python",
   "nbconvert_exporter": "python",
   "pygments_lexer": "ipython3",
   "version": "3.7.9"
  }
 },
 "nbformat": 4,
 "nbformat_minor": 2
}
