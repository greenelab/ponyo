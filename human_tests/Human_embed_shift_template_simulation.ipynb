{
 "cells": [
  {
   "cell_type": "markdown",
   "metadata": {},
   "source": [
    "# Test shifting template experiments"
   ]
  },
  {
   "cell_type": "code",
   "execution_count": 1,
   "metadata": {},
   "outputs": [
    {
     "name": "stderr",
     "output_type": "stream",
     "text": [
      "Using TensorFlow backend.\n"
     ]
    },
    {
     "name": "stdout",
     "output_type": "stream",
     "text": [
      "WARNING:tensorflow:From /home/alexandra/Documents/Repos/ponyo/ponyo/helper_vae.py:21: The name tf.ConfigProto is deprecated. Please use tf.compat.v1.ConfigProto instead.\n",
      "\n",
      "WARNING:tensorflow:From /home/alexandra/Documents/Repos/ponyo/ponyo/helper_vae.py:25: The name tf.Session is deprecated. Please use tf.compat.v1.Session instead.\n",
      "\n",
      "WARNING:tensorflow:From /home/alexandra/Documents/Repos/ponyo/ponyo/helper_vae.py:25: The name tf.get_default_graph is deprecated. Please use tf.compat.v1.get_default_graph instead.\n",
      "\n"
     ]
    }
   ],
   "source": [
    "%load_ext autoreload\n",
    "%autoreload 2\n",
    "\n",
    "import os\n",
    "import sys\n",
    "import pandas as pd\n",
    "import umap\n",
    "import glob\n",
    "import pickle\n",
    "from keras.models import load_model\n",
    "from sklearn.decomposition import PCA\n",
    "from plotnine import (ggplot,\n",
    "                      labs,  \n",
    "                      geom_point,\n",
    "                      aes, \n",
    "                      ggsave, \n",
    "                      theme_bw,\n",
    "                      theme,\n",
    "                      facet_wrap,\n",
    "                      scale_color_manual,\n",
    "                      guides, \n",
    "                      guide_legend,\n",
    "                      element_blank,\n",
    "                      element_text,\n",
    "                      element_rect,\n",
    "                      element_line,\n",
    "                      coords)\n",
    "\n",
    "\n",
    "import warnings\n",
    "warnings.filterwarnings(action='ignore')\n",
    "\n",
    "from ponyo import utils, train_vae_modules, simulate_expression_data"
   ]
  },
  {
   "cell_type": "code",
   "execution_count": 2,
   "metadata": {},
   "outputs": [
    {
     "name": "stdout",
     "output_type": "stream",
     "text": [
      "WARNING:tensorflow:From /home/alexandra/Documents/Repos/ponyo/ponyo/train_vae_modules.py:56: The name tf.set_random_seed is deprecated. Please use tf.compat.v1.set_random_seed instead.\n",
      "\n"
     ]
    }
   ],
   "source": [
    "# Set seeds to get reproducible VAE trained models\n",
    "train_vae_modules.set_all_seeds()"
   ]
  },
  {
   "cell_type": "code",
   "execution_count": 3,
   "metadata": {},
   "outputs": [],
   "source": [
    "# Read in config variables\n",
    "base_dir = os.path.abspath(os.path.join(os.getcwd(),\"../\"))\n",
    "config_filename = os.path.abspath(os.path.join(base_dir,\n",
    "                                           \"human_tests\", \n",
    "                                           \"config_test_embed.tsv\"))\n",
    "params = utils.read_config(config_filename)"
   ]
  },
  {
   "cell_type": "code",
   "execution_count": 4,
   "metadata": {},
   "outputs": [],
   "source": [
    "# Load parameters\n",
    "local_dir = params[\"local_dir\"]\n",
    "dataset_name = params['dataset_name']\n",
    "raw_compendium_filename = params[\"raw_data_filename\"]\n",
    "normalized_compendium_filename = params[\"normalized_data_filename\"]\n",
    "raw_template_filename = params[\"raw_template_filename\"]\n",
    "mapped_template_filename = params[\"mapped_template_filename\"]\n",
    "normalized_template_filename = params[\"normalized_template_filename\"]\n",
    "metadata_filename = params[\"metadata_filename\"]\n",
    "latent_dim = params['latent_dim']\n",
    "scaler_filename = params['scaler_transform_filename']\n",
    "num_simulated_experiments = params['num_simulated']\n",
    "metadata_delimiter = params[\"metadata_delimiter\"]\n",
    "experiment_id_colname = params['metadata_experiment_colname']\n",
    "sample_id_colname = params['metadata_sample_colname']\n",
    "project_id = params['project_id']\n",
    "training_stats_dir = params[\"training_stats_dir\"]\n",
    "vae_model_dir = params[\"vae_model_dir\"]\n",
    "simulated_data_dir = params[\"simulated_data_dir\"]"
   ]
  },
  {
   "cell_type": "code",
   "execution_count": 5,
   "metadata": {},
   "outputs": [],
   "source": [
    "assert os.path.exists(raw_compendium_filename)"
   ]
  },
  {
   "cell_type": "markdown",
   "metadata": {},
   "source": [
    "## Setup directories"
   ]
  },
  {
   "cell_type": "code",
   "execution_count": 6,
   "metadata": {},
   "outputs": [
    {
     "name": "stdout",
     "output_type": "stream",
     "text": [
      "creating new directory: logs/\n",
      "creating new directory: models/\n",
      "creating new directory: ../test_results/\n",
      "creating new directory: ../test_results/simulated_data/\n"
     ]
    }
   ],
   "source": [
    "utils.setup_dir(config_filename)"
   ]
  },
  {
   "cell_type": "markdown",
   "metadata": {},
   "source": [
    "## Process compendium data"
   ]
  },
  {
   "cell_type": "code",
   "execution_count": 7,
   "metadata": {},
   "outputs": [
    {
     "name": "stdout",
     "output_type": "stream",
     "text": [
      "input: dataset contains 273 samples and 5000 genes\n",
      "Output: normalized dataset contains 273 samples and 5000 genes\n"
     ]
    }
   ],
   "source": [
    "train_vae_modules.normalize_expression_data(config_filename,\n",
    "                                            raw_compendium_filename,\n",
    "                                            normalized_compendium_filename)"
   ]
  },
  {
   "cell_type": "markdown",
   "metadata": {},
   "source": [
    "## Train VAE"
   ]
  },
  {
   "cell_type": "code",
   "execution_count": 8,
   "metadata": {
    "scrolled": true
   },
   "outputs": [
    {
     "name": "stdout",
     "output_type": "stream",
     "text": [
      "input dataset contains 273 samples and 5000 genes\n",
      "WARNING:tensorflow:From /home/alexandra/anaconda3/envs/test_ponyo/lib/python3.7/site-packages/tensorflow_core/python/ops/resource_variable_ops.py:1630: calling BaseResourceVariable.__init__ (from tensorflow.python.ops.resource_variable_ops) with constraint is deprecated and will be removed in a future version.\n",
      "Instructions for updating:\n",
      "If using Keras pass *_constraint arguments to layers.\n",
      "tracking <tf.Variable 'Variable:0' shape=() dtype=float32> beta\n",
      "WARNING:tensorflow:From /home/alexandra/anaconda3/envs/test_ponyo/lib/python3.7/site-packages/tensorflow_core/python/ops/nn_impl.py:183: where (from tensorflow.python.ops.array_ops) is deprecated and will be removed in a future version.\n",
      "Instructions for updating:\n",
      "Use tf.where in 2.0, which has the same broadcast rule as np.where\n",
      "WARNING:tensorflow:From /home/alexandra/anaconda3/envs/test_ponyo/lib/python3.7/site-packages/keras/backend/tensorflow_backend.py:422: The name tf.global_variables is deprecated. Please use tf.compat.v1.global_variables instead.\n",
      "\n",
      "Train on 246 samples, validate on 27 samples\n",
      "Epoch 1/10\n",
      "246/246 [==============================] - 24s 98ms/step - loss: 2340.0547 - kl_loss: 13.9695 - recons_loss: 2340.0549 - val_loss: 2576.0480 - val_kl_loss: 138.0642 - val_recons_loss: 2576.0481\n",
      "Epoch 2/10\n",
      "246/246 [==============================] - 23s 92ms/step - loss: 2167.1977 - kl_loss: 13.5955 - recons_loss: 2167.1978 - val_loss: 2336.0937 - val_kl_loss: 78.0098 - val_recons_loss: 2336.0938\n",
      "Epoch 3/10\n",
      "246/246 [==============================] - 22s 91ms/step - loss: 2154.3709 - kl_loss: 13.6479 - recons_loss: 2154.3708 - val_loss: 2209.3619 - val_kl_loss: 48.0506 - val_recons_loss: 2209.3618\n",
      "Epoch 4/10\n",
      "246/246 [==============================] - 22s 90ms/step - loss: 2145.3618 - kl_loss: 14.4900 - recons_loss: 2145.3616 - val_loss: 2146.9789 - val_kl_loss: 27.3267 - val_recons_loss: 2146.9788\n",
      "Epoch 5/10\n",
      "246/246 [==============================] - 22s 91ms/step - loss: 2141.1763 - kl_loss: 14.6993 - recons_loss: 2141.1763 - val_loss: 2128.9402 - val_kl_loss: 28.8337 - val_recons_loss: 2128.9404\n",
      "Epoch 6/10\n",
      "246/246 [==============================] - 22s 88ms/step - loss: 2136.5706 - kl_loss: 14.7797 - recons_loss: 2136.5708 - val_loss: 2104.5728 - val_kl_loss: 30.3082 - val_recons_loss: 2104.5725\n",
      "Epoch 7/10\n",
      "246/246 [==============================] - 21s 85ms/step - loss: 2121.4924 - kl_loss: 15.0327 - recons_loss: 2121.4924 - val_loss: 2111.2196 - val_kl_loss: 28.7597 - val_recons_loss: 2111.2197\n",
      "Epoch 8/10\n",
      "246/246 [==============================] - 21s 85ms/step - loss: 2122.5068 - kl_loss: 15.6916 - recons_loss: 2122.5066 - val_loss: 2084.6456 - val_kl_loss: 32.1181 - val_recons_loss: 2084.6458\n",
      "Epoch 9/10\n",
      "246/246 [==============================] - 22s 88ms/step - loss: 2089.5550 - kl_loss: 16.1744 - recons_loss: 2089.5547 - val_loss: 2115.7703 - val_kl_loss: 33.9106 - val_recons_loss: 2115.7705\n",
      "Epoch 10/10\n",
      "246/246 [==============================] - 21s 84ms/step - loss: 2093.3957 - kl_loss: 16.6980 - recons_loss: 2093.3955 - val_loss: 2072.1378 - val_kl_loss: 28.0254 - val_recons_loss: 2072.1377\n"
     ]
    },
    {
     "data": {
      "image/png": "[encoded data removed]",
      "text/plain": [
       "<Figure size 432x288 with 1 Axes>"
      ]
     },
     "metadata": {
      "needs_background": "light"
     },
     "output_type": "display_data"
    }
   ],
   "source": [
    "# Train VAE\n",
    "train_vae_modules.train_vae(config_filename,\n",
    "                            normalized_compendium_filename)"
   ]
  },
  {
   "cell_type": "markdown",
   "metadata": {},
   "source": [
    "## Process template experiment\n",
    "\n",
    "In order to simulate a new gene expression experiment, we will need to encode this experiment into the learned latent space. This requires that the feature space (i.e. genes) in the template experiment match the features in the compendium used to train the VAE model. These cells process the template experiment to be of the expected input format:\n",
    "\n",
    "* Template data is expected to be a matrix that is sample x gene\n",
    "* Template experiment is expected to have the same genes as the compendium experiment. Genes that are in the template experiment but not in the compendium are removed. Genes that are in the compendium but missing in the template experiment are added and the gene expression value is set to the median gene expression value of that gene across the samples in the compendium.\n",
    "* Template values are expected to be within the range (i.e. both the template and compendium expression measurements are estimated counts)"
   ]
  },
  {
   "cell_type": "code",
   "execution_count": 9,
   "metadata": {},
   "outputs": [
    {
     "name": "stdout",
     "output_type": "stream",
     "text": [
      "(5, 5000)\n",
      "(273, 5000)\n"
     ]
    }
   ],
   "source": [
    "simulate_expression_data.process_template_experiment(\n",
    "    raw_template_filename,\n",
    "    normalized_compendium_filename,\n",
    "    scaler_filename,\n",
    "    mapped_template_filename,\n",
    "    normalized_template_filename,\n",
    ")"
   ]
  },
  {
   "cell_type": "code",
   "execution_count": 10,
   "metadata": {},
   "outputs": [
    {
     "name": "stdout",
     "output_type": "stream",
     "text": [
      "(5, 5000)\n"
     ]
    },
    {
     "data": {
      "text/html": [
       "<div>\n",
       "<style scoped>\n",
       "    .dataframe tbody tr th:only-of-type {\n",
       "        vertical-align: middle;\n",
       "    }\n",
       "\n",
       "    .dataframe tbody tr th {\n",
       "        vertical-align: top;\n",
       "    }\n",
       "\n",
       "    .dataframe thead th {\n",
       "        text-align: right;\n",
       "    }\n",
       "</style>\n",
       "<table border=\"1\" class=\"dataframe\">\n",
       "  <thead>\n",
       "    <tr style=\"text-align: right;\">\n",
       "      <th></th>\n",
       "      <th>ENSG00000000003.14</th>\n",
       "      <th>ENSG00000000005.5</th>\n",
       "      <th>ENSG00000000419.12</th>\n",
       "      <th>ENSG00000000457.13</th>\n",
       "      <th>ENSG00000000460.16</th>\n",
       "      <th>ENSG00000000938.12</th>\n",
       "      <th>ENSG00000000971.15</th>\n",
       "      <th>ENSG00000001036.13</th>\n",
       "      <th>ENSG00000001084.10</th>\n",
       "      <th>ENSG00000001167.14</th>\n",
       "      <th>...</th>\n",
       "      <th>ENSG00000119953.12</th>\n",
       "      <th>ENSG00000119965.12</th>\n",
       "      <th>ENSG00000119969.14</th>\n",
       "      <th>ENSG00000119973.5</th>\n",
       "      <th>ENSG00000119977.20</th>\n",
       "      <th>ENSG00000119979.16</th>\n",
       "      <th>ENSG00000119986.6</th>\n",
       "      <th>ENSG00000120008.15</th>\n",
       "      <th>ENSG00000120029.12</th>\n",
       "      <th>ENSG00000120049.18</th>\n",
       "    </tr>\n",
       "  </thead>\n",
       "  <tbody>\n",
       "    <tr>\n",
       "      <th>SRR592745</th>\n",
       "      <td>52338</td>\n",
       "      <td>5</td>\n",
       "      <td>449</td>\n",
       "      <td>959</td>\n",
       "      <td>237</td>\n",
       "      <td>5</td>\n",
       "      <td>21814</td>\n",
       "      <td>1784</td>\n",
       "      <td>1228</td>\n",
       "      <td>690</td>\n",
       "      <td>...</td>\n",
       "      <td>587</td>\n",
       "      <td>256</td>\n",
       "      <td>58</td>\n",
       "      <td>0</td>\n",
       "      <td>2602</td>\n",
       "      <td>605</td>\n",
       "      <td>327</td>\n",
       "      <td>2120</td>\n",
       "      <td>1222</td>\n",
       "      <td>77</td>\n",
       "    </tr>\n",
       "    <tr>\n",
       "      <th>SRR592746</th>\n",
       "      <td>27719</td>\n",
       "      <td>2</td>\n",
       "      <td>630</td>\n",
       "      <td>429</td>\n",
       "      <td>195</td>\n",
       "      <td>45</td>\n",
       "      <td>14051</td>\n",
       "      <td>832</td>\n",
       "      <td>933</td>\n",
       "      <td>825</td>\n",
       "      <td>...</td>\n",
       "      <td>748</td>\n",
       "      <td>199</td>\n",
       "      <td>62</td>\n",
       "      <td>0</td>\n",
       "      <td>2066</td>\n",
       "      <td>458</td>\n",
       "      <td>635</td>\n",
       "      <td>1331</td>\n",
       "      <td>1236</td>\n",
       "      <td>79</td>\n",
       "    </tr>\n",
       "    <tr>\n",
       "      <th>SRR592747</th>\n",
       "      <td>34242</td>\n",
       "      <td>2</td>\n",
       "      <td>1329</td>\n",
       "      <td>487</td>\n",
       "      <td>183</td>\n",
       "      <td>4</td>\n",
       "      <td>17662</td>\n",
       "      <td>1411</td>\n",
       "      <td>1383</td>\n",
       "      <td>1015</td>\n",
       "      <td>...</td>\n",
       "      <td>1320</td>\n",
       "      <td>234</td>\n",
       "      <td>59</td>\n",
       "      <td>0</td>\n",
       "      <td>2698</td>\n",
       "      <td>568</td>\n",
       "      <td>706</td>\n",
       "      <td>1595</td>\n",
       "      <td>1558</td>\n",
       "      <td>45</td>\n",
       "    </tr>\n",
       "    <tr>\n",
       "      <th>SRR592748</th>\n",
       "      <td>11768</td>\n",
       "      <td>88</td>\n",
       "      <td>612</td>\n",
       "      <td>860</td>\n",
       "      <td>370</td>\n",
       "      <td>8</td>\n",
       "      <td>8229</td>\n",
       "      <td>1927</td>\n",
       "      <td>451</td>\n",
       "      <td>1922</td>\n",
       "      <td>...</td>\n",
       "      <td>689</td>\n",
       "      <td>349</td>\n",
       "      <td>503</td>\n",
       "      <td>1</td>\n",
       "      <td>3163</td>\n",
       "      <td>586</td>\n",
       "      <td>113</td>\n",
       "      <td>2903</td>\n",
       "      <td>1099</td>\n",
       "      <td>225</td>\n",
       "    </tr>\n",
       "    <tr>\n",
       "      <th>SRR592749</th>\n",
       "      <td>16803</td>\n",
       "      <td>713</td>\n",
       "      <td>855</td>\n",
       "      <td>799</td>\n",
       "      <td>447</td>\n",
       "      <td>4</td>\n",
       "      <td>5676</td>\n",
       "      <td>2099</td>\n",
       "      <td>379</td>\n",
       "      <td>2185</td>\n",
       "      <td>...</td>\n",
       "      <td>864</td>\n",
       "      <td>431</td>\n",
       "      <td>797</td>\n",
       "      <td>0</td>\n",
       "      <td>4314</td>\n",
       "      <td>659</td>\n",
       "      <td>128</td>\n",
       "      <td>2332</td>\n",
       "      <td>971</td>\n",
       "      <td>123</td>\n",
       "    </tr>\n",
       "  </tbody>\n",
       "</table>\n",
       "<p>5 rows × 5000 columns</p>\n",
       "</div>"
      ],
      "text/plain": [
       "           ENSG00000000003.14  ENSG00000000005.5  ENSG00000000419.12  \\\n",
       "SRR592745               52338                  5                 449   \n",
       "SRR592746               27719                  2                 630   \n",
       "SRR592747               34242                  2                1329   \n",
       "SRR592748               11768                 88                 612   \n",
       "SRR592749               16803                713                 855   \n",
       "\n",
       "           ENSG00000000457.13  ENSG00000000460.16  ENSG00000000938.12  \\\n",
       "SRR592745                 959                 237                   5   \n",
       "SRR592746                 429                 195                  45   \n",
       "SRR592747                 487                 183                   4   \n",
       "SRR592748                 860                 370                   8   \n",
       "SRR592749                 799                 447                   4   \n",
       "\n",
       "           ENSG00000000971.15  ENSG00000001036.13  ENSG00000001084.10  \\\n",
       "SRR592745               21814                1784                1228   \n",
       "SRR592746               14051                 832                 933   \n",
       "SRR592747               17662                1411                1383   \n",
       "SRR592748                8229                1927                 451   \n",
       "SRR592749                5676                2099                 379   \n",
       "\n",
       "           ENSG00000001167.14  ...  ENSG00000119953.12  ENSG00000119965.12  \\\n",
       "SRR592745                 690  ...                 587                 256   \n",
       "SRR592746                 825  ...                 748                 199   \n",
       "SRR592747                1015  ...                1320                 234   \n",
       "SRR592748                1922  ...                 689                 349   \n",
       "SRR592749                2185  ...                 864                 431   \n",
       "\n",
       "           ENSG00000119969.14  ENSG00000119973.5  ENSG00000119977.20  \\\n",
       "SRR592745                  58                  0                2602   \n",
       "SRR592746                  62                  0                2066   \n",
       "SRR592747                  59                  0                2698   \n",
       "SRR592748                 503                  1                3163   \n",
       "SRR592749                 797                  0                4314   \n",
       "\n",
       "           ENSG00000119979.16  ENSG00000119986.6  ENSG00000120008.15  \\\n",
       "SRR592745                 605                327                2120   \n",
       "SRR592746                 458                635                1331   \n",
       "SRR592747                 568                706                1595   \n",
       "SRR592748                 586                113                2903   \n",
       "SRR592749                 659                128                2332   \n",
       "\n",
       "           ENSG00000120029.12  ENSG00000120049.18  \n",
       "SRR592745                1222                  77  \n",
       "SRR592746                1236                  79  \n",
       "SRR592747                1558                  45  \n",
       "SRR592748                1099                 225  \n",
       "SRR592749                 971                 123  \n",
       "\n",
       "[5 rows x 5000 columns]"
      ]
     },
     "execution_count": 10,
     "metadata": {},
     "output_type": "execute_result"
    }
   ],
   "source": [
    "template = pd.read_csv(raw_template_filename, sep=\"\\t\", index_col=0, header=0)\n",
    "print(template.shape)\n",
    "template.head()"
   ]
  },
  {
   "cell_type": "markdown",
   "metadata": {},
   "source": [
    "## Simulation"
   ]
  },
  {
   "cell_type": "code",
   "execution_count": 11,
   "metadata": {
    "scrolled": false
   },
   "outputs": [],
   "source": [
    "# Run simulation\n",
    "simulate_expression_data.embed_shift_template_experiment(\n",
    "    normalized_compendium_filename,\n",
    "    normalized_template_filename,\n",
    "    vae_model_dir,\n",
    "    project_id,\n",
    "    scaler_filename,\n",
    "    local_dir,\n",
    "    latent_dim,\n",
    "    num_simulated_experiments,\n",
    "    simulated_data_dir,\n",
    ")"
   ]
  },
  {
   "cell_type": "markdown",
   "metadata": {},
   "source": [
    "## Visualize latent transform compendium"
   ]
  },
  {
   "cell_type": "code",
   "execution_count": 12,
   "metadata": {},
   "outputs": [],
   "source": [
    "# Load VAE models\n",
    "model_encoder_filename = glob.glob(os.path.join(\n",
    "        vae_model_dir,\n",
    "        \"*_encoder_model.h5\"))[0]\n",
    "\n",
    "weights_encoder_filename = glob.glob(os.path.join(\n",
    "    vae_model_dir,\n",
    "    \"*_encoder_weights.h5\"))[0]\n",
    "\n",
    "model_decoder_filename = glob.glob(os.path.join(\n",
    "    vae_model_dir,\n",
    "    \"*_decoder_model.h5\"))[0]\n",
    "\n",
    "weights_decoder_filename = glob.glob(os.path.join(\n",
    "    vae_model_dir,\n",
    "    \"*_decoder_weights.h5\"))[0]\n",
    "\n",
    "# Load saved models\n",
    "loaded_model = load_model(model_encoder_filename)\n",
    "loaded_decode_model = load_model(model_decoder_filename)\n",
    "\n",
    "loaded_model.load_weights(weights_encoder_filename)\n",
    "loaded_decode_model.load_weights(weights_decoder_filename)"
   ]
  },
  {
   "cell_type": "code",
   "execution_count": 13,
   "metadata": {},
   "outputs": [],
   "source": [
    "pca = PCA(n_components=2)"
   ]
  },
  {
   "cell_type": "code",
   "execution_count": 14,
   "metadata": {},
   "outputs": [],
   "source": [
    "# Read data\n",
    "normalized_compendium = pd.read_csv(normalized_compendium_filename, header=0, sep=\"\\t\", index_col=0)"
   ]
  },
  {
   "cell_type": "code",
   "execution_count": 15,
   "metadata": {},
   "outputs": [],
   "source": [
    "# Encode normalized compendium into latent space\n",
    "compendium_encoded = loaded_model.predict_on_batch(normalized_compendium)\n",
    "\n",
    "compendium_encoded_df = pd.DataFrame(data=compendium_encoded, \n",
    "                                     index=normalized_compendium.index)\n",
    "\n",
    "# Get and save PCA model\n",
    "model = pca.fit(compendium_encoded_df)\n",
    "\n",
    "compendium_PCAencoded = model.transform(compendium_encoded_df)\n",
    "\n",
    "compendium_PCAencoded_df = pd.DataFrame(data=compendium_PCAencoded,\n",
    "                                         index=compendium_encoded_df.index,\n",
    "                                         columns=['1','2'])\n",
    "\n",
    "# Add label\n",
    "compendium_PCAencoded_df['experiment_id'] = 'background'"
   ]
  },
  {
   "cell_type": "code",
   "execution_count": 16,
   "metadata": {},
   "outputs": [],
   "source": [
    "# Embedding of real template experiment (encoded)\n",
    "template_filename = os.path.join(local_dir,\n",
    "    \"template_normalized_data_\"+project_id+\"_test.tsv\")\n",
    "\n",
    "template_data = pd.read_csv(template_filename, header=0, sep='\\t', index_col=0)\n",
    "\n",
    "# Encode template experiment into latent space\n",
    "template_encoded = loaded_model.predict_on_batch(template_data)\n",
    "template_encoded_df = pd.DataFrame(data=template_encoded,\n",
    "                                   index=template_data.index)\n",
    "\n",
    "template_PCAencoded = model.transform(template_encoded_df)\n",
    "\n",
    "template_PCAencoded_df = pd.DataFrame(data=template_PCAencoded,\n",
    "                                         index=template_encoded_df.index,\n",
    "                                         columns=['1','2'])\n",
    "\n",
    "# Add back label column\n",
    "template_PCAencoded_df['experiment_id'] = 'template_experiment'"
   ]
  },
  {
   "cell_type": "code",
   "execution_count": 17,
   "metadata": {},
   "outputs": [],
   "source": [
    "# Embedding of simulated experiment (encoded)\n",
    "encoded_simulated_filename = os.path.join(simulated_data_dir,\n",
    "    \"selected_simulated_encoded_data_\"+project_id+\"_1.tsv\")\n",
    "\n",
    "simulated_encoded_df = pd.read_csv(encoded_simulated_filename,header=0, sep='\\t', index_col=0)\n",
    "\n",
    "simulated_PCAencoded = model.transform(simulated_encoded_df)\n",
    "\n",
    "simulated_PCAencoded_df = pd.DataFrame(data=simulated_PCAencoded,\n",
    "                                         index=simulated_encoded_df.index,\n",
    "                                         columns=['1','2'])\n",
    "\n",
    "# Add back label column\n",
    "simulated_PCAencoded_df['experiment_id'] = 'simulated_experiment'"
   ]
  },
  {
   "cell_type": "code",
   "execution_count": 18,
   "metadata": {},
   "outputs": [
    {
     "name": "stdout",
     "output_type": "stream",
     "text": [
      "(283, 3)\n"
     ]
    },
    {
     "data": {
      "text/html": [
       "<div>\n",
       "<style scoped>\n",
       "    .dataframe tbody tr th:only-of-type {\n",
       "        vertical-align: middle;\n",
       "    }\n",
       "\n",
       "    .dataframe tbody tr th {\n",
       "        vertical-align: top;\n",
       "    }\n",
       "\n",
       "    .dataframe thead th {\n",
       "        text-align: right;\n",
       "    }\n",
       "</style>\n",
       "<table border=\"1\" class=\"dataframe\">\n",
       "  <thead>\n",
       "    <tr style=\"text-align: right;\">\n",
       "      <th></th>\n",
       "      <th>1</th>\n",
       "      <th>2</th>\n",
       "      <th>experiment_id</th>\n",
       "    </tr>\n",
       "  </thead>\n",
       "  <tbody>\n",
       "    <tr>\n",
       "      <th>SRR493816</th>\n",
       "      <td>2.039330</td>\n",
       "      <td>-0.705364</td>\n",
       "      <td>background</td>\n",
       "    </tr>\n",
       "    <tr>\n",
       "      <th>SRR493817</th>\n",
       "      <td>2.281067</td>\n",
       "      <td>-0.240048</td>\n",
       "      <td>background</td>\n",
       "    </tr>\n",
       "    <tr>\n",
       "      <th>SRR547975</th>\n",
       "      <td>1.517259</td>\n",
       "      <td>-2.206534</td>\n",
       "      <td>background</td>\n",
       "    </tr>\n",
       "    <tr>\n",
       "      <th>SRR547973</th>\n",
       "      <td>1.778050</td>\n",
       "      <td>-0.918977</td>\n",
       "      <td>background</td>\n",
       "    </tr>\n",
       "    <tr>\n",
       "      <th>SRR547968</th>\n",
       "      <td>2.048751</td>\n",
       "      <td>-1.149199</td>\n",
       "      <td>background</td>\n",
       "    </tr>\n",
       "  </tbody>\n",
       "</table>\n",
       "</div>"
      ],
      "text/plain": [
       "                  1         2 experiment_id\n",
       "SRR493816  2.039330 -0.705364    background\n",
       "SRR493817  2.281067 -0.240048    background\n",
       "SRR547975  1.517259 -2.206534    background\n",
       "SRR547973  1.778050 -0.918977    background\n",
       "SRR547968  2.048751 -1.149199    background"
      ]
     },
     "execution_count": 18,
     "metadata": {},
     "output_type": "execute_result"
    }
   ],
   "source": [
    "# Concatenate dataframes\n",
    "combined_PCAencoded_df = pd.concat([compendium_PCAencoded_df, \n",
    "                                    template_PCAencoded_df,\n",
    "                                    simulated_PCAencoded_df])\n",
    "\n",
    "print(combined_PCAencoded_df.shape)\n",
    "combined_PCAencoded_df.head()"
   ]
  },
  {
   "cell_type": "code",
   "execution_count": 19,
   "metadata": {},
   "outputs": [
    {
     "data": {
      "image/png": "[encoded data removed]",
      "text/plain": [
       "<Figure size 640x480 with 1 Axes>"
      ]
     },
     "metadata": {},
     "output_type": "display_data"
    },
    {
     "name": "stdout",
     "output_type": "stream",
     "text": [
      "<ggplot: (8782958168041)>\n"
     ]
    }
   ],
   "source": [
    "# Plot\n",
    "fig = ggplot(combined_PCAencoded_df, aes(x='1', y='2'))\n",
    "fig += geom_point(aes(color='experiment_id'), alpha=0.2)\n",
    "fig += labs(x ='PCA 1',\n",
    "            y = 'PCA 2',\n",
    "            title = 'PCA original data with experiments (latent space)')\n",
    "fig += theme_bw()\n",
    "fig += theme(\n",
    "    legend_title_align = \"center\",\n",
    "    plot_background=element_rect(fill='white'),\n",
    "    legend_key=element_rect(fill='white', colour='white'), \n",
    "    legend_title=element_text(family='sans-serif', size=15),\n",
    "    legend_text=element_text(family='sans-serif', size=12),\n",
    "    plot_title=element_text(family='sans-serif', size=15),\n",
    "    axis_text=element_text(family='sans-serif', size=12),\n",
    "    axis_title=element_text(family='sans-serif', size=15)\n",
    "    )\n",
    "fig += guides(colour=guide_legend(override_aes={'alpha': 1}))\n",
    "fig += scale_color_manual(['#bdbdbd', 'red', 'blue'])\n",
    "fig += geom_point(data=combined_PCAencoded_df[combined_PCAencoded_df['experiment_id'] == 'template_experiment'],\n",
    "                  alpha=0.2, \n",
    "                  color='blue')\n",
    "fig += geom_point(data=combined_PCAencoded_df[combined_PCAencoded_df['experiment_id'] == 'simulated_experiment'],\n",
    "                  alpha=0.1, \n",
    "                  color='red')\n",
    "\n",
    "print(fig)"
   ]
  }
 ],
 "metadata": {
  "kernelspec": {
   "display_name": "Python 3",
   "language": "python",
   "name": "python3"
  },
  "language_info": {
   "codemirror_mode": {
    "name": "ipython",
    "version": 3
   },
   "file_extension": ".py",
   "mimetype": "text/x-python",
   "name": "python",
   "nbconvert_exporter": "python",
   "pygments_lexer": "ipython3",
   "version": "3.7.9"
  }
 },
 "nbformat": 4,
 "nbformat_minor": 2
}
