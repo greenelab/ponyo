{
 "cells": [
  {
   "cell_type": "markdown",
   "metadata": {},
   "source": [
    "# Test shifting template experiments"
   ]
  },
  {
   "cell_type": "code",
   "execution_count": 1,
   "metadata": {},
   "outputs": [
    {
     "name": "stderr",
     "output_type": "stream",
     "text": [
      "Using TensorFlow backend.\n"
     ]
    },
    {
     "name": "stdout",
     "output_type": "stream",
     "text": [
      "WARNING:tensorflow:From /home/alexandra/Documents/Repos/ponyo/ponyo/helper_vae.py:21: The name tf.ConfigProto is deprecated. Please use tf.compat.v1.ConfigProto instead.\n",
      "\n",
      "WARNING:tensorflow:From /home/alexandra/Documents/Repos/ponyo/ponyo/helper_vae.py:25: The name tf.Session is deprecated. Please use tf.compat.v1.Session instead.\n",
      "\n",
      "WARNING:tensorflow:From /home/alexandra/Documents/Repos/ponyo/ponyo/helper_vae.py:25: The name tf.get_default_graph is deprecated. Please use tf.compat.v1.get_default_graph instead.\n",
      "\n"
     ]
    }
   ],
   "source": [
    "%load_ext autoreload\n",
    "%autoreload 2\n",
    "\n",
    "import os\n",
    "import sys\n",
    "import pandas as pd\n",
    "import umap\n",
    "import glob\n",
    "import pickle\n",
    "from keras.models import load_model\n",
    "from sklearn.decomposition import PCA\n",
    "from plotnine import (ggplot,\n",
    "                      labs,  \n",
    "                      geom_point,\n",
    "                      aes, \n",
    "                      ggsave, \n",
    "                      theme_bw,\n",
    "                      theme,\n",
    "                      facet_wrap,\n",
    "                      scale_color_manual,\n",
    "                      guides, \n",
    "                      guide_legend,\n",
    "                      element_blank,\n",
    "                      element_text,\n",
    "                      element_rect,\n",
    "                      element_line,\n",
    "                      coords)\n",
    "\n",
    "\n",
    "import warnings\n",
    "warnings.filterwarnings(action='ignore')\n",
    "\n",
    "from ponyo import utils, train_vae_modules, simulate_expression_data"
   ]
  },
  {
   "cell_type": "code",
   "execution_count": 2,
   "metadata": {},
   "outputs": [
    {
     "name": "stdout",
     "output_type": "stream",
     "text": [
      "WARNING:tensorflow:From /home/alexandra/Documents/Repos/ponyo/ponyo/train_vae_modules.py:56: The name tf.set_random_seed is deprecated. Please use tf.compat.v1.set_random_seed instead.\n",
      "\n"
     ]
    }
   ],
   "source": [
    "# Set seeds to get reproducible VAE trained models\n",
    "train_vae_modules.set_all_seeds()"
   ]
  },
  {
   "cell_type": "code",
   "execution_count": 3,
   "metadata": {},
   "outputs": [],
   "source": [
    "# Read in config variables\n",
    "base_dir = os.path.abspath(os.path.join(os.getcwd(),\"../\"))\n",
    "config_filename = os.path.abspath(os.path.join(base_dir,\n",
    "                                           \"human_tests\", \n",
    "                                           \"config_test_human.tsv\"))\n",
    "params = utils.read_config(config_filename)"
   ]
  },
  {
   "cell_type": "code",
   "execution_count": 4,
   "metadata": {},
   "outputs": [],
   "source": [
    "# Load parameters\n",
    "local_dir = params[\"local_dir\"]\n",
    "dataset_name = params['dataset_name']\n",
    "analysis_name = params[\"simulation_type\"]\n",
    "rpkm_data_filename = params[\"raw_data_filename\"]\n",
    "normalized_data_filename = params[\"normalized_data_filename\"]\n",
    "metadata_filename = params[\"metadata_filename\"]\n",
    "NN_architecture = params['NN_architecture']\n",
    "latent_dim = params['latent_dim']\n",
    "scaler_filename = params['scaler_transform_filename']\n",
    "num_runs = params['num_simulated']\n",
    "metadata_delimiter = params[\"metadata_delimiter\"]\n",
    "experiment_id_colname = params['metadata_experiment_colname']\n",
    "sample_id_colname = params['metadata_sample_colname']\n",
    "project_id = params['project_id']\n",
    "\n",
    "NN_dir = os.path.join(\n",
    "    base_dir, \n",
    "    dataset_name, \n",
    "    \"models\", \n",
    "    NN_architecture)"
   ]
  },
  {
   "cell_type": "code",
   "execution_count": 5,
   "metadata": {},
   "outputs": [],
   "source": [
    "assert os.path.exists(rpkm_data_filename)"
   ]
  },
  {
   "cell_type": "markdown",
   "metadata": {},
   "source": [
    "## Setup directories"
   ]
  },
  {
   "cell_type": "code",
   "execution_count": 6,
   "metadata": {},
   "outputs": [],
   "source": [
    "utils.setup_dir(config_filename)"
   ]
  },
  {
   "cell_type": "markdown",
   "metadata": {},
   "source": [
    "## Pre-process data"
   ]
  },
  {
   "cell_type": "code",
   "execution_count": 7,
   "metadata": {},
   "outputs": [
    {
     "name": "stdout",
     "output_type": "stream",
     "text": [
      "input: dataset contains 50 samples and 5000 genes\n",
      "Output: normalized dataset contains 50 samples and 5000 genes\n"
     ]
    }
   ],
   "source": [
    "train_vae_modules.normalize_expression_data(base_dir,\n",
    "                                            config_filename,\n",
    "                                            rpkm_data_filename,\n",
    "                                            normalized_data_filename)"
   ]
  },
  {
   "cell_type": "markdown",
   "metadata": {},
   "source": [
    "## Train VAE"
   ]
  },
  {
   "cell_type": "code",
   "execution_count": 8,
   "metadata": {},
   "outputs": [],
   "source": [
    "# Directory containing log information from VAE training\n",
    "vae_log_dir = os.path.join(\n",
    "    base_dir, \n",
    "    dataset_name,\n",
    "    \"logs\",\n",
    "    NN_architecture)"
   ]
  },
  {
   "cell_type": "code",
   "execution_count": 9,
   "metadata": {
    "scrolled": true
   },
   "outputs": [
    {
     "name": "stdout",
     "output_type": "stream",
     "text": [
      "input dataset contains 50 samples and 5000 genes\n",
      "WARNING:tensorflow:From /home/alexandra/anaconda3/envs/test_ponyo/lib/python3.7/site-packages/tensorflow_core/python/ops/resource_variable_ops.py:1630: calling BaseResourceVariable.__init__ (from tensorflow.python.ops.resource_variable_ops) with constraint is deprecated and will be removed in a future version.\n",
      "Instructions for updating:\n",
      "If using Keras pass *_constraint arguments to layers.\n",
      "tracking <tf.Variable 'Variable:0' shape=() dtype=float32> beta\n",
      "WARNING:tensorflow:From /home/alexandra/anaconda3/envs/test_ponyo/lib/python3.7/site-packages/tensorflow_core/python/ops/nn_impl.py:183: where (from tensorflow.python.ops.array_ops) is deprecated and will be removed in a future version.\n",
      "Instructions for updating:\n",
      "Use tf.where in 2.0, which has the same broadcast rule as np.where\n",
      "WARNING:tensorflow:From /home/alexandra/anaconda3/envs/test_ponyo/lib/python3.7/site-packages/keras/backend/tensorflow_backend.py:422: The name tf.global_variables is deprecated. Please use tf.compat.v1.global_variables instead.\n",
      "\n",
      "Train on 45 samples, validate on 5 samples\n",
      "Epoch 1/10\n",
      "45/45 [==============================] - 5s 109ms/step - loss: 2510.3052 - val_loss: 2202.2642\n",
      "Epoch 2/10\n",
      "45/45 [==============================] - 4s 80ms/step - loss: 1668.0350 - val_loss: 1887.4274\n",
      "Epoch 3/10\n",
      "45/45 [==============================] - 4s 79ms/step - loss: 1555.4765 - val_loss: 1699.6106\n",
      "Epoch 4/10\n",
      "45/45 [==============================] - 4s 80ms/step - loss: 1546.7784 - val_loss: 1721.3652\n",
      "Epoch 5/10\n",
      "45/45 [==============================] - 4s 79ms/step - loss: 1464.9972 - val_loss: 1669.0635\n",
      "Epoch 6/10\n",
      "45/45 [==============================] - 4s 81ms/step - loss: 1448.0171 - val_loss: 1412.8141\n",
      "Epoch 7/10\n",
      "45/45 [==============================] - 4s 80ms/step - loss: 1491.7861 - val_loss: 1403.7571\n",
      "Epoch 8/10\n",
      "45/45 [==============================] - 4s 80ms/step - loss: 1428.9717 - val_loss: 1322.2233\n",
      "Epoch 9/10\n",
      "45/45 [==============================] - 4s 81ms/step - loss: 1405.8313 - val_loss: 1424.0236\n",
      "Epoch 10/10\n",
      "45/45 [==============================] - 4s 80ms/step - loss: 1325.3066 - val_loss: 1101.1403\n"
     ]
    },
    {
     "data": {
      "image/png": "[encoded data removed]",
      "text/plain": [
       "<Figure size 432x288 with 1 Axes>"
      ]
     },
     "metadata": {
      "needs_background": "light"
     },
     "output_type": "display_data"
    }
   ],
   "source": [
    "# Train VAE\n",
    "train_vae_modules.train_vae(config_filename,\n",
    "                            normalized_data_filename)"
   ]
  },
  {
   "cell_type": "markdown",
   "metadata": {},
   "source": [
    "## Shift template experiment"
   ]
  },
  {
   "cell_type": "code",
   "execution_count": 10,
   "metadata": {},
   "outputs": [],
   "source": [
    "#tmp result dir\n",
    "tmp = os.path.join(local_dir, \"pseudo_experiment\")\n",
    "os.makedirs(tmp, exist_ok=True)"
   ]
  },
  {
   "cell_type": "code",
   "execution_count": 11,
   "metadata": {},
   "outputs": [],
   "source": [
    "# Load pickled file\n",
    "scaler = pickle.load(open(scaler_filename, \"rb\"))"
   ]
  },
  {
   "cell_type": "code",
   "execution_count": 12,
   "metadata": {
    "scrolled": false
   },
   "outputs": [],
   "source": [
    "# Run simulation\n",
    "simulate_expression_data.shift_template_experiment(\n",
    "    normalized_data_filename,\n",
    "    NN_architecture,\n",
    "    latent_dim,\n",
    "    dataset_name,\n",
    "    scaler,\n",
    "    metadata_filename,\n",
    "    metadata_delimiter,\n",
    "    experiment_id_colname,\n",
    "    sample_id_colname,\n",
    "    project_id,\n",
    "    local_dir,\n",
    "    base_dir,\n",
    "    num_runs)"
   ]
  },
  {
   "cell_type": "markdown",
   "metadata": {},
   "source": [
    "## Visualize latent transform compendium"
   ]
  },
  {
   "cell_type": "code",
   "execution_count": 13,
   "metadata": {},
   "outputs": [],
   "source": [
    "# Load VAE models\n",
    "model_encoder_filename = glob.glob(os.path.join(\n",
    "        NN_dir,\n",
    "        \"*_encoder_model.h5\"))[0]\n",
    "\n",
    "weights_encoder_filename = glob.glob(os.path.join(\n",
    "    NN_dir,\n",
    "    \"*_encoder_weights.h5\"))[0]\n",
    "\n",
    "model_decoder_filename = glob.glob(os.path.join(\n",
    "    NN_dir,\n",
    "    \"*_decoder_model.h5\"))[0]\n",
    "\n",
    "weights_decoder_filename = glob.glob(os.path.join(\n",
    "    NN_dir,\n",
    "    \"*_decoder_weights.h5\"))[0]\n",
    "\n",
    "# Load saved models\n",
    "loaded_model = load_model(model_encoder_filename)\n",
    "loaded_decode_model = load_model(model_decoder_filename)\n",
    "\n",
    "loaded_model.load_weights(weights_encoder_filename)\n",
    "loaded_decode_model.load_weights(weights_decoder_filename)"
   ]
  },
  {
   "cell_type": "code",
   "execution_count": 14,
   "metadata": {},
   "outputs": [],
   "source": [
    "pca = PCA(n_components=2)"
   ]
  },
  {
   "cell_type": "code",
   "execution_count": 15,
   "metadata": {},
   "outputs": [],
   "source": [
    "# Read data\n",
    "normalized_compendium = pd.read_csv(normalized_data_filename, header=0, sep=\"\\t\", index_col=0)"
   ]
  },
  {
   "cell_type": "code",
   "execution_count": 16,
   "metadata": {},
   "outputs": [],
   "source": [
    "# Encode normalized compendium into latent space\n",
    "compendium_encoded = loaded_model.predict_on_batch(normalized_compendium)\n",
    "\n",
    "compendium_encoded_df = pd.DataFrame(data=compendium_encoded, \n",
    "                                     index=normalized_compendium.index)\n",
    "\n",
    "# Get and save PCA model\n",
    "model = pca.fit(compendium_encoded_df)\n",
    "\n",
    "compendium_PCAencoded = model.transform(compendium_encoded_df)\n",
    "\n",
    "compendium_PCAencoded_df = pd.DataFrame(data=compendium_PCAencoded,\n",
    "                                         index=compendium_encoded_df.index,\n",
    "                                         columns=['1','2'])\n",
    "\n",
    "# Add label\n",
    "compendium_PCAencoded_df['experiment_id'] = 'background'"
   ]
  },
  {
   "cell_type": "code",
   "execution_count": 17,
   "metadata": {},
   "outputs": [],
   "source": [
    "# Embedding of real template experiment (encoded)\n",
    "template_filename = os.path.join(local_dir,\n",
    "    \"pseudo_experiment\",\n",
    "    \"template_normalized_data_\"+project_id+\"_test.txt\")\n",
    "\n",
    "template_data = pd.read_csv(template_filename, header=0, sep='\\t', index_col=0)\n",
    "\n",
    "# Encode template experiment into latent space\n",
    "template_encoded = loaded_model.predict_on_batch(template_data)\n",
    "template_encoded_df = pd.DataFrame(data=template_encoded,\n",
    "                                   index=template_data.index)\n",
    "\n",
    "template_PCAencoded = model.transform(template_encoded_df)\n",
    "\n",
    "template_PCAencoded_df = pd.DataFrame(data=template_PCAencoded,\n",
    "                                         index=template_encoded_df.index,\n",
    "                                         columns=['1','2'])\n",
    "\n",
    "# Add back label column\n",
    "template_PCAencoded_df['experiment_id'] = 'template_experiment'"
   ]
  },
  {
   "cell_type": "code",
   "execution_count": 18,
   "metadata": {},
   "outputs": [],
   "source": [
    "# Embedding of simulated experiment (encoded)\n",
    "encoded_simulated_filename = os.path.join(local_dir,\n",
    "    \"pseudo_experiment\",\n",
    "    \"selected_simulated_encoded_data_\"+project_id+\"_1.txt\")\n",
    "\n",
    "simulated_encoded_df = pd.read_csv(encoded_simulated_filename,header=0, sep='\\t', index_col=0)\n",
    "\n",
    "simulated_PCAencoded = model.transform(simulated_encoded_df)\n",
    "\n",
    "simulated_PCAencoded_df = pd.DataFrame(data=simulated_PCAencoded,\n",
    "                                         index=simulated_encoded_df.index,\n",
    "                                         columns=['1','2'])\n",
    "\n",
    "# Add back label column\n",
    "simulated_PCAencoded_df['experiment_id'] = 'simulated_experiment'"
   ]
  },
  {
   "cell_type": "code",
   "execution_count": 19,
   "metadata": {},
   "outputs": [
    {
     "name": "stdout",
     "output_type": "stream",
     "text": [
      "(60, 3)\n"
     ]
    },
    {
     "data": {
      "text/html": [
       "<div>\n",
       "<style scoped>\n",
       "    .dataframe tbody tr th:only-of-type {\n",
       "        vertical-align: middle;\n",
       "    }\n",
       "\n",
       "    .dataframe tbody tr th {\n",
       "        vertical-align: top;\n",
       "    }\n",
       "\n",
       "    .dataframe thead th {\n",
       "        text-align: right;\n",
       "    }\n",
       "</style>\n",
       "<table border=\"1\" class=\"dataframe\">\n",
       "  <thead>\n",
       "    <tr style=\"text-align: right;\">\n",
       "      <th></th>\n",
       "      <th>1</th>\n",
       "      <th>2</th>\n",
       "      <th>experiment_id</th>\n",
       "    </tr>\n",
       "  </thead>\n",
       "  <tbody>\n",
       "    <tr>\n",
       "      <th>SRR592745</th>\n",
       "      <td>5.373803</td>\n",
       "      <td>6.750362</td>\n",
       "      <td>background</td>\n",
       "    </tr>\n",
       "    <tr>\n",
       "      <th>SRR592746</th>\n",
       "      <td>3.451852</td>\n",
       "      <td>6.062799</td>\n",
       "      <td>background</td>\n",
       "    </tr>\n",
       "    <tr>\n",
       "      <th>SRR592747</th>\n",
       "      <td>5.271521</td>\n",
       "      <td>7.303085</td>\n",
       "      <td>background</td>\n",
       "    </tr>\n",
       "    <tr>\n",
       "      <th>SRR592748</th>\n",
       "      <td>6.312080</td>\n",
       "      <td>6.053687</td>\n",
       "      <td>background</td>\n",
       "    </tr>\n",
       "    <tr>\n",
       "      <th>SRR592749</th>\n",
       "      <td>6.477725</td>\n",
       "      <td>5.651036</td>\n",
       "      <td>background</td>\n",
       "    </tr>\n",
       "  </tbody>\n",
       "</table>\n",
       "</div>"
      ],
      "text/plain": [
       "                  1         2 experiment_id\n",
       "SRR592745  5.373803  6.750362    background\n",
       "SRR592746  3.451852  6.062799    background\n",
       "SRR592747  5.271521  7.303085    background\n",
       "SRR592748  6.312080  6.053687    background\n",
       "SRR592749  6.477725  5.651036    background"
      ]
     },
     "execution_count": 19,
     "metadata": {},
     "output_type": "execute_result"
    }
   ],
   "source": [
    "# Concatenate dataframes\n",
    "combined_PCAencoded_df = pd.concat([compendium_PCAencoded_df, \n",
    "                                    template_PCAencoded_df,\n",
    "                                    simulated_PCAencoded_df])\n",
    "\n",
    "print(combined_PCAencoded_df.shape)\n",
    "combined_PCAencoded_df.head()"
   ]
  },
  {
   "cell_type": "code",
   "execution_count": 20,
   "metadata": {},
   "outputs": [
    {
     "data": {
      "image/png": "[encoded data removed]",
      "text/plain": [
       "<Figure size 640x480 with 1 Axes>"
      ]
     },
     "metadata": {},
     "output_type": "display_data"
    },
    {
     "name": "stdout",
     "output_type": "stream",
     "text": [
      "<ggplot: (8740851343077)>\n"
     ]
    }
   ],
   "source": [
    "# Plot\n",
    "fig = ggplot(combined_PCAencoded_df, aes(x='1', y='2'))\n",
    "fig += geom_point(aes(color='experiment_id'), alpha=0.2)\n",
    "fig += labs(x ='PCA 1',\n",
    "            y = 'PCA 2',\n",
    "            title = 'PCA original data with experiments (latent space)')\n",
    "fig += theme_bw()\n",
    "fig += theme(\n",
    "    legend_title_align = \"center\",\n",
    "    plot_background=element_rect(fill='white'),\n",
    "    legend_key=element_rect(fill='white', colour='white'), \n",
    "    legend_title=element_text(family='sans-serif', size=15),\n",
    "    legend_text=element_text(family='sans-serif', size=12),\n",
    "    plot_title=element_text(family='sans-serif', size=15),\n",
    "    axis_text=element_text(family='sans-serif', size=12),\n",
    "    axis_title=element_text(family='sans-serif', size=15)\n",
    "    )\n",
    "fig += guides(colour=guide_legend(override_aes={'alpha': 1}))\n",
    "fig += scale_color_manual(['#bdbdbd', 'red', 'blue'])\n",
    "fig += geom_point(data=combined_PCAencoded_df[combined_PCAencoded_df['experiment_id'] == 'template_experiment'],\n",
    "                  alpha=0.2, \n",
    "                  color='blue')\n",
    "fig += geom_point(data=combined_PCAencoded_df[combined_PCAencoded_df['experiment_id'] == 'simulated_experiment'],\n",
    "                  alpha=0.1, \n",
    "                  color='red')\n",
    "\n",
    "print(fig)"
   ]
  }
 ],
 "metadata": {
  "kernelspec": {
   "display_name": "Python 3",
   "language": "python",
   "name": "python3"
  },
  "language_info": {
   "codemirror_mode": {
    "name": "ipython",
    "version": 3
   },
   "file_extension": ".py",
   "mimetype": "text/x-python",
   "name": "python",
   "nbconvert_exporter": "python",
   "pygments_lexer": "ipython3",
   "version": "3.7.9"
  }
 },
 "nbformat": 4,
 "nbformat_minor": 2
}
