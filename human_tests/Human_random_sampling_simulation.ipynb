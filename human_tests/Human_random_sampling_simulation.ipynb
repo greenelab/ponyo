{
 "cells": [
  {
   "cell_type": "markdown",
   "metadata": {},
   "source": [
    "# Test simulating compendia by random sampling"
   ]
  },
  {
   "cell_type": "code",
   "execution_count": 1,
   "metadata": {},
   "outputs": [
    {
     "name": "stderr",
     "output_type": "stream",
     "text": [
      "Using TensorFlow backend.\n"
     ]
    }
   ],
   "source": [
    "%load_ext autoreload\n",
    "%autoreload 2\n",
    "\n",
    "import os\n",
    "import sys\n",
    "import pandas as pd\n",
    "import numpy as np\n",
    "import random\n",
    "import umap\n",
    "from plotnine import (ggplot,\n",
    "                      labs,  \n",
    "                      geom_point,\n",
    "                      aes, \n",
    "                      ggsave, \n",
    "                      theme_bw,\n",
    "                      theme,\n",
    "                      facet_wrap,\n",
    "                      scale_color_manual,\n",
    "                      guides, \n",
    "                      guide_legend,\n",
    "                      element_blank,\n",
    "                      element_text,\n",
    "                      element_rect,\n",
    "                      element_line,\n",
    "                      coords)\n",
    "\n",
    "\n",
    "import warnings\n",
    "warnings.filterwarnings(action='ignore')\n",
    "\n",
    "from ponyo import utils, train_vae_modules, simulate_expression_data\n",
    "\n",
    "np.random.seed(123)"
   ]
  },
  {
   "cell_type": "code",
   "execution_count": 2,
   "metadata": {},
   "outputs": [],
   "source": [
    "# Read in config variables\n",
    "base_dir = os.path.abspath(os.path.join(os.getcwd(),\"../\"))\n",
    "config_file = os.path.abspath(os.path.join(base_dir,\n",
    "                                           \"human_tests\", \n",
    "                                           \"config_test_human.tsv\"))\n",
    "params = utils.read_config(config_file)"
   ]
  },
  {
   "cell_type": "code",
   "execution_count": 3,
   "metadata": {},
   "outputs": [],
   "source": [
    "# Load parameters\n",
    "local_dir = params[\"local_dir\"]\n",
    "dataset_name = params['dataset_name']\n",
    "analysis_name = params[\"simulation_type\"]\n",
    "train_architecture = params['NN_architecture']\n",
    "num_simulated_samples = params['num_simulated_samples']"
   ]
  },
  {
   "cell_type": "code",
   "execution_count": 4,
   "metadata": {},
   "outputs": [],
   "source": [
    "# Input files\n",
    "rpkm_data_file = os.path.join(\n",
    "    base_dir,\n",
    "    dataset_name,\n",
    "    \"data\",\n",
    "    \"input\",\n",
    "    \"recount2_gene_RPKM_data_test.tsv\")\n",
    "assert os.path.exists(rpkm_data_file)"
   ]
  },
  {
   "cell_type": "markdown",
   "metadata": {},
   "source": [
    "## Setup directories"
   ]
  },
  {
   "cell_type": "code",
   "execution_count": 5,
   "metadata": {},
   "outputs": [],
   "source": [
    "utils.setup_dir(config_file)"
   ]
  },
  {
   "cell_type": "code",
   "execution_count": 6,
   "metadata": {},
   "outputs": [],
   "source": [
    "# Check that directories were made correctly\n",
    "assert os.path.isdir(os.path.join(base_dir, dataset_name, 'logs'))\n",
    "assert os.path.isdir(os.path.join(base_dir, dataset_name, 'models'))\n",
    "assert os.path.isdir(os.path.join(base_dir, dataset_name, 'results'))\n",
    "assert os.path.isdir(os.path.join(base_dir, dataset_name, 'logs', train_architecture))\n",
    "assert os.path.isdir(os.path.join(base_dir, dataset_name, 'models', train_architecture))\n",
    "assert os.path.isdir(os.path.join(base_dir, dataset_name, 'results', 'saved_variables'))"
   ]
  },
  {
   "cell_type": "markdown",
   "metadata": {},
   "source": [
    "## Pre-process data"
   ]
  },
  {
   "cell_type": "code",
   "execution_count": 7,
   "metadata": {},
   "outputs": [],
   "source": [
    "# Output file\n",
    "normalized_data_file = os.path.join(\n",
    "    base_dir,\n",
    "    dataset_name,\n",
    "    \"data\",\n",
    "    \"input\",\n",
    "    \"recount2_gene_normalized_data_test.tsv.xz\")"
   ]
  },
  {
   "cell_type": "code",
   "execution_count": 8,
   "metadata": {},
   "outputs": [
    {
     "name": "stdout",
     "output_type": "stream",
     "text": [
      "input: dataset contains 50 samples and 5000 genes\n",
      "Output: normalized dataset contains 50 samples and 5000 genes\n"
     ]
    }
   ],
   "source": [
    "train_vae_modules.normalize_expression_data(base_dir,\n",
    "                                            config_file,\n",
    "                                            rpkm_data_file,\n",
    "                                            normalized_data_file)"
   ]
  },
  {
   "cell_type": "markdown",
   "metadata": {},
   "source": [
    "## Train VAE"
   ]
  },
  {
   "cell_type": "code",
   "execution_count": 9,
   "metadata": {},
   "outputs": [],
   "source": [
    "# Directory containing log information from VAE training\n",
    "vae_log_dir = os.path.join(\n",
    "    base_dir, \n",
    "    dataset_name,\n",
    "    \"logs\",\n",
    "    train_architecture)"
   ]
  },
  {
   "cell_type": "code",
   "execution_count": 10,
   "metadata": {
    "scrolled": false
   },
   "outputs": [
    {
     "name": "stdout",
     "output_type": "stream",
     "text": [
      "input dataset contains 50 samples and 5000 genes\n",
      "WARNING:tensorflow:From /home/alexandra/anaconda3/envs/test2_ponyo/lib/python3.7/site-packages/tensorflow/python/ops/resource_variable_ops.py:435: colocate_with (from tensorflow.python.framework.ops) is deprecated and will be removed in a future version.\n",
      "Instructions for updating:\n",
      "Colocations handled automatically by placer.\n",
      "tracking <tf.Variable 'Variable:0' shape=() dtype=float32> beta\n",
      "WARNING:tensorflow:From /home/alexandra/anaconda3/envs/test2_ponyo/lib/python3.7/site-packages/tensorflow/python/ops/math_ops.py:3066: to_int32 (from tensorflow.python.ops.math_ops) is deprecated and will be removed in a future version.\n",
      "Instructions for updating:\n",
      "Use tf.cast instead.\n",
      "Train on 45 samples, validate on 5 samples\n",
      "Epoch 1/10\n",
      "45/45 [==============================] - 4s 78ms/step - loss: 2466.1093 - val_loss: 2732.5391\n",
      "Epoch 2/10\n",
      "45/45 [==============================] - 3s 69ms/step - loss: 1671.1855 - val_loss: 2142.6584\n",
      "Epoch 3/10\n",
      "45/45 [==============================] - 3s 69ms/step - loss: 1565.9918 - val_loss: 1793.4359\n",
      "Epoch 4/10\n",
      "45/45 [==============================] - 3s 69ms/step - loss: 1481.5113 - val_loss: 1721.7738\n",
      "Epoch 5/10\n",
      "45/45 [==============================] - 3s 69ms/step - loss: 1575.7078 - val_loss: 1489.9062\n",
      "Epoch 6/10\n",
      "45/45 [==============================] - 3s 69ms/step - loss: 1445.4990 - val_loss: 1532.2825\n",
      "Epoch 7/10\n",
      "45/45 [==============================] - 3s 69ms/step - loss: 1476.7704 - val_loss: 1651.5635\n",
      "Epoch 8/10\n",
      "45/45 [==============================] - 3s 69ms/step - loss: 1395.8016 - val_loss: 1352.6371\n",
      "Epoch 9/10\n",
      "45/45 [==============================] - 3s 69ms/step - loss: 1350.4319 - val_loss: 1290.3414\n",
      "Epoch 10/10\n",
      "45/45 [==============================] - 3s 69ms/step - loss: 1406.1726 - val_loss: 1235.1241\n"
     ]
    },
    {
     "data": {
      "image/png": "[encoded data removed]",
      "text/plain": [
       "<Figure size 432x288 with 1 Axes>"
      ]
     },
     "metadata": {
      "needs_background": "light"
     },
     "output_type": "display_data"
    }
   ],
   "source": [
    "# Train VAE\n",
    "train_vae_modules.train_vae(config_file,\n",
    "                            normalized_data_file)"
   ]
  },
  {
   "cell_type": "code",
   "execution_count": 11,
   "metadata": {},
   "outputs": [
    {
     "ename": "AssertionError",
     "evalue": "",
     "output_type": "error",
     "traceback": [
      "\u001b[0;31m---------------------------------------------------------------------------\u001b[0m",
      "\u001b[0;31mAssertionError\u001b[0m                            Traceback (most recent call last)",
      "\u001b[0;32m<ipython-input-11-50457db86bbd>\u001b[0m in \u001b[0;36m<module>\u001b[0;34m\u001b[0m\n\u001b[1;32m      4\u001b[0m assert np.all(np.isclose(\n\u001b[1;32m      5\u001b[0m     \u001b[0mpd\u001b[0m\u001b[0;34m.\u001b[0m\u001b[0mread_csv\u001b[0m\u001b[0;34m(\u001b[0m\u001b[0moutput_path\u001b[0m\u001b[0;34m,\u001b[0m \u001b[0msep\u001b[0m\u001b[0;34m=\u001b[0m\u001b[0;34m\"\\t\"\u001b[0m\u001b[0;34m)\u001b[0m\u001b[0;34m.\u001b[0m\u001b[0mvalues\u001b[0m\u001b[0;34m,\u001b[0m\u001b[0;34m\u001b[0m\u001b[0;34m\u001b[0m\u001b[0m\n\u001b[0;32m----> 6\u001b[0;31m     \u001b[0mpd\u001b[0m\u001b[0;34m.\u001b[0m\u001b[0mread_csv\u001b[0m\u001b[0;34m(\u001b[0m\u001b[0mtemplate_path\u001b[0m\u001b[0;34m,\u001b[0m \u001b[0msep\u001b[0m\u001b[0;34m=\u001b[0m\u001b[0;34m\"\\t\"\u001b[0m\u001b[0;34m)\u001b[0m\u001b[0;34m.\u001b[0m\u001b[0mvalues\u001b[0m\u001b[0;34m\u001b[0m\u001b[0;34m\u001b[0m\u001b[0m\n\u001b[0m\u001b[1;32m      7\u001b[0m ))\n",
      "\u001b[0;31mAssertionError\u001b[0m: "
     ]
    }
   ],
   "source": [
    "# Check reproducibility of VAE training\n",
    "template_path = \"data/test_vae_log.tsv\"\n",
    "output_path = \"logs/NN_2500_30/tybalt_2layer_30latent_stats.tsv\"\n",
    "assert np.all(np.isclose(\n",
    "    pd.read_csv(output_path, sep=\"\\t\").values,\n",
    "    pd.read_csv(template_path, sep=\"\\t\").values\n",
    "))"
   ]
  },
  {
   "cell_type": "markdown",
   "metadata": {},
   "source": [
    "## Simulate data by random sampling"
   ]
  },
  {
   "cell_type": "code",
   "execution_count": null,
   "metadata": {
    "scrolled": false
   },
   "outputs": [],
   "source": [
    "# Run simulation\n",
    "simulated_data = simulate_expression_data.simulate_by_random_sampling(\n",
    "    normalized_data_file,\n",
    "    train_architecture,\n",
    "    dataset_name,\n",
    "    analysis_name,\n",
    "    num_simulated_samples,\n",
    "    local_dir,\n",
    "    base_dir,\n",
    ")"
   ]
  },
  {
   "cell_type": "code",
   "execution_count": null,
   "metadata": {},
   "outputs": [],
   "source": [
    "simulated_data.head()"
   ]
  },
  {
   "cell_type": "markdown",
   "metadata": {},
   "source": [
    "## Visualize random sampled compendium"
   ]
  },
  {
   "cell_type": "code",
   "execution_count": null,
   "metadata": {},
   "outputs": [],
   "source": [
    "# Read data\n",
    "normalized_data = pd.read_csv(normalized_data_file, header=0, sep=\"\\t\", index_col=0)"
   ]
  },
  {
   "cell_type": "code",
   "execution_count": null,
   "metadata": {},
   "outputs": [],
   "source": [
    "normalized_data.head()"
   ]
  },
  {
   "cell_type": "code",
   "execution_count": null,
   "metadata": {},
   "outputs": [],
   "source": [
    "model = umap.UMAP(random_state=123).fit(normalized_data)\n",
    "\n",
    "input_data_UMAPencoded = model.transform(normalized_data)\n",
    "input_data_UMAPencoded_df = pd.DataFrame(data=input_data_UMAPencoded,\n",
    "                                         index=normalized_data.index,\n",
    "                                         columns=['1','2'])"
   ]
  },
  {
   "cell_type": "code",
   "execution_count": null,
   "metadata": {},
   "outputs": [],
   "source": [
    "# UMAP embedding of simulated data\n",
    "\n",
    "simulated_data_UMAPencoded = model.transform(simulated_data)\n",
    "simulated_data_UMAPencoded_df = pd.DataFrame(data=simulated_data_UMAPencoded,\n",
    "                                         index=simulated_data.index,\n",
    "                                         columns=['1','2'])"
   ]
  },
  {
   "cell_type": "code",
   "execution_count": null,
   "metadata": {
    "scrolled": false
   },
   "outputs": [],
   "source": [
    "# Overlay original input vs simulated data\n",
    "\n",
    "# Add label for input or simulated dataset\n",
    "input_data_UMAPencoded_df['dataset'] = 'original'\n",
    "simulated_data_UMAPencoded_df['dataset'] = 'simulated'\n",
    "\n",
    "# Concatenate input and simulated dataframes together\n",
    "combined_data_df = pd.concat([input_data_UMAPencoded_df, simulated_data_UMAPencoded_df])\n",
    "\n",
    "# Plot\n",
    "g_input_sim = ggplot(combined_data_df, aes(x='1', y='2'))\n",
    "g_input_sim += geom_point(aes(color='dataset'),alpha=0.3)\n",
    "g_input_sim += labs(x = \"UMAP 1\",\n",
    "                    y = \"UMAP 2\", \n",
    "                    title = \"Original and simulated data\")\n",
    "g_input_sim += theme_bw()\n",
    "g_input_sim += theme(\n",
    "    legend_title_align = \"center\",\n",
    "    plot_background=element_rect(fill='white'),\n",
    "    legend_key=element_rect(fill='white', colour='white'), \n",
    "    plot_title=element_text(family='sans-serif', size=15),\n",
    "    axis_text=element_text(family='sans-serif', size=12),\n",
    "    axis_title=element_text(family='sans-serif', size=15)\n",
    "\n",
    ")\n",
    "\n",
    "print(g_input_sim)"
   ]
  },
  {
   "cell_type": "code",
   "execution_count": null,
   "metadata": {},
   "outputs": [],
   "source": []
  }
 ],
 "metadata": {
  "kernelspec": {
   "display_name": "Python 3",
   "language": "python",
   "name": "python3"
  },
  "language_info": {
   "codemirror_mode": {
    "name": "ipython",
    "version": 3
   },
   "file_extension": ".py",
   "mimetype": "text/x-python",
   "name": "python",
   "nbconvert_exporter": "python",
   "pygments_lexer": "ipython3",
   "version": "3.7.7"
  }
 },
 "nbformat": 4,
 "nbformat_minor": 2
}
