{
 "cells": [
  {
   "cell_type": "markdown",
   "metadata": {},
   "source": [
    "# Test simulating compendia by random sampling"
   ]
  },
  {
   "cell_type": "code",
   "execution_count": 1,
   "metadata": {},
   "outputs": [
    {
     "name": "stderr",
     "output_type": "stream",
     "text": [
      "Using TensorFlow backend.\n"
     ]
    }
   ],
   "source": [
    "%load_ext autoreload\n",
    "%autoreload 2\n",
    "\n",
    "import os\n",
    "import sys\n",
    "import pandas as pd\n",
    "import numpy as np\n",
    "import random\n",
    "import umap\n",
    "from plotnine import (ggplot,\n",
    "                      labs,  \n",
    "                      geom_point,\n",
    "                      aes, \n",
    "                      ggsave, \n",
    "                      theme_bw,\n",
    "                      theme,\n",
    "                      facet_wrap,\n",
    "                      scale_color_manual,\n",
    "                      guides, \n",
    "                      guide_legend,\n",
    "                      element_blank,\n",
    "                      element_text,\n",
    "                      element_rect,\n",
    "                      element_line,\n",
    "                      coords)\n",
    "\n",
    "\n",
    "import warnings\n",
    "warnings.filterwarnings(action='ignore')\n",
    "\n",
    "from ponyo import utils, train_vae_modules, simulate_expression_data\n",
    "\n",
    "np.random.seed(123)"
   ]
  },
  {
   "cell_type": "code",
   "execution_count": 2,
   "metadata": {},
   "outputs": [],
   "source": [
    "# Read in config variables\n",
    "base_dir = os.path.abspath(os.path.join(os.getcwd(),\"../\"))\n",
    "config_file = os.path.abspath(os.path.join(base_dir,\n",
    "                                           \"human_tests\", \n",
    "                                           \"config_test_human.tsv\"))\n",
    "params = utils.read_config(config_file)"
   ]
  },
  {
   "cell_type": "code",
   "execution_count": 3,
   "metadata": {},
   "outputs": [],
   "source": [
    "# Load parameters\n",
    "local_dir = params[\"local_dir\"]\n",
    "dataset_name = params['dataset_name']\n",
    "analysis_name = params[\"simulation_type\"]\n",
    "train_architecture = params['NN_architecture']\n",
    "num_simulated_samples = params['num_simulated_samples']"
   ]
  },
  {
   "cell_type": "code",
   "execution_count": 4,
   "metadata": {},
   "outputs": [],
   "source": [
    "# Input files\n",
    "rpkm_data_file = os.path.join(\n",
    "    base_dir,\n",
    "    dataset_name,\n",
    "    \"data\",\n",
    "    \"input\",\n",
    "    \"recount2_gene_RPKM_data_test.tsv\")\n",
    "assert os.path.exists(rpkm_data_file)"
   ]
  },
  {
   "cell_type": "markdown",
   "metadata": {},
   "source": [
    "## Setup directories"
   ]
  },
  {
   "cell_type": "code",
   "execution_count": 5,
   "metadata": {},
   "outputs": [],
   "source": [
    "utils.setup_dir(config_file)"
   ]
  },
  {
   "cell_type": "markdown",
   "metadata": {},
   "source": [
    "## Pre-process data"
   ]
  },
  {
   "cell_type": "code",
   "execution_count": 6,
   "metadata": {},
   "outputs": [],
   "source": [
    "# Output file\n",
    "normalized_data_file = os.path.join(\n",
    "    base_dir,\n",
    "    dataset_name,\n",
    "    \"data\",\n",
    "    \"input\",\n",
    "    \"recount2_gene_normalized_data_test.tsv.xz\")"
   ]
  },
  {
   "cell_type": "code",
   "execution_count": 7,
   "metadata": {},
   "outputs": [
    {
     "name": "stdout",
     "output_type": "stream",
     "text": [
      "input: dataset contains 50 samples and 5000 genes\n",
      "Output: normalized dataset contains 50 samples and 5000 genes\n"
     ]
    }
   ],
   "source": [
    "train_vae_modules.normalize_expression_data(base_dir,\n",
    "                                            config_file,\n",
    "                                            rpkm_data_file,\n",
    "                                            normalized_data_file)"
   ]
  },
  {
   "cell_type": "markdown",
   "metadata": {},
   "source": [
    "## Train VAE"
   ]
  },
  {
   "cell_type": "code",
   "execution_count": 8,
   "metadata": {},
   "outputs": [],
   "source": [
    "# Directory containing log information from VAE training\n",
    "vae_log_dir = os.path.join(\n",
    "    base_dir, \n",
    "    dataset_name,\n",
    "    \"logs\",\n",
    "    train_architecture)"
   ]
  },
  {
   "cell_type": "code",
   "execution_count": 9,
   "metadata": {
    "scrolled": true
   },
   "outputs": [
    {
     "name": "stdout",
     "output_type": "stream",
     "text": [
      "input dataset contains 50 samples and 5000 genes\n",
      "WARNING:tensorflow:From /home/alexandra/anaconda3/envs/simulate_expression_compendia/lib/python3.7/site-packages/tensorflow/python/ops/resource_variable_ops.py:435: colocate_with (from tensorflow.python.framework.ops) is deprecated and will be removed in a future version.\n",
      "Instructions for updating:\n",
      "Colocations handled automatically by placer.\n",
      "tracking <tf.Variable 'Variable:0' shape=() dtype=float32> beta\n",
      "WARNING:tensorflow:From /home/alexandra/anaconda3/envs/simulate_expression_compendia/lib/python3.7/site-packages/tensorflow/python/ops/math_ops.py:3066: to_int32 (from tensorflow.python.ops.math_ops) is deprecated and will be removed in a future version.\n",
      "Instructions for updating:\n",
      "Use tf.cast instead.\n",
      "Train on 45 samples, validate on 5 samples\n",
      "Epoch 1/10\n",
      "45/45 [==============================] - 4s 93ms/step - loss: 2552.4357 - val_loss: 2095.1938\n",
      "Epoch 2/10\n",
      "45/45 [==============================] - 4s 81ms/step - loss: 1653.4071 - val_loss: 1738.1135\n",
      "Epoch 3/10\n",
      "45/45 [==============================] - 4s 82ms/step - loss: 1511.2294 - val_loss: 1505.0784\n",
      "Epoch 4/10\n",
      "45/45 [==============================] - 4s 81ms/step - loss: 1425.3800 - val_loss: 1608.0077\n",
      "Epoch 5/10\n",
      "45/45 [==============================] - 4s 81ms/step - loss: 1500.9716 - val_loss: 1555.3097\n",
      "Epoch 6/10\n",
      "45/45 [==============================] - 4s 82ms/step - loss: 1532.2508 - val_loss: 1557.1571\n",
      "Epoch 7/10\n",
      "45/45 [==============================] - 4s 81ms/step - loss: 1382.8551 - val_loss: 1360.1621\n",
      "Epoch 8/10\n",
      "45/45 [==============================] - 4s 82ms/step - loss: 1564.6355 - val_loss: 1290.2949\n",
      "Epoch 9/10\n",
      "45/45 [==============================] - 4s 81ms/step - loss: 1366.0645 - val_loss: 1307.2678\n",
      "Epoch 10/10\n",
      "45/45 [==============================] - 4s 81ms/step - loss: 1458.3364 - val_loss: 1293.3749\n"
     ]
    },
    {
     "data": {
      "image/png": "[encoded data removed]",
      "text/plain": [
       "<Figure size 432x288 with 1 Axes>"
      ]
     },
     "metadata": {
      "needs_background": "light"
     },
     "output_type": "display_data"
    }
   ],
   "source": [
    "# Train VAE\n",
    "train_vae_modules.train_vae(config_file,\n",
    "                            normalized_data_file)"
   ]
  },
  {
   "cell_type": "markdown",
   "metadata": {},
   "source": [
    "## Simulate data by random sampling"
   ]
  },
  {
   "cell_type": "code",
   "execution_count": 10,
   "metadata": {
    "scrolled": false
   },
   "outputs": [
    {
     "name": "stdout",
     "output_type": "stream",
     "text": [
      "Normalized gene expression data contains 50 samples and 5000 genes\n",
      "Return: simulated gene expression data containing 100 samples and 5000 genes\n"
     ]
    }
   ],
   "source": [
    "# Run simulation\n",
    "simulated_data = simulate_expression_data.simulate_by_random_sampling(\n",
    "    normalized_data_file,\n",
    "    train_architecture,\n",
    "    dataset_name,\n",
    "    analysis_name,\n",
    "    num_simulated_samples,\n",
    "    local_dir,\n",
    "    base_dir,\n",
    ")"
   ]
  },
  {
   "cell_type": "code",
   "execution_count": 11,
   "metadata": {},
   "outputs": [
    {
     "data": {
      "text/html": [
       "<div>\n",
       "<style scoped>\n",
       "    .dataframe tbody tr th:only-of-type {\n",
       "        vertical-align: middle;\n",
       "    }\n",
       "\n",
       "    .dataframe tbody tr th {\n",
       "        vertical-align: top;\n",
       "    }\n",
       "\n",
       "    .dataframe thead th {\n",
       "        text-align: right;\n",
       "    }\n",
       "</style>\n",
       "<table border=\"1\" class=\"dataframe\">\n",
       "  <thead>\n",
       "    <tr style=\"text-align: right;\">\n",
       "      <th></th>\n",
       "      <th>0</th>\n",
       "      <th>1</th>\n",
       "      <th>2</th>\n",
       "      <th>3</th>\n",
       "      <th>4</th>\n",
       "      <th>5</th>\n",
       "      <th>6</th>\n",
       "      <th>7</th>\n",
       "      <th>8</th>\n",
       "      <th>9</th>\n",
       "      <th>...</th>\n",
       "      <th>4990</th>\n",
       "      <th>4991</th>\n",
       "      <th>4992</th>\n",
       "      <th>4993</th>\n",
       "      <th>4994</th>\n",
       "      <th>4995</th>\n",
       "      <th>4996</th>\n",
       "      <th>4997</th>\n",
       "      <th>4998</th>\n",
       "      <th>4999</th>\n",
       "    </tr>\n",
       "  </thead>\n",
       "  <tbody>\n",
       "    <tr>\n",
       "      <th>0</th>\n",
       "      <td>0.595537</td>\n",
       "      <td>0.069945</td>\n",
       "      <td>0.130497</td>\n",
       "      <td>0.067531</td>\n",
       "      <td>0.054856</td>\n",
       "      <td>0.086798</td>\n",
       "      <td>0.380836</td>\n",
       "      <td>0.612304</td>\n",
       "      <td>0.010272</td>\n",
       "      <td>0.024837</td>\n",
       "      <td>...</td>\n",
       "      <td>0.127542</td>\n",
       "      <td>0.220627</td>\n",
       "      <td>0.047489</td>\n",
       "      <td>0.127272</td>\n",
       "      <td>0.085842</td>\n",
       "      <td>0.115866</td>\n",
       "      <td>0.048533</td>\n",
       "      <td>0.267679</td>\n",
       "      <td>0.384448</td>\n",
       "      <td>0.032589</td>\n",
       "    </tr>\n",
       "    <tr>\n",
       "      <th>1</th>\n",
       "      <td>0.219318</td>\n",
       "      <td>0.281544</td>\n",
       "      <td>0.107503</td>\n",
       "      <td>0.103230</td>\n",
       "      <td>0.150270</td>\n",
       "      <td>0.213079</td>\n",
       "      <td>0.390845</td>\n",
       "      <td>0.349823</td>\n",
       "      <td>0.053466</td>\n",
       "      <td>0.061096</td>\n",
       "      <td>...</td>\n",
       "      <td>0.380454</td>\n",
       "      <td>0.351860</td>\n",
       "      <td>0.062284</td>\n",
       "      <td>0.168060</td>\n",
       "      <td>0.092906</td>\n",
       "      <td>0.187954</td>\n",
       "      <td>0.071249</td>\n",
       "      <td>0.280551</td>\n",
       "      <td>0.194743</td>\n",
       "      <td>0.048120</td>\n",
       "    </tr>\n",
       "    <tr>\n",
       "      <th>2</th>\n",
       "      <td>0.269661</td>\n",
       "      <td>0.052792</td>\n",
       "      <td>0.131061</td>\n",
       "      <td>0.089439</td>\n",
       "      <td>0.018940</td>\n",
       "      <td>0.059372</td>\n",
       "      <td>0.192204</td>\n",
       "      <td>0.190628</td>\n",
       "      <td>0.004989</td>\n",
       "      <td>0.014980</td>\n",
       "      <td>...</td>\n",
       "      <td>0.116805</td>\n",
       "      <td>0.093910</td>\n",
       "      <td>0.029965</td>\n",
       "      <td>0.104437</td>\n",
       "      <td>0.081979</td>\n",
       "      <td>0.219867</td>\n",
       "      <td>0.027432</td>\n",
       "      <td>0.127550</td>\n",
       "      <td>0.169893</td>\n",
       "      <td>0.033855</td>\n",
       "    </tr>\n",
       "    <tr>\n",
       "      <th>3</th>\n",
       "      <td>0.647942</td>\n",
       "      <td>0.172866</td>\n",
       "      <td>0.078719</td>\n",
       "      <td>0.058776</td>\n",
       "      <td>0.160278</td>\n",
       "      <td>0.175729</td>\n",
       "      <td>0.626273</td>\n",
       "      <td>0.724432</td>\n",
       "      <td>0.031929</td>\n",
       "      <td>0.031569</td>\n",
       "      <td>...</td>\n",
       "      <td>0.290427</td>\n",
       "      <td>0.351659</td>\n",
       "      <td>0.031259</td>\n",
       "      <td>0.130891</td>\n",
       "      <td>0.044223</td>\n",
       "      <td>0.112557</td>\n",
       "      <td>0.059977</td>\n",
       "      <td>0.376310</td>\n",
       "      <td>0.473062</td>\n",
       "      <td>0.023064</td>\n",
       "    </tr>\n",
       "    <tr>\n",
       "      <th>4</th>\n",
       "      <td>0.567677</td>\n",
       "      <td>0.189545</td>\n",
       "      <td>0.061688</td>\n",
       "      <td>0.038017</td>\n",
       "      <td>0.103285</td>\n",
       "      <td>0.146731</td>\n",
       "      <td>0.616618</td>\n",
       "      <td>0.738347</td>\n",
       "      <td>0.023144</td>\n",
       "      <td>0.022683</td>\n",
       "      <td>...</td>\n",
       "      <td>0.314112</td>\n",
       "      <td>0.363714</td>\n",
       "      <td>0.020498</td>\n",
       "      <td>0.120510</td>\n",
       "      <td>0.021749</td>\n",
       "      <td>0.104716</td>\n",
       "      <td>0.048917</td>\n",
       "      <td>0.347072</td>\n",
       "      <td>0.410934</td>\n",
       "      <td>0.020093</td>\n",
       "    </tr>\n",
       "  </tbody>\n",
       "</table>\n",
       "<p>5 rows × 5000 columns</p>\n",
       "</div>"
      ],
      "text/plain": [
       "       0         1         2         3         4         5         6     \\\n",
       "0  0.595537  0.069945  0.130497  0.067531  0.054856  0.086798  0.380836   \n",
       "1  0.219318  0.281544  0.107503  0.103230  0.150270  0.213079  0.390845   \n",
       "2  0.269661  0.052792  0.131061  0.089439  0.018940  0.059372  0.192204   \n",
       "3  0.647942  0.172866  0.078719  0.058776  0.160278  0.175729  0.626273   \n",
       "4  0.567677  0.189545  0.061688  0.038017  0.103285  0.146731  0.616618   \n",
       "\n",
       "       7         8         9     ...      4990      4991      4992      4993  \\\n",
       "0  0.612304  0.010272  0.024837  ...  0.127542  0.220627  0.047489  0.127272   \n",
       "1  0.349823  0.053466  0.061096  ...  0.380454  0.351860  0.062284  0.168060   \n",
       "2  0.190628  0.004989  0.014980  ...  0.116805  0.093910  0.029965  0.104437   \n",
       "3  0.724432  0.031929  0.031569  ...  0.290427  0.351659  0.031259  0.130891   \n",
       "4  0.738347  0.023144  0.022683  ...  0.314112  0.363714  0.020498  0.120510   \n",
       "\n",
       "       4994      4995      4996      4997      4998      4999  \n",
       "0  0.085842  0.115866  0.048533  0.267679  0.384448  0.032589  \n",
       "1  0.092906  0.187954  0.071249  0.280551  0.194743  0.048120  \n",
       "2  0.081979  0.219867  0.027432  0.127550  0.169893  0.033855  \n",
       "3  0.044223  0.112557  0.059977  0.376310  0.473062  0.023064  \n",
       "4  0.021749  0.104716  0.048917  0.347072  0.410934  0.020093  \n",
       "\n",
       "[5 rows x 5000 columns]"
      ]
     },
     "execution_count": 11,
     "metadata": {},
     "output_type": "execute_result"
    }
   ],
   "source": [
    "simulated_data.head()"
   ]
  },
  {
   "cell_type": "markdown",
   "metadata": {},
   "source": [
    "## Visualize random sampled compendium"
   ]
  },
  {
   "cell_type": "code",
   "execution_count": 12,
   "metadata": {},
   "outputs": [],
   "source": [
    "# Read data\n",
    "normalized_data = pd.read_csv(normalized_data_file, header=0, sep=\"\\t\", index_col=0)"
   ]
  },
  {
   "cell_type": "code",
   "execution_count": 13,
   "metadata": {},
   "outputs": [
    {
     "data": {
      "text/html": [
       "<div>\n",
       "<style scoped>\n",
       "    .dataframe tbody tr th:only-of-type {\n",
       "        vertical-align: middle;\n",
       "    }\n",
       "\n",
       "    .dataframe tbody tr th {\n",
       "        vertical-align: top;\n",
       "    }\n",
       "\n",
       "    .dataframe thead th {\n",
       "        text-align: right;\n",
       "    }\n",
       "</style>\n",
       "<table border=\"1\" class=\"dataframe\">\n",
       "  <thead>\n",
       "    <tr style=\"text-align: right;\">\n",
       "      <th></th>\n",
       "      <th>ENSG00000086200.16</th>\n",
       "      <th>ENSG00000279019.1</th>\n",
       "      <th>ENSG00000206772.1</th>\n",
       "      <th>ENSG00000252996.1</th>\n",
       "      <th>ENSG00000277635.1</th>\n",
       "      <th>ENSG00000224790.2</th>\n",
       "      <th>ENSG00000106636.7</th>\n",
       "      <th>ENSG00000152443.12</th>\n",
       "      <th>ENSG00000225819.1</th>\n",
       "      <th>ENSG00000237377.2</th>\n",
       "      <th>...</th>\n",
       "      <th>ENSG00000281392.1</th>\n",
       "      <th>ENSG00000241627.3</th>\n",
       "      <th>ENSG00000239216.1</th>\n",
       "      <th>ENSG00000256797.1</th>\n",
       "      <th>ENSG00000221263.1</th>\n",
       "      <th>ENSG00000249478.1</th>\n",
       "      <th>ENSG00000283340.1</th>\n",
       "      <th>ENSG00000242052.1</th>\n",
       "      <th>ENSG00000264443.1</th>\n",
       "      <th>ENSG00000236858.1</th>\n",
       "    </tr>\n",
       "  </thead>\n",
       "  <tbody>\n",
       "    <tr>\n",
       "      <th>SRR592745</th>\n",
       "      <td>0.080978</td>\n",
       "      <td>0.886399</td>\n",
       "      <td>0.0</td>\n",
       "      <td>0.000654</td>\n",
       "      <td>0.676113</td>\n",
       "      <td>0.092019</td>\n",
       "      <td>0.563159</td>\n",
       "      <td>0.626964</td>\n",
       "      <td>0.0</td>\n",
       "      <td>0.000000</td>\n",
       "      <td>...</td>\n",
       "      <td>0.237537</td>\n",
       "      <td>0.241719</td>\n",
       "      <td>0.0</td>\n",
       "      <td>0.000000</td>\n",
       "      <td>0.0</td>\n",
       "      <td>0.000000</td>\n",
       "      <td>0.0</td>\n",
       "      <td>0.308343</td>\n",
       "      <td>0.111808</td>\n",
       "      <td>0.025641</td>\n",
       "    </tr>\n",
       "    <tr>\n",
       "      <th>SRR592746</th>\n",
       "      <td>0.087339</td>\n",
       "      <td>0.161515</td>\n",
       "      <td>0.0</td>\n",
       "      <td>0.000000</td>\n",
       "      <td>1.000000</td>\n",
       "      <td>0.053521</td>\n",
       "      <td>0.386222</td>\n",
       "      <td>0.333747</td>\n",
       "      <td>0.0</td>\n",
       "      <td>0.000000</td>\n",
       "      <td>...</td>\n",
       "      <td>0.114370</td>\n",
       "      <td>0.334752</td>\n",
       "      <td>0.0</td>\n",
       "      <td>0.000000</td>\n",
       "      <td>0.0</td>\n",
       "      <td>0.000000</td>\n",
       "      <td>0.0</td>\n",
       "      <td>0.124547</td>\n",
       "      <td>0.166928</td>\n",
       "      <td>0.000000</td>\n",
       "    </tr>\n",
       "    <tr>\n",
       "      <th>SRR592747</th>\n",
       "      <td>0.131139</td>\n",
       "      <td>0.411128</td>\n",
       "      <td>0.0</td>\n",
       "      <td>0.000000</td>\n",
       "      <td>0.000000</td>\n",
       "      <td>0.138028</td>\n",
       "      <td>0.514365</td>\n",
       "      <td>0.629170</td>\n",
       "      <td>0.0</td>\n",
       "      <td>0.000000</td>\n",
       "      <td>...</td>\n",
       "      <td>0.064516</td>\n",
       "      <td>0.514277</td>\n",
       "      <td>0.0</td>\n",
       "      <td>0.326923</td>\n",
       "      <td>0.0</td>\n",
       "      <td>0.000000</td>\n",
       "      <td>0.0</td>\n",
       "      <td>0.267231</td>\n",
       "      <td>0.149227</td>\n",
       "      <td>0.000000</td>\n",
       "    </tr>\n",
       "    <tr>\n",
       "      <th>SRR592748</th>\n",
       "      <td>0.144581</td>\n",
       "      <td>0.241113</td>\n",
       "      <td>0.0</td>\n",
       "      <td>0.044672</td>\n",
       "      <td>0.000000</td>\n",
       "      <td>0.135211</td>\n",
       "      <td>0.597027</td>\n",
       "      <td>0.866832</td>\n",
       "      <td>0.0</td>\n",
       "      <td>0.237624</td>\n",
       "      <td>...</td>\n",
       "      <td>1.000000</td>\n",
       "      <td>0.547814</td>\n",
       "      <td>0.0</td>\n",
       "      <td>0.000000</td>\n",
       "      <td>0.0</td>\n",
       "      <td>0.009901</td>\n",
       "      <td>0.0</td>\n",
       "      <td>0.637243</td>\n",
       "      <td>0.255882</td>\n",
       "      <td>0.041026</td>\n",
       "    </tr>\n",
       "    <tr>\n",
       "      <th>SRR592749</th>\n",
       "      <td>0.202282</td>\n",
       "      <td>0.047913</td>\n",
       "      <td>0.0</td>\n",
       "      <td>0.000000</td>\n",
       "      <td>0.000000</td>\n",
       "      <td>0.090141</td>\n",
       "      <td>0.667133</td>\n",
       "      <td>0.773918</td>\n",
       "      <td>0.0</td>\n",
       "      <td>0.000000</td>\n",
       "      <td>...</td>\n",
       "      <td>0.850440</td>\n",
       "      <td>0.486658</td>\n",
       "      <td>0.0</td>\n",
       "      <td>0.000000</td>\n",
       "      <td>0.0</td>\n",
       "      <td>0.014851</td>\n",
       "      <td>0.0</td>\n",
       "      <td>0.712213</td>\n",
       "      <td>0.230114</td>\n",
       "      <td>0.000000</td>\n",
       "    </tr>\n",
       "  </tbody>\n",
       "</table>\n",
       "<p>5 rows × 5000 columns</p>\n",
       "</div>"
      ],
      "text/plain": [
       "           ENSG00000086200.16  ENSG00000279019.1  ENSG00000206772.1  \\\n",
       "SRR592745            0.080978           0.886399                0.0   \n",
       "SRR592746            0.087339           0.161515                0.0   \n",
       "SRR592747            0.131139           0.411128                0.0   \n",
       "SRR592748            0.144581           0.241113                0.0   \n",
       "SRR592749            0.202282           0.047913                0.0   \n",
       "\n",
       "           ENSG00000252996.1  ENSG00000277635.1  ENSG00000224790.2  \\\n",
       "SRR592745           0.000654           0.676113           0.092019   \n",
       "SRR592746           0.000000           1.000000           0.053521   \n",
       "SRR592747           0.000000           0.000000           0.138028   \n",
       "SRR592748           0.044672           0.000000           0.135211   \n",
       "SRR592749           0.000000           0.000000           0.090141   \n",
       "\n",
       "           ENSG00000106636.7  ENSG00000152443.12  ENSG00000225819.1  \\\n",
       "SRR592745           0.563159            0.626964                0.0   \n",
       "SRR592746           0.386222            0.333747                0.0   \n",
       "SRR592747           0.514365            0.629170                0.0   \n",
       "SRR592748           0.597027            0.866832                0.0   \n",
       "SRR592749           0.667133            0.773918                0.0   \n",
       "\n",
       "           ENSG00000237377.2  ...  ENSG00000281392.1  ENSG00000241627.3  \\\n",
       "SRR592745           0.000000  ...           0.237537           0.241719   \n",
       "SRR592746           0.000000  ...           0.114370           0.334752   \n",
       "SRR592747           0.000000  ...           0.064516           0.514277   \n",
       "SRR592748           0.237624  ...           1.000000           0.547814   \n",
       "SRR592749           0.000000  ...           0.850440           0.486658   \n",
       "\n",
       "           ENSG00000239216.1  ENSG00000256797.1  ENSG00000221263.1  \\\n",
       "SRR592745                0.0           0.000000                0.0   \n",
       "SRR592746                0.0           0.000000                0.0   \n",
       "SRR592747                0.0           0.326923                0.0   \n",
       "SRR592748                0.0           0.000000                0.0   \n",
       "SRR592749                0.0           0.000000                0.0   \n",
       "\n",
       "           ENSG00000249478.1  ENSG00000283340.1  ENSG00000242052.1  \\\n",
       "SRR592745           0.000000                0.0           0.308343   \n",
       "SRR592746           0.000000                0.0           0.124547   \n",
       "SRR592747           0.000000                0.0           0.267231   \n",
       "SRR592748           0.009901                0.0           0.637243   \n",
       "SRR592749           0.014851                0.0           0.712213   \n",
       "\n",
       "           ENSG00000264443.1  ENSG00000236858.1  \n",
       "SRR592745           0.111808           0.025641  \n",
       "SRR592746           0.166928           0.000000  \n",
       "SRR592747           0.149227           0.000000  \n",
       "SRR592748           0.255882           0.041026  \n",
       "SRR592749           0.230114           0.000000  \n",
       "\n",
       "[5 rows x 5000 columns]"
      ]
     },
     "execution_count": 13,
     "metadata": {},
     "output_type": "execute_result"
    }
   ],
   "source": [
    "normalized_data.head()"
   ]
  },
  {
   "cell_type": "code",
   "execution_count": 14,
   "metadata": {},
   "outputs": [],
   "source": [
    "model = umap.UMAP(random_state=123).fit(normalized_data)\n",
    "\n",
    "input_data_UMAPencoded = model.transform(normalized_data)\n",
    "input_data_UMAPencoded_df = pd.DataFrame(data=input_data_UMAPencoded,\n",
    "                                         index=normalized_data.index,\n",
    "                                         columns=['1','2'])"
   ]
  },
  {
   "cell_type": "code",
   "execution_count": 15,
   "metadata": {},
   "outputs": [],
   "source": [
    "# UMAP embedding of simulated data\n",
    "\n",
    "simulated_data_UMAPencoded = model.transform(simulated_data)\n",
    "simulated_data_UMAPencoded_df = pd.DataFrame(data=simulated_data_UMAPencoded,\n",
    "                                         index=simulated_data.index,\n",
    "                                         columns=['1','2'])"
   ]
  },
  {
   "cell_type": "code",
   "execution_count": 16,
   "metadata": {
    "scrolled": false
   },
   "outputs": [
    {
     "data": {
      "image/png": "[encoded data removed]",
      "text/plain": [
       "<Figure size 640x480 with 1 Axes>"
      ]
     },
     "metadata": {},
     "output_type": "display_data"
    },
    {
     "name": "stdout",
     "output_type": "stream",
     "text": [
      "<ggplot: (-9223363306863442958)>\n"
     ]
    }
   ],
   "source": [
    "# Overlay original input vs simulated data\n",
    "\n",
    "# Add label for input or simulated dataset\n",
    "input_data_UMAPencoded_df['dataset'] = 'original'\n",
    "simulated_data_UMAPencoded_df['dataset'] = 'simulated'\n",
    "\n",
    "# Concatenate input and simulated dataframes together\n",
    "combined_data_df = pd.concat([input_data_UMAPencoded_df, simulated_data_UMAPencoded_df])\n",
    "\n",
    "# Plot\n",
    "g_input_sim = ggplot(combined_data_df, aes(x='1', y='2'))\n",
    "g_input_sim += geom_point(aes(color='dataset'),alpha=0.3)\n",
    "g_input_sim += labs(x = \"UMAP 1\",\n",
    "                    y = \"UMAP 2\", \n",
    "                    title = \"Original and simulated data\")\n",
    "g_input_sim += theme_bw()\n",
    "g_input_sim += theme(\n",
    "    legend_title_align = \"center\",\n",
    "    plot_background=element_rect(fill='white'),\n",
    "    legend_key=element_rect(fill='white', colour='white'), \n",
    "    plot_title=element_text(family='sans-serif', size=15),\n",
    "    axis_text=element_text(family='sans-serif', size=12),\n",
    "    axis_title=element_text(family='sans-serif', size=15)\n",
    "\n",
    ")\n",
    "\n",
    "print(g_input_sim)"
   ]
  },
  {
   "cell_type": "code",
   "execution_count": null,
   "metadata": {},
   "outputs": [],
   "source": []
  }
 ],
 "metadata": {
  "kernelspec": {
   "display_name": "Python [conda env:simulate_expression_compendia] *",
   "language": "python",
   "name": "conda-env-simulate_expression_compendia-py"
  },
  "language_info": {
   "codemirror_mode": {
    "name": "ipython",
    "version": 3
   },
   "file_extension": ".py",
   "mimetype": "text/x-python",
   "name": "python",
   "nbconvert_exporter": "python",
   "pygments_lexer": "ipython3",
   "version": "3.7.3"
  }
 },
 "nbformat": 4,
 "nbformat_minor": 2
}
