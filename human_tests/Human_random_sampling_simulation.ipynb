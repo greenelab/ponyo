{
 "cells": [
  {
   "cell_type": "markdown",
   "metadata": {},
   "source": [
    "# Test simulating compendia by random sampling"
   ]
  },
  {
   "cell_type": "code",
   "execution_count": 1,
   "metadata": {},
   "outputs": [
    {
     "name": "stdout",
     "output_type": "stream",
     "text": [
      "WARNING:tensorflow:From /home/alexandra/Documents/Repos/ponyo/ponyo/helper_vae.py:21: The name tf.ConfigProto is deprecated. Please use tf.compat.v1.ConfigProto instead.\n",
      "\n",
      "WARNING:tensorflow:From /home/alexandra/Documents/Repos/ponyo/ponyo/helper_vae.py:25: The name tf.Session is deprecated. Please use tf.compat.v1.Session instead.\n",
      "\n",
      "WARNING:tensorflow:From /home/alexandra/Documents/Repos/ponyo/ponyo/helper_vae.py:25: The name tf.get_default_graph is deprecated. Please use tf.compat.v1.get_default_graph instead.\n",
      "\n"
     ]
    },
    {
     "name": "stderr",
     "output_type": "stream",
     "text": [
      "Using TensorFlow backend.\n"
     ]
    }
   ],
   "source": [
    "%load_ext autoreload\n",
    "%autoreload 2\n",
    "\n",
    "import os\n",
    "import sys\n",
    "import pandas as pd\n",
    "import umap\n",
    "from plotnine import (ggplot,\n",
    "                      labs,  \n",
    "                      geom_point,\n",
    "                      aes, \n",
    "                      ggsave, \n",
    "                      theme_bw,\n",
    "                      theme,\n",
    "                      facet_wrap,\n",
    "                      scale_color_manual,\n",
    "                      guides, \n",
    "                      guide_legend,\n",
    "                      element_blank,\n",
    "                      element_text,\n",
    "                      element_rect,\n",
    "                      element_line,\n",
    "                      coords)\n",
    "\n",
    "\n",
    "import warnings\n",
    "warnings.filterwarnings(action='ignore')\n",
    "\n",
    "from ponyo import utils, train_vae_modules, simulate_expression_data"
   ]
  },
  {
   "cell_type": "code",
   "execution_count": 2,
   "metadata": {},
   "outputs": [
    {
     "name": "stdout",
     "output_type": "stream",
     "text": [
      "WARNING:tensorflow:From /home/alexandra/Documents/Repos/ponyo/ponyo/train_vae_modules.py:56: The name tf.set_random_seed is deprecated. Please use tf.compat.v1.set_random_seed instead.\n",
      "\n"
     ]
    }
   ],
   "source": [
    "# Set seeds to get reproducible VAE trained models\n",
    "train_vae_modules.set_all_seeds()"
   ]
  },
  {
   "cell_type": "code",
   "execution_count": 3,
   "metadata": {},
   "outputs": [],
   "source": [
    "# Read in config variables\n",
    "base_dir = os.path.abspath(os.path.join(os.getcwd(),\"../\"))\n",
    "config_filename = os.path.abspath(os.path.join(base_dir,\n",
    "                                           \"human_tests\", \n",
    "                                           \"config_test_human.tsv\"))\n",
    "params = utils.read_config(config_filename)"
   ]
  },
  {
   "cell_type": "code",
   "execution_count": 4,
   "metadata": {},
   "outputs": [],
   "source": [
    "# Load parameters\n",
    "local_dir = params[\"local_dir\"]\n",
    "dataset_name = params['dataset_name']\n",
    "analysis_name = params[\"simulation_type\"]\n",
    "train_architecture = params['NN_architecture']\n",
    "num_simulated_samples = params['num_simulated_samples']\n",
    "rpkm_data_filename = params[\"raw_data_filename\"]\n",
    "normalized_data_filename = params[\"normalized_data_filename\"]"
   ]
  },
  {
   "cell_type": "code",
   "execution_count": 5,
   "metadata": {},
   "outputs": [],
   "source": [
    "# Input files\n",
    "assert os.path.exists(rpkm_data_filename)"
   ]
  },
  {
   "cell_type": "markdown",
   "metadata": {},
   "source": [
    "## Setup directories"
   ]
  },
  {
   "cell_type": "code",
   "execution_count": 6,
   "metadata": {},
   "outputs": [],
   "source": [
    "utils.setup_dir(config_filename)"
   ]
  },
  {
   "cell_type": "code",
   "execution_count": 7,
   "metadata": {},
   "outputs": [],
   "source": [
    "# Check that directories were made correctly\n",
    "assert os.path.isdir(os.path.join(base_dir, dataset_name, 'logs'))\n",
    "assert os.path.isdir(os.path.join(base_dir, dataset_name, 'models'))\n",
    "assert os.path.isdir(os.path.join(base_dir, dataset_name, 'results'))\n",
    "assert os.path.isdir(os.path.join(base_dir, dataset_name, 'logs', train_architecture))\n",
    "assert os.path.isdir(os.path.join(base_dir, dataset_name, 'models', train_architecture))\n",
    "assert os.path.isdir(os.path.join(base_dir, dataset_name, 'results', 'saved_variables'))"
   ]
  },
  {
   "cell_type": "markdown",
   "metadata": {},
   "source": [
    "## Pre-process data"
   ]
  },
  {
   "cell_type": "code",
   "execution_count": 8,
   "metadata": {},
   "outputs": [
    {
     "name": "stdout",
     "output_type": "stream",
     "text": [
      "input: dataset contains 50 samples and 5000 genes\n",
      "Output: normalized dataset contains 50 samples and 5000 genes\n"
     ]
    }
   ],
   "source": [
    "train_vae_modules.normalize_expression_data(base_dir,\n",
    "                                            config_filename,\n",
    "                                            rpkm_data_filename,\n",
    "                                            normalized_data_filename)"
   ]
  },
  {
   "cell_type": "markdown",
   "metadata": {},
   "source": [
    "## Train VAE"
   ]
  },
  {
   "cell_type": "code",
   "execution_count": 9,
   "metadata": {},
   "outputs": [],
   "source": [
    "# Directory containing log information from VAE training\n",
    "vae_log_dir = os.path.join(\n",
    "    base_dir, \n",
    "    dataset_name,\n",
    "    \"logs\",\n",
    "    train_architecture)"
   ]
  },
  {
   "cell_type": "code",
   "execution_count": 10,
   "metadata": {
    "scrolled": false
   },
   "outputs": [
    {
     "name": "stdout",
     "output_type": "stream",
     "text": [
      "input dataset contains 50 samples and 5000 genes\n",
      "WARNING:tensorflow:From /home/alexandra/anaconda3/envs/test_ponyo/lib/python3.7/site-packages/tensorflow_core/python/ops/resource_variable_ops.py:1630: calling BaseResourceVariable.__init__ (from tensorflow.python.ops.resource_variable_ops) with constraint is deprecated and will be removed in a future version.\n",
      "Instructions for updating:\n",
      "If using Keras pass *_constraint arguments to layers.\n",
      "tracking <tf.Variable 'Variable:0' shape=() dtype=float32> beta\n",
      "WARNING:tensorflow:From /home/alexandra/anaconda3/envs/test_ponyo/lib/python3.7/site-packages/tensorflow_core/python/ops/nn_impl.py:183: where (from tensorflow.python.ops.array_ops) is deprecated and will be removed in a future version.\n",
      "Instructions for updating:\n",
      "Use tf.where in 2.0, which has the same broadcast rule as np.where\n",
      "WARNING:tensorflow:From /home/alexandra/anaconda3/envs/test_ponyo/lib/python3.7/site-packages/keras/backend/tensorflow_backend.py:422: The name tf.global_variables is deprecated. Please use tf.compat.v1.global_variables instead.\n",
      "\n",
      "Train on 45 samples, validate on 5 samples\n",
      "Epoch 1/10\n",
      "45/45 [==============================] - 4s 89ms/step - loss: 2510.3052 - val_loss: 2202.2642\n",
      "Epoch 2/10\n",
      "45/45 [==============================] - 4s 79ms/step - loss: 1668.0350 - val_loss: 1887.4274\n",
      "Epoch 3/10\n",
      "45/45 [==============================] - 4s 79ms/step - loss: 1555.4765 - val_loss: 1699.6106\n",
      "Epoch 4/10\n",
      "45/45 [==============================] - 4s 80ms/step - loss: 1546.7784 - val_loss: 1721.3652\n",
      "Epoch 5/10\n",
      "45/45 [==============================] - 4s 80ms/step - loss: 1464.9972 - val_loss: 1669.0635\n",
      "Epoch 6/10\n",
      "45/45 [==============================] - 4s 79ms/step - loss: 1448.0171 - val_loss: 1412.8141\n",
      "Epoch 7/10\n",
      "45/45 [==============================] - 4s 79ms/step - loss: 1491.7861 - val_loss: 1403.7571\n",
      "Epoch 8/10\n",
      "45/45 [==============================] - 4s 79ms/step - loss: 1428.9717 - val_loss: 1322.2233\n",
      "Epoch 9/10\n",
      "45/45 [==============================] - 4s 79ms/step - loss: 1405.8313 - val_loss: 1424.0236\n",
      "Epoch 10/10\n",
      "45/45 [==============================] - 4s 79ms/step - loss: 1325.3066 - val_loss: 1101.1403\n"
     ]
    },
    {
     "data": {
      "image/png": "[encoded data removed]",
      "text/plain": [
       "<Figure size 432x288 with 1 Axes>"
      ]
     },
     "metadata": {
      "needs_background": "light"
     },
     "output_type": "display_data"
    }
   ],
   "source": [
    "# Train VAE\n",
    "train_vae_modules.train_vae(config_filename,\n",
    "                            normalized_data_filename)"
   ]
  },
  {
   "cell_type": "code",
   "execution_count": 11,
   "metadata": {},
   "outputs": [],
   "source": [
    "# Check reproducibility of VAE training\n",
    "template_path = \"data/test_vae_log.tsv\"\n",
    "output_path = \"logs/NN_2500_30/tybalt_2layer_30latent_stats.tsv\"\n",
    "assert pd.read_csv(output_path, sep=\"\\t\")[\"val_loss\"].values[-1] < 1500, pd.read_csv(output_path, sep=\"\\t\")[\"val_loss\"].values[-1]"
   ]
  },
  {
   "cell_type": "markdown",
   "metadata": {},
   "source": [
    "## Simulate data by random sampling"
   ]
  },
  {
   "cell_type": "code",
   "execution_count": 12,
   "metadata": {
    "scrolled": false
   },
   "outputs": [
    {
     "name": "stdout",
     "output_type": "stream",
     "text": [
      "Normalized gene expression data contains 50 samples and 5000 genes\n",
      "Return: simulated gene expression data containing 100 samples and 5000 genes\n"
     ]
    }
   ],
   "source": [
    "# Run simulation\n",
    "simulated_data = simulate_expression_data.simulate_by_random_sampling(\n",
    "    normalized_data_filename,\n",
    "    train_architecture,\n",
    "    dataset_name,\n",
    "    analysis_name,\n",
    "    num_simulated_samples,\n",
    "    local_dir,\n",
    "    base_dir,\n",
    ")"
   ]
  },
  {
   "cell_type": "code",
   "execution_count": 13,
   "metadata": {},
   "outputs": [
    {
     "data": {
      "text/html": [
       "<div>\n",
       "<style scoped>\n",
       "    .dataframe tbody tr th:only-of-type {\n",
       "        vertical-align: middle;\n",
       "    }\n",
       "\n",
       "    .dataframe tbody tr th {\n",
       "        vertical-align: top;\n",
       "    }\n",
       "\n",
       "    .dataframe thead th {\n",
       "        text-align: right;\n",
       "    }\n",
       "</style>\n",
       "<table border=\"1\" class=\"dataframe\">\n",
       "  <thead>\n",
       "    <tr style=\"text-align: right;\">\n",
       "      <th></th>\n",
       "      <th>0</th>\n",
       "      <th>1</th>\n",
       "      <th>2</th>\n",
       "      <th>3</th>\n",
       "      <th>4</th>\n",
       "      <th>5</th>\n",
       "      <th>6</th>\n",
       "      <th>7</th>\n",
       "      <th>8</th>\n",
       "      <th>9</th>\n",
       "      <th>...</th>\n",
       "      <th>4990</th>\n",
       "      <th>4991</th>\n",
       "      <th>4992</th>\n",
       "      <th>4993</th>\n",
       "      <th>4994</th>\n",
       "      <th>4995</th>\n",
       "      <th>4996</th>\n",
       "      <th>4997</th>\n",
       "      <th>4998</th>\n",
       "      <th>4999</th>\n",
       "    </tr>\n",
       "  </thead>\n",
       "  <tbody>\n",
       "    <tr>\n",
       "      <th>0</th>\n",
       "      <td>0.289873</td>\n",
       "      <td>0.272010</td>\n",
       "      <td>0.074044</td>\n",
       "      <td>0.055811</td>\n",
       "      <td>0.179379</td>\n",
       "      <td>0.220847</td>\n",
       "      <td>0.537486</td>\n",
       "      <td>0.564189</td>\n",
       "      <td>0.033234</td>\n",
       "      <td>0.050679</td>\n",
       "      <td>...</td>\n",
       "      <td>0.370798</td>\n",
       "      <td>0.360562</td>\n",
       "      <td>0.035007</td>\n",
       "      <td>0.095800</td>\n",
       "      <td>0.043249</td>\n",
       "      <td>0.070847</td>\n",
       "      <td>0.074709</td>\n",
       "      <td>0.317299</td>\n",
       "      <td>0.266200</td>\n",
       "      <td>0.029781</td>\n",
       "    </tr>\n",
       "    <tr>\n",
       "      <th>1</th>\n",
       "      <td>0.314074</td>\n",
       "      <td>0.134723</td>\n",
       "      <td>0.126257</td>\n",
       "      <td>0.097227</td>\n",
       "      <td>0.069108</td>\n",
       "      <td>0.128172</td>\n",
       "      <td>0.362629</td>\n",
       "      <td>0.419754</td>\n",
       "      <td>0.019725</td>\n",
       "      <td>0.055734</td>\n",
       "      <td>...</td>\n",
       "      <td>0.253337</td>\n",
       "      <td>0.241818</td>\n",
       "      <td>0.027801</td>\n",
       "      <td>0.119203</td>\n",
       "      <td>0.060125</td>\n",
       "      <td>0.134255</td>\n",
       "      <td>0.063775</td>\n",
       "      <td>0.264778</td>\n",
       "      <td>0.243656</td>\n",
       "      <td>0.044611</td>\n",
       "    </tr>\n",
       "    <tr>\n",
       "      <th>2</th>\n",
       "      <td>0.285505</td>\n",
       "      <td>0.285755</td>\n",
       "      <td>0.044610</td>\n",
       "      <td>0.024452</td>\n",
       "      <td>0.197616</td>\n",
       "      <td>0.210292</td>\n",
       "      <td>0.664446</td>\n",
       "      <td>0.570156</td>\n",
       "      <td>0.030497</td>\n",
       "      <td>0.046258</td>\n",
       "      <td>...</td>\n",
       "      <td>0.514132</td>\n",
       "      <td>0.425540</td>\n",
       "      <td>0.021286</td>\n",
       "      <td>0.052621</td>\n",
       "      <td>0.021518</td>\n",
       "      <td>0.070035</td>\n",
       "      <td>0.051232</td>\n",
       "      <td>0.273067</td>\n",
       "      <td>0.231600</td>\n",
       "      <td>0.023600</td>\n",
       "    </tr>\n",
       "    <tr>\n",
       "      <th>3</th>\n",
       "      <td>0.465587</td>\n",
       "      <td>0.138539</td>\n",
       "      <td>0.146351</td>\n",
       "      <td>0.097439</td>\n",
       "      <td>0.096082</td>\n",
       "      <td>0.173430</td>\n",
       "      <td>0.363324</td>\n",
       "      <td>0.430461</td>\n",
       "      <td>0.023225</td>\n",
       "      <td>0.050313</td>\n",
       "      <td>...</td>\n",
       "      <td>0.175586</td>\n",
       "      <td>0.237212</td>\n",
       "      <td>0.046567</td>\n",
       "      <td>0.088100</td>\n",
       "      <td>0.090416</td>\n",
       "      <td>0.133987</td>\n",
       "      <td>0.059639</td>\n",
       "      <td>0.301927</td>\n",
       "      <td>0.324553</td>\n",
       "      <td>0.047162</td>\n",
       "    </tr>\n",
       "    <tr>\n",
       "      <th>4</th>\n",
       "      <td>0.106185</td>\n",
       "      <td>0.356983</td>\n",
       "      <td>0.079461</td>\n",
       "      <td>0.074353</td>\n",
       "      <td>0.186840</td>\n",
       "      <td>0.236176</td>\n",
       "      <td>0.406210</td>\n",
       "      <td>0.372682</td>\n",
       "      <td>0.047334</td>\n",
       "      <td>0.099274</td>\n",
       "      <td>...</td>\n",
       "      <td>0.520229</td>\n",
       "      <td>0.362019</td>\n",
       "      <td>0.047077</td>\n",
       "      <td>0.076618</td>\n",
       "      <td>0.054938</td>\n",
       "      <td>0.127332</td>\n",
       "      <td>0.061074</td>\n",
       "      <td>0.319279</td>\n",
       "      <td>0.125503</td>\n",
       "      <td>0.048442</td>\n",
       "    </tr>\n",
       "  </tbody>\n",
       "</table>\n",
       "<p>5 rows × 5000 columns</p>\n",
       "</div>"
      ],
      "text/plain": [
       "       0         1         2         3         4         5         6     \\\n",
       "0  0.289873  0.272010  0.074044  0.055811  0.179379  0.220847  0.537486   \n",
       "1  0.314074  0.134723  0.126257  0.097227  0.069108  0.128172  0.362629   \n",
       "2  0.285505  0.285755  0.044610  0.024452  0.197616  0.210292  0.664446   \n",
       "3  0.465587  0.138539  0.146351  0.097439  0.096082  0.173430  0.363324   \n",
       "4  0.106185  0.356983  0.079461  0.074353  0.186840  0.236176  0.406210   \n",
       "\n",
       "       7         8         9     ...      4990      4991      4992      4993  \\\n",
       "0  0.564189  0.033234  0.050679  ...  0.370798  0.360562  0.035007  0.095800   \n",
       "1  0.419754  0.019725  0.055734  ...  0.253337  0.241818  0.027801  0.119203   \n",
       "2  0.570156  0.030497  0.046258  ...  0.514132  0.425540  0.021286  0.052621   \n",
       "3  0.430461  0.023225  0.050313  ...  0.175586  0.237212  0.046567  0.088100   \n",
       "4  0.372682  0.047334  0.099274  ...  0.520229  0.362019  0.047077  0.076618   \n",
       "\n",
       "       4994      4995      4996      4997      4998      4999  \n",
       "0  0.043249  0.070847  0.074709  0.317299  0.266200  0.029781  \n",
       "1  0.060125  0.134255  0.063775  0.264778  0.243656  0.044611  \n",
       "2  0.021518  0.070035  0.051232  0.273067  0.231600  0.023600  \n",
       "3  0.090416  0.133987  0.059639  0.301927  0.324553  0.047162  \n",
       "4  0.054938  0.127332  0.061074  0.319279  0.125503  0.048442  \n",
       "\n",
       "[5 rows x 5000 columns]"
      ]
     },
     "execution_count": 13,
     "metadata": {},
     "output_type": "execute_result"
    }
   ],
   "source": [
    "simulated_data.head()"
   ]
  },
  {
   "cell_type": "markdown",
   "metadata": {},
   "source": [
    "## Visualize random sampled compendium"
   ]
  },
  {
   "cell_type": "code",
   "execution_count": 14,
   "metadata": {},
   "outputs": [],
   "source": [
    "# Read data\n",
    "normalized_data = pd.read_csv(normalized_data_filename, header=0, sep=\"\\t\", index_col=0)"
   ]
  },
  {
   "cell_type": "code",
   "execution_count": 15,
   "metadata": {},
   "outputs": [
    {
     "data": {
      "text/html": [
       "<div>\n",
       "<style scoped>\n",
       "    .dataframe tbody tr th:only-of-type {\n",
       "        vertical-align: middle;\n",
       "    }\n",
       "\n",
       "    .dataframe tbody tr th {\n",
       "        vertical-align: top;\n",
       "    }\n",
       "\n",
       "    .dataframe thead th {\n",
       "        text-align: right;\n",
       "    }\n",
       "</style>\n",
       "<table border=\"1\" class=\"dataframe\">\n",
       "  <thead>\n",
       "    <tr style=\"text-align: right;\">\n",
       "      <th></th>\n",
       "      <th>ENSG00000086200.16</th>\n",
       "      <th>ENSG00000279019.1</th>\n",
       "      <th>ENSG00000206772.1</th>\n",
       "      <th>ENSG00000252996.1</th>\n",
       "      <th>ENSG00000277635.1</th>\n",
       "      <th>ENSG00000224790.2</th>\n",
       "      <th>ENSG00000106636.7</th>\n",
       "      <th>ENSG00000152443.12</th>\n",
       "      <th>ENSG00000225819.1</th>\n",
       "      <th>ENSG00000237377.2</th>\n",
       "      <th>...</th>\n",
       "      <th>ENSG00000281392.1</th>\n",
       "      <th>ENSG00000241627.3</th>\n",
       "      <th>ENSG00000239216.1</th>\n",
       "      <th>ENSG00000256797.1</th>\n",
       "      <th>ENSG00000221263.1</th>\n",
       "      <th>ENSG00000249478.1</th>\n",
       "      <th>ENSG00000283340.1</th>\n",
       "      <th>ENSG00000242052.1</th>\n",
       "      <th>ENSG00000264443.1</th>\n",
       "      <th>ENSG00000236858.1</th>\n",
       "    </tr>\n",
       "  </thead>\n",
       "  <tbody>\n",
       "    <tr>\n",
       "      <th>SRR592745</th>\n",
       "      <td>0.080978</td>\n",
       "      <td>0.886399</td>\n",
       "      <td>0.0</td>\n",
       "      <td>0.000654</td>\n",
       "      <td>0.676113</td>\n",
       "      <td>0.092019</td>\n",
       "      <td>0.563159</td>\n",
       "      <td>0.626964</td>\n",
       "      <td>0.0</td>\n",
       "      <td>0.000000</td>\n",
       "      <td>...</td>\n",
       "      <td>0.237537</td>\n",
       "      <td>0.241719</td>\n",
       "      <td>0.0</td>\n",
       "      <td>0.000000</td>\n",
       "      <td>0.0</td>\n",
       "      <td>0.000000</td>\n",
       "      <td>0.0</td>\n",
       "      <td>0.308343</td>\n",
       "      <td>0.111808</td>\n",
       "      <td>0.025641</td>\n",
       "    </tr>\n",
       "    <tr>\n",
       "      <th>SRR592746</th>\n",
       "      <td>0.087339</td>\n",
       "      <td>0.161515</td>\n",
       "      <td>0.0</td>\n",
       "      <td>0.000000</td>\n",
       "      <td>1.000000</td>\n",
       "      <td>0.053521</td>\n",
       "      <td>0.386222</td>\n",
       "      <td>0.333747</td>\n",
       "      <td>0.0</td>\n",
       "      <td>0.000000</td>\n",
       "      <td>...</td>\n",
       "      <td>0.114370</td>\n",
       "      <td>0.334752</td>\n",
       "      <td>0.0</td>\n",
       "      <td>0.000000</td>\n",
       "      <td>0.0</td>\n",
       "      <td>0.000000</td>\n",
       "      <td>0.0</td>\n",
       "      <td>0.124547</td>\n",
       "      <td>0.166928</td>\n",
       "      <td>0.000000</td>\n",
       "    </tr>\n",
       "    <tr>\n",
       "      <th>SRR592747</th>\n",
       "      <td>0.131139</td>\n",
       "      <td>0.411128</td>\n",
       "      <td>0.0</td>\n",
       "      <td>0.000000</td>\n",
       "      <td>0.000000</td>\n",
       "      <td>0.138028</td>\n",
       "      <td>0.514365</td>\n",
       "      <td>0.629170</td>\n",
       "      <td>0.0</td>\n",
       "      <td>0.000000</td>\n",
       "      <td>...</td>\n",
       "      <td>0.064516</td>\n",
       "      <td>0.514277</td>\n",
       "      <td>0.0</td>\n",
       "      <td>0.326923</td>\n",
       "      <td>0.0</td>\n",
       "      <td>0.000000</td>\n",
       "      <td>0.0</td>\n",
       "      <td>0.267231</td>\n",
       "      <td>0.149227</td>\n",
       "      <td>0.000000</td>\n",
       "    </tr>\n",
       "    <tr>\n",
       "      <th>SRR592748</th>\n",
       "      <td>0.144581</td>\n",
       "      <td>0.241113</td>\n",
       "      <td>0.0</td>\n",
       "      <td>0.044672</td>\n",
       "      <td>0.000000</td>\n",
       "      <td>0.135211</td>\n",
       "      <td>0.597027</td>\n",
       "      <td>0.866832</td>\n",
       "      <td>0.0</td>\n",
       "      <td>0.237624</td>\n",
       "      <td>...</td>\n",
       "      <td>1.000000</td>\n",
       "      <td>0.547814</td>\n",
       "      <td>0.0</td>\n",
       "      <td>0.000000</td>\n",
       "      <td>0.0</td>\n",
       "      <td>0.009901</td>\n",
       "      <td>0.0</td>\n",
       "      <td>0.637243</td>\n",
       "      <td>0.255882</td>\n",
       "      <td>0.041026</td>\n",
       "    </tr>\n",
       "    <tr>\n",
       "      <th>SRR592749</th>\n",
       "      <td>0.202282</td>\n",
       "      <td>0.047913</td>\n",
       "      <td>0.0</td>\n",
       "      <td>0.000000</td>\n",
       "      <td>0.000000</td>\n",
       "      <td>0.090141</td>\n",
       "      <td>0.667133</td>\n",
       "      <td>0.773918</td>\n",
       "      <td>0.0</td>\n",
       "      <td>0.000000</td>\n",
       "      <td>...</td>\n",
       "      <td>0.850440</td>\n",
       "      <td>0.486658</td>\n",
       "      <td>0.0</td>\n",
       "      <td>0.000000</td>\n",
       "      <td>0.0</td>\n",
       "      <td>0.014851</td>\n",
       "      <td>0.0</td>\n",
       "      <td>0.712213</td>\n",
       "      <td>0.230114</td>\n",
       "      <td>0.000000</td>\n",
       "    </tr>\n",
       "  </tbody>\n",
       "</table>\n",
       "<p>5 rows × 5000 columns</p>\n",
       "</div>"
      ],
      "text/plain": [
       "           ENSG00000086200.16  ENSG00000279019.1  ENSG00000206772.1  \\\n",
       "SRR592745            0.080978           0.886399                0.0   \n",
       "SRR592746            0.087339           0.161515                0.0   \n",
       "SRR592747            0.131139           0.411128                0.0   \n",
       "SRR592748            0.144581           0.241113                0.0   \n",
       "SRR592749            0.202282           0.047913                0.0   \n",
       "\n",
       "           ENSG00000252996.1  ENSG00000277635.1  ENSG00000224790.2  \\\n",
       "SRR592745           0.000654           0.676113           0.092019   \n",
       "SRR592746           0.000000           1.000000           0.053521   \n",
       "SRR592747           0.000000           0.000000           0.138028   \n",
       "SRR592748           0.044672           0.000000           0.135211   \n",
       "SRR592749           0.000000           0.000000           0.090141   \n",
       "\n",
       "           ENSG00000106636.7  ENSG00000152443.12  ENSG00000225819.1  \\\n",
       "SRR592745           0.563159            0.626964                0.0   \n",
       "SRR592746           0.386222            0.333747                0.0   \n",
       "SRR592747           0.514365            0.629170                0.0   \n",
       "SRR592748           0.597027            0.866832                0.0   \n",
       "SRR592749           0.667133            0.773918                0.0   \n",
       "\n",
       "           ENSG00000237377.2  ...  ENSG00000281392.1  ENSG00000241627.3  \\\n",
       "SRR592745           0.000000  ...           0.237537           0.241719   \n",
       "SRR592746           0.000000  ...           0.114370           0.334752   \n",
       "SRR592747           0.000000  ...           0.064516           0.514277   \n",
       "SRR592748           0.237624  ...           1.000000           0.547814   \n",
       "SRR592749           0.000000  ...           0.850440           0.486658   \n",
       "\n",
       "           ENSG00000239216.1  ENSG00000256797.1  ENSG00000221263.1  \\\n",
       "SRR592745                0.0           0.000000                0.0   \n",
       "SRR592746                0.0           0.000000                0.0   \n",
       "SRR592747                0.0           0.326923                0.0   \n",
       "SRR592748                0.0           0.000000                0.0   \n",
       "SRR592749                0.0           0.000000                0.0   \n",
       "\n",
       "           ENSG00000249478.1  ENSG00000283340.1  ENSG00000242052.1  \\\n",
       "SRR592745           0.000000                0.0           0.308343   \n",
       "SRR592746           0.000000                0.0           0.124547   \n",
       "SRR592747           0.000000                0.0           0.267231   \n",
       "SRR592748           0.009901                0.0           0.637243   \n",
       "SRR592749           0.014851                0.0           0.712213   \n",
       "\n",
       "           ENSG00000264443.1  ENSG00000236858.1  \n",
       "SRR592745           0.111808           0.025641  \n",
       "SRR592746           0.166928           0.000000  \n",
       "SRR592747           0.149227           0.000000  \n",
       "SRR592748           0.255882           0.041026  \n",
       "SRR592749           0.230114           0.000000  \n",
       "\n",
       "[5 rows x 5000 columns]"
      ]
     },
     "execution_count": 15,
     "metadata": {},
     "output_type": "execute_result"
    }
   ],
   "source": [
    "normalized_data.head()"
   ]
  },
  {
   "cell_type": "code",
   "execution_count": 16,
   "metadata": {},
   "outputs": [],
   "source": [
    "model = umap.UMAP(random_state=123).fit(normalized_data)\n",
    "\n",
    "input_data_UMAPencoded = model.transform(normalized_data)\n",
    "input_data_UMAPencoded_df = pd.DataFrame(data=input_data_UMAPencoded,\n",
    "                                         index=normalized_data.index,\n",
    "                                         columns=['1','2'])"
   ]
  },
  {
   "cell_type": "code",
   "execution_count": 17,
   "metadata": {},
   "outputs": [],
   "source": [
    "# UMAP embedding of simulated data\n",
    "\n",
    "simulated_data_UMAPencoded = model.transform(simulated_data)\n",
    "simulated_data_UMAPencoded_df = pd.DataFrame(data=simulated_data_UMAPencoded,\n",
    "                                         index=simulated_data.index,\n",
    "                                         columns=['1','2'])"
   ]
  },
  {
   "cell_type": "code",
   "execution_count": 18,
   "metadata": {
    "scrolled": false
   },
   "outputs": [
    {
     "data": {
      "image/png": "[encoded data removed]",
      "text/plain": [
       "<Figure size 640x480 with 1 Axes>"
      ]
     },
     "metadata": {},
     "output_type": "display_data"
    },
    {
     "name": "stdout",
     "output_type": "stream",
     "text": [
      "<ggplot: (8743551026057)>\n"
     ]
    }
   ],
   "source": [
    "# Overlay original input vs simulated data\n",
    "\n",
    "# Add label for input or simulated dataset\n",
    "input_data_UMAPencoded_df['dataset'] = 'original'\n",
    "simulated_data_UMAPencoded_df['dataset'] = 'simulated'\n",
    "\n",
    "# Concatenate input and simulated dataframes together\n",
    "combined_data_df = pd.concat([input_data_UMAPencoded_df, simulated_data_UMAPencoded_df])\n",
    "\n",
    "# Plot\n",
    "g_input_sim = ggplot(combined_data_df, aes(x='1', y='2'))\n",
    "g_input_sim += geom_point(aes(color='dataset'),alpha=0.3)\n",
    "g_input_sim += labs(x = \"UMAP 1\",\n",
    "                    y = \"UMAP 2\", \n",
    "                    title = \"Original and simulated data\")\n",
    "g_input_sim += theme_bw()\n",
    "g_input_sim += theme(\n",
    "    legend_title_align = \"center\",\n",
    "    plot_background=element_rect(fill='white'),\n",
    "    legend_key=element_rect(fill='white', colour='white'), \n",
    "    plot_title=element_text(family='sans-serif', size=15),\n",
    "    axis_text=element_text(family='sans-serif', size=12),\n",
    "    axis_title=element_text(family='sans-serif', size=15)\n",
    "\n",
    ")\n",
    "\n",
    "print(g_input_sim)"
   ]
  },
  {
   "cell_type": "code",
   "execution_count": null,
   "metadata": {},
   "outputs": [],
   "source": []
  }
 ],
 "metadata": {
  "kernelspec": {
   "display_name": "Python 3",
   "language": "python",
   "name": "python3"
  },
  "language_info": {
   "codemirror_mode": {
    "name": "ipython",
    "version": 3
   },
   "file_extension": ".py",
   "mimetype": "text/x-python",
   "name": "python",
   "nbconvert_exporter": "python",
   "pygments_lexer": "ipython3",
   "version": "3.7.9"
  }
 },
 "nbformat": 4,
 "nbformat_minor": 2
}
