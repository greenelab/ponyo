{
 "cells": [
  {
   "cell_type": "markdown",
   "metadata": {},
   "source": [
    "# Test simulating compendia by random sampling"
   ]
  },
  {
   "cell_type": "code",
   "execution_count": 1,
   "metadata": {},
   "outputs": [
    {
     "name": "stdout",
     "output_type": "stream",
     "text": [
      "WARNING:tensorflow:From /home/alexandra/Documents/Repos/ponyo/ponyo/helper_vae.py:42: The name tf.ConfigProto is deprecated. Please use tf.compat.v1.ConfigProto instead.\n",
      "\n",
      "WARNING:tensorflow:From /home/alexandra/Documents/Repos/ponyo/ponyo/helper_vae.py:52: The name tf.set_random_seed is deprecated. Please use tf.compat.v1.set_random_seed instead.\n",
      "\n",
      "WARNING:tensorflow:From /home/alexandra/Documents/Repos/ponyo/ponyo/helper_vae.py:54: The name tf.Session is deprecated. Please use tf.compat.v1.Session instead.\n",
      "\n",
      "WARNING:tensorflow:From /home/alexandra/Documents/Repos/ponyo/ponyo/helper_vae.py:54: The name tf.get_default_graph is deprecated. Please use tf.compat.v1.get_default_graph instead.\n",
      "\n"
     ]
    },
    {
     "name": "stderr",
     "output_type": "stream",
     "text": [
      "Using TensorFlow backend.\n"
     ]
    }
   ],
   "source": [
    "%load_ext autoreload\n",
    "%autoreload 2\n",
    "\n",
    "import os\n",
    "import sys\n",
    "import pandas as pd\n",
    "import numpy as np\n",
    "import random\n",
    "import umap\n",
    "from plotnine import (ggplot,\n",
    "                      labs,  \n",
    "                      geom_point,\n",
    "                      aes, \n",
    "                      ggsave, \n",
    "                      theme_bw,\n",
    "                      theme,\n",
    "                      facet_wrap,\n",
    "                      scale_color_manual,\n",
    "                      guides, \n",
    "                      guide_legend,\n",
    "                      element_blank,\n",
    "                      element_text,\n",
    "                      element_rect,\n",
    "                      element_line,\n",
    "                      coords)\n",
    "\n",
    "\n",
    "import warnings\n",
    "warnings.filterwarnings(action='ignore')\n",
    "\n",
    "from ponyo import utils, train_vae_modules, simulate_expression_data\n",
    "\n",
    "np.random.seed(123)"
   ]
  },
  {
   "cell_type": "code",
   "execution_count": 2,
   "metadata": {},
   "outputs": [],
   "source": [
    "# Read in config variables\n",
    "base_dir = os.path.abspath(os.path.join(os.getcwd(),\"../\"))\n",
    "config_file = os.path.abspath(os.path.join(base_dir,\n",
    "                                           \"human_tests\", \n",
    "                                           \"config_test_human.tsv\"))\n",
    "params = utils.read_config(config_file)"
   ]
  },
  {
   "cell_type": "code",
   "execution_count": 3,
   "metadata": {},
   "outputs": [],
   "source": [
    "# Load parameters\n",
    "local_dir = params[\"local_dir\"]\n",
    "dataset_name = params['dataset_name']\n",
    "analysis_name = params[\"simulation_type\"]\n",
    "train_architecture = params['NN_architecture']\n",
    "num_simulated_samples = params['num_simulated_samples']"
   ]
  },
  {
   "cell_type": "code",
   "execution_count": 4,
   "metadata": {},
   "outputs": [],
   "source": [
    "# Input files\n",
    "rpkm_data_file = os.path.join(\n",
    "    base_dir,\n",
    "    dataset_name,\n",
    "    \"data\",\n",
    "    \"input\",\n",
    "    \"recount2_gene_RPKM_data_test.tsv\")\n",
    "assert os.path.exists(rpkm_data_file)"
   ]
  },
  {
   "cell_type": "markdown",
   "metadata": {},
   "source": [
    "## Setup directories"
   ]
  },
  {
   "cell_type": "code",
   "execution_count": 5,
   "metadata": {},
   "outputs": [],
   "source": [
    "utils.setup_dir(config_file)"
   ]
  },
  {
   "cell_type": "code",
   "execution_count": 6,
   "metadata": {},
   "outputs": [],
   "source": [
    "# Check that directories were made correctly\n",
    "assert os.path.isdir(os.path.join(base_dir, dataset_name, 'logs'))\n",
    "assert os.path.isdir(os.path.join(base_dir, dataset_name, 'models'))\n",
    "assert os.path.isdir(os.path.join(base_dir, dataset_name, 'results'))\n",
    "assert os.path.isdir(os.path.join(base_dir, dataset_name, 'logs', train_architecture))\n",
    "assert os.path.isdir(os.path.join(base_dir, dataset_name, 'models', train_architecture))\n",
    "assert os.path.isdir(os.path.join(base_dir, dataset_name, 'results', 'saved_variables'))"
   ]
  },
  {
   "cell_type": "markdown",
   "metadata": {},
   "source": [
    "## Pre-process data"
   ]
  },
  {
   "cell_type": "code",
   "execution_count": 7,
   "metadata": {},
   "outputs": [],
   "source": [
    "# Output file\n",
    "normalized_data_file = os.path.join(\n",
    "    base_dir,\n",
    "    dataset_name,\n",
    "    \"data\",\n",
    "    \"input\",\n",
    "    \"recount2_gene_normalized_data_test.tsv.xz\")"
   ]
  },
  {
   "cell_type": "code",
   "execution_count": 8,
   "metadata": {},
   "outputs": [
    {
     "name": "stdout",
     "output_type": "stream",
     "text": [
      "input: dataset contains 50 samples and 5000 genes\n",
      "Output: normalized dataset contains 50 samples and 5000 genes\n"
     ]
    }
   ],
   "source": [
    "train_vae_modules.normalize_expression_data(base_dir,\n",
    "                                            config_file,\n",
    "                                            rpkm_data_file,\n",
    "                                            normalized_data_file)"
   ]
  },
  {
   "cell_type": "markdown",
   "metadata": {},
   "source": [
    "## Train VAE"
   ]
  },
  {
   "cell_type": "code",
   "execution_count": 9,
   "metadata": {},
   "outputs": [],
   "source": [
    "# Directory containing log information from VAE training\n",
    "vae_log_dir = os.path.join(\n",
    "    base_dir, \n",
    "    dataset_name,\n",
    "    \"logs\",\n",
    "    train_architecture)"
   ]
  },
  {
   "cell_type": "code",
   "execution_count": 10,
   "metadata": {
    "scrolled": false
   },
   "outputs": [
    {
     "name": "stdout",
     "output_type": "stream",
     "text": [
      "input dataset contains 50 samples and 5000 genes\n",
      "WARNING:tensorflow:From /home/alexandra/anaconda3/envs/test_ponyo/lib/python3.7/site-packages/tensorflow_core/python/ops/resource_variable_ops.py:1630: calling BaseResourceVariable.__init__ (from tensorflow.python.ops.resource_variable_ops) with constraint is deprecated and will be removed in a future version.\n",
      "Instructions for updating:\n",
      "If using Keras pass *_constraint arguments to layers.\n",
      "tracking <tf.Variable 'Variable:0' shape=() dtype=float32> beta\n",
      "WARNING:tensorflow:From /home/alexandra/anaconda3/envs/test_ponyo/lib/python3.7/site-packages/tensorflow_core/python/ops/nn_impl.py:183: where (from tensorflow.python.ops.array_ops) is deprecated and will be removed in a future version.\n",
      "Instructions for updating:\n",
      "Use tf.where in 2.0, which has the same broadcast rule as np.where\n",
      "WARNING:tensorflow:From /home/alexandra/anaconda3/envs/test_ponyo/lib/python3.7/site-packages/keras/backend/tensorflow_backend.py:422: The name tf.global_variables is deprecated. Please use tf.compat.v1.global_variables instead.\n",
      "\n",
      "Train on 45 samples, validate on 5 samples\n",
      "Epoch 1/10\n",
      "45/45 [==============================] - 4s 87ms/step - loss: 2466.1157 - val_loss: 2732.3794\n",
      "Epoch 2/10\n",
      "45/45 [==============================] - 4s 79ms/step - loss: 1671.2000 - val_loss: 2180.0254\n",
      "Epoch 3/10\n",
      "45/45 [==============================] - 4s 79ms/step - loss: 1566.8134 - val_loss: 1799.3981\n",
      "Epoch 4/10\n",
      "45/45 [==============================] - 4s 79ms/step - loss: 1481.5624 - val_loss: 1730.4000\n",
      "Epoch 5/10\n",
      "45/45 [==============================] - 4s 79ms/step - loss: 1577.5155 - val_loss: 1477.1692\n",
      "Epoch 6/10\n",
      "45/45 [==============================] - 4s 79ms/step - loss: 1444.5721 - val_loss: 1510.9468\n",
      "Epoch 7/10\n",
      "45/45 [==============================] - 4s 79ms/step - loss: 1475.4207 - val_loss: 1665.0172\n",
      "Epoch 8/10\n",
      "45/45 [==============================] - 4s 79ms/step - loss: 1398.1642 - val_loss: 1395.9967\n",
      "Epoch 9/10\n",
      "45/45 [==============================] - 4s 79ms/step - loss: 1352.5633 - val_loss: 1312.8037\n",
      "Epoch 10/10\n",
      "45/45 [==============================] - 4s 79ms/step - loss: 1410.7101 - val_loss: 1250.9480\n"
     ]
    },
    {
     "data": {
      "image/png": "[encoded data removed]",
      "text/plain": [
       "<Figure size 432x288 with 1 Axes>"
      ]
     },
     "metadata": {
      "needs_background": "light"
     },
     "output_type": "display_data"
    }
   ],
   "source": [
    "# Train VAE\n",
    "train_vae_modules.train_vae(config_file,\n",
    "                            normalized_data_file)"
   ]
  },
  {
   "cell_type": "code",
   "execution_count": 11,
   "metadata": {},
   "outputs": [],
   "source": [
    "# Check reproducibility of VAE training\n",
    "template_path = \"data/test_vae_log.tsv\"\n",
    "output_path = \"logs/NN_2500_30/tybalt_2layer_30latent_stats.tsv\"\n",
    "assert pd.read_csv(output_path, sep=\"\\t\").shape == (10, 6)\n",
    "assert pd.read_csv(template_path, sep=\"\\t\").shape == (10, 6)\n",
    "assert np.all(np.isclose(\n",
    "    pd.read_csv(output_path, sep=\"\\t\").values,\n",
    "    pd.read_csv(template_path, sep=\"\\t\").values\n",
    "))"
   ]
  },
  {
   "cell_type": "markdown",
   "metadata": {},
   "source": [
    "## Simulate data by random sampling"
   ]
  },
  {
   "cell_type": "code",
   "execution_count": 13,
   "metadata": {
    "scrolled": false
   },
   "outputs": [
    {
     "name": "stdout",
     "output_type": "stream",
     "text": [
      "Normalized gene expression data contains 50 samples and 5000 genes\n",
      "Return: simulated gene expression data containing 100 samples and 5000 genes\n"
     ]
    }
   ],
   "source": [
    "# Run simulation\n",
    "simulated_data = simulate_expression_data.simulate_by_random_sampling(\n",
    "    normalized_data_file,\n",
    "    train_architecture,\n",
    "    dataset_name,\n",
    "    analysis_name,\n",
    "    num_simulated_samples,\n",
    "    local_dir,\n",
    "    base_dir,\n",
    ")"
   ]
  },
  {
   "cell_type": "code",
   "execution_count": 14,
   "metadata": {},
   "outputs": [
    {
     "data": {
      "text/html": [
       "<div>\n",
       "<style scoped>\n",
       "    .dataframe tbody tr th:only-of-type {\n",
       "        vertical-align: middle;\n",
       "    }\n",
       "\n",
       "    .dataframe tbody tr th {\n",
       "        vertical-align: top;\n",
       "    }\n",
       "\n",
       "    .dataframe thead th {\n",
       "        text-align: right;\n",
       "    }\n",
       "</style>\n",
       "<table border=\"1\" class=\"dataframe\">\n",
       "  <thead>\n",
       "    <tr style=\"text-align: right;\">\n",
       "      <th></th>\n",
       "      <th>0</th>\n",
       "      <th>1</th>\n",
       "      <th>2</th>\n",
       "      <th>3</th>\n",
       "      <th>4</th>\n",
       "      <th>5</th>\n",
       "      <th>6</th>\n",
       "      <th>7</th>\n",
       "      <th>8</th>\n",
       "      <th>9</th>\n",
       "      <th>...</th>\n",
       "      <th>4990</th>\n",
       "      <th>4991</th>\n",
       "      <th>4992</th>\n",
       "      <th>4993</th>\n",
       "      <th>4994</th>\n",
       "      <th>4995</th>\n",
       "      <th>4996</th>\n",
       "      <th>4997</th>\n",
       "      <th>4998</th>\n",
       "      <th>4999</th>\n",
       "    </tr>\n",
       "  </thead>\n",
       "  <tbody>\n",
       "    <tr>\n",
       "      <th>0</th>\n",
       "      <td>0.116545</td>\n",
       "      <td>0.242878</td>\n",
       "      <td>0.101668</td>\n",
       "      <td>0.111846</td>\n",
       "      <td>0.167790</td>\n",
       "      <td>0.188080</td>\n",
       "      <td>0.289256</td>\n",
       "      <td>0.285983</td>\n",
       "      <td>0.028210</td>\n",
       "      <td>0.027333</td>\n",
       "      <td>...</td>\n",
       "      <td>0.288439</td>\n",
       "      <td>0.336217</td>\n",
       "      <td>0.047567</td>\n",
       "      <td>0.093139</td>\n",
       "      <td>0.063792</td>\n",
       "      <td>0.102148</td>\n",
       "      <td>0.037190</td>\n",
       "      <td>0.184502</td>\n",
       "      <td>0.141033</td>\n",
       "      <td>0.028157</td>\n",
       "    </tr>\n",
       "    <tr>\n",
       "      <th>1</th>\n",
       "      <td>0.560394</td>\n",
       "      <td>0.148399</td>\n",
       "      <td>0.082687</td>\n",
       "      <td>0.017038</td>\n",
       "      <td>0.095638</td>\n",
       "      <td>0.157734</td>\n",
       "      <td>0.547953</td>\n",
       "      <td>0.774925</td>\n",
       "      <td>0.013090</td>\n",
       "      <td>0.015165</td>\n",
       "      <td>...</td>\n",
       "      <td>0.275028</td>\n",
       "      <td>0.401980</td>\n",
       "      <td>0.006928</td>\n",
       "      <td>0.122875</td>\n",
       "      <td>0.007454</td>\n",
       "      <td>0.084825</td>\n",
       "      <td>0.046089</td>\n",
       "      <td>0.337591</td>\n",
       "      <td>0.449259</td>\n",
       "      <td>0.021833</td>\n",
       "    </tr>\n",
       "    <tr>\n",
       "      <th>2</th>\n",
       "      <td>0.541061</td>\n",
       "      <td>0.208339</td>\n",
       "      <td>0.101393</td>\n",
       "      <td>0.052982</td>\n",
       "      <td>0.130653</td>\n",
       "      <td>0.265143</td>\n",
       "      <td>0.535740</td>\n",
       "      <td>0.635391</td>\n",
       "      <td>0.036666</td>\n",
       "      <td>0.030473</td>\n",
       "      <td>...</td>\n",
       "      <td>0.299499</td>\n",
       "      <td>0.351219</td>\n",
       "      <td>0.024323</td>\n",
       "      <td>0.147584</td>\n",
       "      <td>0.026868</td>\n",
       "      <td>0.103777</td>\n",
       "      <td>0.084295</td>\n",
       "      <td>0.206810</td>\n",
       "      <td>0.385353</td>\n",
       "      <td>0.031507</td>\n",
       "    </tr>\n",
       "    <tr>\n",
       "      <th>3</th>\n",
       "      <td>0.185529</td>\n",
       "      <td>0.171700</td>\n",
       "      <td>0.214616</td>\n",
       "      <td>0.170990</td>\n",
       "      <td>0.109823</td>\n",
       "      <td>0.172503</td>\n",
       "      <td>0.230433</td>\n",
       "      <td>0.186548</td>\n",
       "      <td>0.038943</td>\n",
       "      <td>0.070034</td>\n",
       "      <td>...</td>\n",
       "      <td>0.206834</td>\n",
       "      <td>0.195282</td>\n",
       "      <td>0.130743</td>\n",
       "      <td>0.145636</td>\n",
       "      <td>0.165465</td>\n",
       "      <td>0.233604</td>\n",
       "      <td>0.059511</td>\n",
       "      <td>0.184814</td>\n",
       "      <td>0.173968</td>\n",
       "      <td>0.077202</td>\n",
       "    </tr>\n",
       "    <tr>\n",
       "      <th>4</th>\n",
       "      <td>0.324281</td>\n",
       "      <td>0.187562</td>\n",
       "      <td>0.193589</td>\n",
       "      <td>0.174241</td>\n",
       "      <td>0.139180</td>\n",
       "      <td>0.244298</td>\n",
       "      <td>0.339876</td>\n",
       "      <td>0.431560</td>\n",
       "      <td>0.044843</td>\n",
       "      <td>0.059918</td>\n",
       "      <td>...</td>\n",
       "      <td>0.228585</td>\n",
       "      <td>0.276230</td>\n",
       "      <td>0.073014</td>\n",
       "      <td>0.158995</td>\n",
       "      <td>0.110528</td>\n",
       "      <td>0.174733</td>\n",
       "      <td>0.076429</td>\n",
       "      <td>0.209044</td>\n",
       "      <td>0.280849</td>\n",
       "      <td>0.069134</td>\n",
       "    </tr>\n",
       "  </tbody>\n",
       "</table>\n",
       "<p>5 rows × 5000 columns</p>\n",
       "</div>"
      ],
      "text/plain": [
       "       0         1         2         3         4         5         6     \\\n",
       "0  0.116545  0.242878  0.101668  0.111846  0.167790  0.188080  0.289256   \n",
       "1  0.560394  0.148399  0.082687  0.017038  0.095638  0.157734  0.547953   \n",
       "2  0.541061  0.208339  0.101393  0.052982  0.130653  0.265143  0.535740   \n",
       "3  0.185529  0.171700  0.214616  0.170990  0.109823  0.172503  0.230433   \n",
       "4  0.324281  0.187562  0.193589  0.174241  0.139180  0.244298  0.339876   \n",
       "\n",
       "       7         8         9     ...      4990      4991      4992      4993  \\\n",
       "0  0.285983  0.028210  0.027333  ...  0.288439  0.336217  0.047567  0.093139   \n",
       "1  0.774925  0.013090  0.015165  ...  0.275028  0.401980  0.006928  0.122875   \n",
       "2  0.635391  0.036666  0.030473  ...  0.299499  0.351219  0.024323  0.147584   \n",
       "3  0.186548  0.038943  0.070034  ...  0.206834  0.195282  0.130743  0.145636   \n",
       "4  0.431560  0.044843  0.059918  ...  0.228585  0.276230  0.073014  0.158995   \n",
       "\n",
       "       4994      4995      4996      4997      4998      4999  \n",
       "0  0.063792  0.102148  0.037190  0.184502  0.141033  0.028157  \n",
       "1  0.007454  0.084825  0.046089  0.337591  0.449259  0.021833  \n",
       "2  0.026868  0.103777  0.084295  0.206810  0.385353  0.031507  \n",
       "3  0.165465  0.233604  0.059511  0.184814  0.173968  0.077202  \n",
       "4  0.110528  0.174733  0.076429  0.209044  0.280849  0.069134  \n",
       "\n",
       "[5 rows x 5000 columns]"
      ]
     },
     "execution_count": 14,
     "metadata": {},
     "output_type": "execute_result"
    }
   ],
   "source": [
    "simulated_data.head()"
   ]
  },
  {
   "cell_type": "markdown",
   "metadata": {},
   "source": [
    "## Visualize random sampled compendium"
   ]
  },
  {
   "cell_type": "code",
   "execution_count": 15,
   "metadata": {},
   "outputs": [],
   "source": [
    "# Read data\n",
    "normalized_data = pd.read_csv(normalized_data_file, header=0, sep=\"\\t\", index_col=0)"
   ]
  },
  {
   "cell_type": "code",
   "execution_count": 16,
   "metadata": {},
   "outputs": [
    {
     "data": {
      "text/html": [
       "<div>\n",
       "<style scoped>\n",
       "    .dataframe tbody tr th:only-of-type {\n",
       "        vertical-align: middle;\n",
       "    }\n",
       "\n",
       "    .dataframe tbody tr th {\n",
       "        vertical-align: top;\n",
       "    }\n",
       "\n",
       "    .dataframe thead th {\n",
       "        text-align: right;\n",
       "    }\n",
       "</style>\n",
       "<table border=\"1\" class=\"dataframe\">\n",
       "  <thead>\n",
       "    <tr style=\"text-align: right;\">\n",
       "      <th></th>\n",
       "      <th>ENSG00000086200.16</th>\n",
       "      <th>ENSG00000279019.1</th>\n",
       "      <th>ENSG00000206772.1</th>\n",
       "      <th>ENSG00000252996.1</th>\n",
       "      <th>ENSG00000277635.1</th>\n",
       "      <th>ENSG00000224790.2</th>\n",
       "      <th>ENSG00000106636.7</th>\n",
       "      <th>ENSG00000152443.12</th>\n",
       "      <th>ENSG00000225819.1</th>\n",
       "      <th>ENSG00000237377.2</th>\n",
       "      <th>...</th>\n",
       "      <th>ENSG00000281392.1</th>\n",
       "      <th>ENSG00000241627.3</th>\n",
       "      <th>ENSG00000239216.1</th>\n",
       "      <th>ENSG00000256797.1</th>\n",
       "      <th>ENSG00000221263.1</th>\n",
       "      <th>ENSG00000249478.1</th>\n",
       "      <th>ENSG00000283340.1</th>\n",
       "      <th>ENSG00000242052.1</th>\n",
       "      <th>ENSG00000264443.1</th>\n",
       "      <th>ENSG00000236858.1</th>\n",
       "    </tr>\n",
       "  </thead>\n",
       "  <tbody>\n",
       "    <tr>\n",
       "      <th>SRR592745</th>\n",
       "      <td>0.080978</td>\n",
       "      <td>0.886399</td>\n",
       "      <td>0.0</td>\n",
       "      <td>0.000654</td>\n",
       "      <td>0.676113</td>\n",
       "      <td>0.092019</td>\n",
       "      <td>0.563159</td>\n",
       "      <td>0.626964</td>\n",
       "      <td>0.0</td>\n",
       "      <td>0.000000</td>\n",
       "      <td>...</td>\n",
       "      <td>0.237537</td>\n",
       "      <td>0.241719</td>\n",
       "      <td>0.0</td>\n",
       "      <td>0.000000</td>\n",
       "      <td>0.0</td>\n",
       "      <td>0.000000</td>\n",
       "      <td>0.0</td>\n",
       "      <td>0.308343</td>\n",
       "      <td>0.111808</td>\n",
       "      <td>0.025641</td>\n",
       "    </tr>\n",
       "    <tr>\n",
       "      <th>SRR592746</th>\n",
       "      <td>0.087339</td>\n",
       "      <td>0.161515</td>\n",
       "      <td>0.0</td>\n",
       "      <td>0.000000</td>\n",
       "      <td>1.000000</td>\n",
       "      <td>0.053521</td>\n",
       "      <td>0.386222</td>\n",
       "      <td>0.333747</td>\n",
       "      <td>0.0</td>\n",
       "      <td>0.000000</td>\n",
       "      <td>...</td>\n",
       "      <td>0.114370</td>\n",
       "      <td>0.334752</td>\n",
       "      <td>0.0</td>\n",
       "      <td>0.000000</td>\n",
       "      <td>0.0</td>\n",
       "      <td>0.000000</td>\n",
       "      <td>0.0</td>\n",
       "      <td>0.124547</td>\n",
       "      <td>0.166928</td>\n",
       "      <td>0.000000</td>\n",
       "    </tr>\n",
       "    <tr>\n",
       "      <th>SRR592747</th>\n",
       "      <td>0.131139</td>\n",
       "      <td>0.411128</td>\n",
       "      <td>0.0</td>\n",
       "      <td>0.000000</td>\n",
       "      <td>0.000000</td>\n",
       "      <td>0.138028</td>\n",
       "      <td>0.514365</td>\n",
       "      <td>0.629170</td>\n",
       "      <td>0.0</td>\n",
       "      <td>0.000000</td>\n",
       "      <td>...</td>\n",
       "      <td>0.064516</td>\n",
       "      <td>0.514277</td>\n",
       "      <td>0.0</td>\n",
       "      <td>0.326923</td>\n",
       "      <td>0.0</td>\n",
       "      <td>0.000000</td>\n",
       "      <td>0.0</td>\n",
       "      <td>0.267231</td>\n",
       "      <td>0.149227</td>\n",
       "      <td>0.000000</td>\n",
       "    </tr>\n",
       "    <tr>\n",
       "      <th>SRR592748</th>\n",
       "      <td>0.144581</td>\n",
       "      <td>0.241113</td>\n",
       "      <td>0.0</td>\n",
       "      <td>0.044672</td>\n",
       "      <td>0.000000</td>\n",
       "      <td>0.135211</td>\n",
       "      <td>0.597027</td>\n",
       "      <td>0.866832</td>\n",
       "      <td>0.0</td>\n",
       "      <td>0.237624</td>\n",
       "      <td>...</td>\n",
       "      <td>1.000000</td>\n",
       "      <td>0.547814</td>\n",
       "      <td>0.0</td>\n",
       "      <td>0.000000</td>\n",
       "      <td>0.0</td>\n",
       "      <td>0.009901</td>\n",
       "      <td>0.0</td>\n",
       "      <td>0.637243</td>\n",
       "      <td>0.255882</td>\n",
       "      <td>0.041026</td>\n",
       "    </tr>\n",
       "    <tr>\n",
       "      <th>SRR592749</th>\n",
       "      <td>0.202282</td>\n",
       "      <td>0.047913</td>\n",
       "      <td>0.0</td>\n",
       "      <td>0.000000</td>\n",
       "      <td>0.000000</td>\n",
       "      <td>0.090141</td>\n",
       "      <td>0.667133</td>\n",
       "      <td>0.773918</td>\n",
       "      <td>0.0</td>\n",
       "      <td>0.000000</td>\n",
       "      <td>...</td>\n",
       "      <td>0.850440</td>\n",
       "      <td>0.486658</td>\n",
       "      <td>0.0</td>\n",
       "      <td>0.000000</td>\n",
       "      <td>0.0</td>\n",
       "      <td>0.014851</td>\n",
       "      <td>0.0</td>\n",
       "      <td>0.712213</td>\n",
       "      <td>0.230114</td>\n",
       "      <td>0.000000</td>\n",
       "    </tr>\n",
       "  </tbody>\n",
       "</table>\n",
       "<p>5 rows × 5000 columns</p>\n",
       "</div>"
      ],
      "text/plain": [
       "           ENSG00000086200.16  ENSG00000279019.1  ENSG00000206772.1  \\\n",
       "SRR592745            0.080978           0.886399                0.0   \n",
       "SRR592746            0.087339           0.161515                0.0   \n",
       "SRR592747            0.131139           0.411128                0.0   \n",
       "SRR592748            0.144581           0.241113                0.0   \n",
       "SRR592749            0.202282           0.047913                0.0   \n",
       "\n",
       "           ENSG00000252996.1  ENSG00000277635.1  ENSG00000224790.2  \\\n",
       "SRR592745           0.000654           0.676113           0.092019   \n",
       "SRR592746           0.000000           1.000000           0.053521   \n",
       "SRR592747           0.000000           0.000000           0.138028   \n",
       "SRR592748           0.044672           0.000000           0.135211   \n",
       "SRR592749           0.000000           0.000000           0.090141   \n",
       "\n",
       "           ENSG00000106636.7  ENSG00000152443.12  ENSG00000225819.1  \\\n",
       "SRR592745           0.563159            0.626964                0.0   \n",
       "SRR592746           0.386222            0.333747                0.0   \n",
       "SRR592747           0.514365            0.629170                0.0   \n",
       "SRR592748           0.597027            0.866832                0.0   \n",
       "SRR592749           0.667133            0.773918                0.0   \n",
       "\n",
       "           ENSG00000237377.2  ...  ENSG00000281392.1  ENSG00000241627.3  \\\n",
       "SRR592745           0.000000  ...           0.237537           0.241719   \n",
       "SRR592746           0.000000  ...           0.114370           0.334752   \n",
       "SRR592747           0.000000  ...           0.064516           0.514277   \n",
       "SRR592748           0.237624  ...           1.000000           0.547814   \n",
       "SRR592749           0.000000  ...           0.850440           0.486658   \n",
       "\n",
       "           ENSG00000239216.1  ENSG00000256797.1  ENSG00000221263.1  \\\n",
       "SRR592745                0.0           0.000000                0.0   \n",
       "SRR592746                0.0           0.000000                0.0   \n",
       "SRR592747                0.0           0.326923                0.0   \n",
       "SRR592748                0.0           0.000000                0.0   \n",
       "SRR592749                0.0           0.000000                0.0   \n",
       "\n",
       "           ENSG00000249478.1  ENSG00000283340.1  ENSG00000242052.1  \\\n",
       "SRR592745           0.000000                0.0           0.308343   \n",
       "SRR592746           0.000000                0.0           0.124547   \n",
       "SRR592747           0.000000                0.0           0.267231   \n",
       "SRR592748           0.009901                0.0           0.637243   \n",
       "SRR592749           0.014851                0.0           0.712213   \n",
       "\n",
       "           ENSG00000264443.1  ENSG00000236858.1  \n",
       "SRR592745           0.111808           0.025641  \n",
       "SRR592746           0.166928           0.000000  \n",
       "SRR592747           0.149227           0.000000  \n",
       "SRR592748           0.255882           0.041026  \n",
       "SRR592749           0.230114           0.000000  \n",
       "\n",
       "[5 rows x 5000 columns]"
      ]
     },
     "execution_count": 16,
     "metadata": {},
     "output_type": "execute_result"
    }
   ],
   "source": [
    "normalized_data.head()"
   ]
  },
  {
   "cell_type": "code",
   "execution_count": 17,
   "metadata": {},
   "outputs": [],
   "source": [
    "model = umap.UMAP(random_state=123).fit(normalized_data)\n",
    "\n",
    "input_data_UMAPencoded = model.transform(normalized_data)\n",
    "input_data_UMAPencoded_df = pd.DataFrame(data=input_data_UMAPencoded,\n",
    "                                         index=normalized_data.index,\n",
    "                                         columns=['1','2'])"
   ]
  },
  {
   "cell_type": "code",
   "execution_count": 18,
   "metadata": {},
   "outputs": [],
   "source": [
    "# UMAP embedding of simulated data\n",
    "\n",
    "simulated_data_UMAPencoded = model.transform(simulated_data)\n",
    "simulated_data_UMAPencoded_df = pd.DataFrame(data=simulated_data_UMAPencoded,\n",
    "                                         index=simulated_data.index,\n",
    "                                         columns=['1','2'])"
   ]
  },
  {
   "cell_type": "code",
   "execution_count": 19,
   "metadata": {
    "scrolled": false
   },
   "outputs": [
    {
     "data": {
      "image/png": "[encoded data removed]",
      "text/plain": [
       "<Figure size 640x480 with 1 Axes>"
      ]
     },
     "metadata": {},
     "output_type": "display_data"
    },
    {
     "name": "stdout",
     "output_type": "stream",
     "text": [
      "<ggplot: (8726579963793)>\n"
     ]
    }
   ],
   "source": [
    "# Overlay original input vs simulated data\n",
    "\n",
    "# Add label for input or simulated dataset\n",
    "input_data_UMAPencoded_df['dataset'] = 'original'\n",
    "simulated_data_UMAPencoded_df['dataset'] = 'simulated'\n",
    "\n",
    "# Concatenate input and simulated dataframes together\n",
    "combined_data_df = pd.concat([input_data_UMAPencoded_df, simulated_data_UMAPencoded_df])\n",
    "\n",
    "# Plot\n",
    "g_input_sim = ggplot(combined_data_df, aes(x='1', y='2'))\n",
    "g_input_sim += geom_point(aes(color='dataset'),alpha=0.3)\n",
    "g_input_sim += labs(x = \"UMAP 1\",\n",
    "                    y = \"UMAP 2\", \n",
    "                    title = \"Original and simulated data\")\n",
    "g_input_sim += theme_bw()\n",
    "g_input_sim += theme(\n",
    "    legend_title_align = \"center\",\n",
    "    plot_background=element_rect(fill='white'),\n",
    "    legend_key=element_rect(fill='white', colour='white'), \n",
    "    plot_title=element_text(family='sans-serif', size=15),\n",
    "    axis_text=element_text(family='sans-serif', size=12),\n",
    "    axis_title=element_text(family='sans-serif', size=15)\n",
    "\n",
    ")\n",
    "\n",
    "print(g_input_sim)"
   ]
  },
  {
   "cell_type": "code",
   "execution_count": null,
   "metadata": {},
   "outputs": [],
   "source": []
  }
 ],
 "metadata": {
  "kernelspec": {
   "display_name": "Python 3",
   "language": "python",
   "name": "python3"
  },
  "language_info": {
   "codemirror_mode": {
    "name": "ipython",
    "version": 3
   },
   "file_extension": ".py",
   "mimetype": "text/x-python",
   "name": "python",
   "nbconvert_exporter": "python",
   "pygments_lexer": "ipython3",
   "version": "3.7.7"
  }
 },
 "nbformat": 4,
 "nbformat_minor": 2
}
