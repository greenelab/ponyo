{
 "cells": [
  {
   "cell_type": "markdown",
   "metadata": {},
   "source": [
    "# Test simulating compendia by random sampling"
   ]
  },
  {
   "cell_type": "code",
   "execution_count": 1,
   "metadata": {},
   "outputs": [
    {
     "name": "stderr",
     "output_type": "stream",
     "text": [
      "Using TensorFlow backend.\n"
     ]
    }
   ],
   "source": [
    "%load_ext autoreload\n",
    "%autoreload 2\n",
    "\n",
    "import os\n",
    "import sys\n",
    "import pandas as pd\n",
    "import numpy as np\n",
    "import random\n",
    "import umap\n",
    "from plotnine import (ggplot,\n",
    "                      labs,  \n",
    "                      geom_point,\n",
    "                      aes, \n",
    "                      ggsave, \n",
    "                      theme_bw,\n",
    "                      theme,\n",
    "                      facet_wrap,\n",
    "                      scale_color_manual,\n",
    "                      guides, \n",
    "                      guide_legend,\n",
    "                      element_blank,\n",
    "                      element_text,\n",
    "                      element_rect,\n",
    "                      element_line,\n",
    "                      coords)\n",
    "\n",
    "\n",
    "import warnings\n",
    "warnings.filterwarnings(action='ignore')\n",
    "\n",
    "from ponyo import utils, train_vae_modules, simulate_expression_data\n",
    "\n",
    "np.random.seed(123)"
   ]
  },
  {
   "cell_type": "code",
   "execution_count": 2,
   "metadata": {},
   "outputs": [],
   "source": [
    "# Read in config variables\n",
    "base_dir = os.path.abspath(os.path.join(os.getcwd(),\"../\"))\n",
    "config_file = os.path.abspath(os.path.join(base_dir,\n",
    "                                           \"human_tests\", \n",
    "                                           \"config_test_human.tsv\"))\n",
    "params = utils.read_config(config_file)"
   ]
  },
  {
   "cell_type": "code",
   "execution_count": 3,
   "metadata": {},
   "outputs": [],
   "source": [
    "# Load parameters\n",
    "local_dir = params[\"local_dir\"]\n",
    "dataset_name = params['dataset_name']\n",
    "analysis_name = params[\"simulation_type\"]\n",
    "train_architecture = params['NN_architecture']\n",
    "num_simulated_samples = params['num_simulated_samples']"
   ]
  },
  {
   "cell_type": "code",
   "execution_count": 4,
   "metadata": {},
   "outputs": [],
   "source": [
    "# Input files\n",
    "rpkm_data_file = os.path.join(\n",
    "    base_dir,\n",
    "    dataset_name,\n",
    "    \"data\",\n",
    "    \"input\",\n",
    "    \"recount2_gene_RPKM_data_test.tsv\")\n",
    "assert os.path.exists(rpkm_data_file)"
   ]
  },
  {
   "cell_type": "markdown",
   "metadata": {},
   "source": [
    "## Setup directories"
   ]
  },
  {
   "cell_type": "code",
   "execution_count": 5,
   "metadata": {},
   "outputs": [],
   "source": [
    "utils.setup_dir(config_file)"
   ]
  },
  {
   "cell_type": "markdown",
   "metadata": {},
   "source": [
    "## Pre-process data"
   ]
  },
  {
   "cell_type": "code",
   "execution_count": 6,
   "metadata": {},
   "outputs": [],
   "source": [
    "# Output file\n",
    "normalized_data_file = os.path.join(\n",
    "    base_dir,\n",
    "    dataset_name,\n",
    "    \"data\",\n",
    "    \"input\",\n",
    "    \"recount2_gene_normalized_data_test.tsv.xz\")"
   ]
  },
  {
   "cell_type": "code",
   "execution_count": 7,
   "metadata": {},
   "outputs": [
    {
     "name": "stdout",
     "output_type": "stream",
     "text": [
      "input: dataset contains 50 samples and 5000 genes\n",
      "Output: normalized dataset contains 50 samples and 5000 genes\n"
     ]
    }
   ],
   "source": [
    "train_vae_modules.normalize_expression_data(base_dir,\n",
    "                                            config_file,\n",
    "                                            rpkm_data_file,\n",
    "                                            normalized_data_file)"
   ]
  },
  {
   "cell_type": "markdown",
   "metadata": {},
   "source": [
    "## Train VAE"
   ]
  },
  {
   "cell_type": "code",
   "execution_count": 8,
   "metadata": {},
   "outputs": [],
   "source": [
    "# Directory containing log information from VAE training\n",
    "vae_log_dir = os.path.join(\n",
    "    base_dir, \n",
    "    dataset_name,\n",
    "    \"logs\",\n",
    "    train_architecture)"
   ]
  },
  {
   "cell_type": "code",
   "execution_count": 9,
   "metadata": {
    "scrolled": false
   },
   "outputs": [
    {
     "name": "stdout",
     "output_type": "stream",
     "text": [
      "input dataset contains 50 samples and 5000 genes\n",
      "WARNING:tensorflow:From /home/alexandra/anaconda3/envs/simulate_expression_compendia/lib/python3.7/site-packages/tensorflow/python/ops/resource_variable_ops.py:435: colocate_with (from tensorflow.python.framework.ops) is deprecated and will be removed in a future version.\n",
      "Instructions for updating:\n",
      "Colocations handled automatically by placer.\n",
      "tracking <tf.Variable 'Variable:0' shape=() dtype=float32> beta\n",
      "WARNING:tensorflow:From /home/alexandra/anaconda3/envs/simulate_expression_compendia/lib/python3.7/site-packages/tensorflow/python/ops/math_ops.py:3066: to_int32 (from tensorflow.python.ops.math_ops) is deprecated and will be removed in a future version.\n",
      "Instructions for updating:\n",
      "Use tf.cast instead.\n",
      "Train on 45 samples, validate on 5 samples\n",
      "Epoch 1/10\n",
      "45/45 [==============================] - 4s 88ms/step - loss: 2466.1158 - val_loss: 2732.4883\n",
      "Epoch 2/10\n",
      "45/45 [==============================] - 4s 80ms/step - loss: 1671.1998 - val_loss: 2180.0183\n",
      "Epoch 3/10\n",
      "45/45 [==============================] - 4s 79ms/step - loss: 1566.8178 - val_loss: 1799.2496\n",
      "Epoch 4/10\n",
      "45/45 [==============================] - 4s 79ms/step - loss: 1481.5816 - val_loss: 1730.1412\n",
      "Epoch 5/10\n",
      "45/45 [==============================] - 4s 79ms/step - loss: 1577.6224 - val_loss: 1477.2603\n",
      "Epoch 6/10\n",
      "45/45 [==============================] - 4s 79ms/step - loss: 1444.6422 - val_loss: 1510.6864\n",
      "Epoch 7/10\n",
      "45/45 [==============================] - 4s 79ms/step - loss: 1475.2912 - val_loss: 1676.2584\n",
      "Epoch 8/10\n",
      "45/45 [==============================] - 4s 79ms/step - loss: 1398.2218 - val_loss: 1403.8243\n",
      "Epoch 9/10\n",
      "45/45 [==============================] - 4s 79ms/step - loss: 1352.8320 - val_loss: 1309.4790\n",
      "Epoch 10/10\n",
      "45/45 [==============================] - 4s 79ms/step - loss: 1411.7664 - val_loss: 1252.2395\n"
     ]
    },
    {
     "data": {
      "image/png": "[encoded data removed]",
      "text/plain": [
       "<Figure size 432x288 with 1 Axes>"
      ]
     },
     "metadata": {
      "needs_background": "light"
     },
     "output_type": "display_data"
    }
   ],
   "source": [
    "# Train VAE\n",
    "train_vae_modules.train_vae(config_file,\n",
    "                            normalized_data_file)"
   ]
  },
  {
   "cell_type": "code",
   "execution_count": 10,
   "metadata": {},
   "outputs": [],
   "source": [
    "# Check reproducibility of VAE training\n",
    "template_path = \"data/test_vae_log.tsv\"\n",
    "output_path = \"logs/NN_2500_30/tybalt_2layer_30latent_stats.tsv\"\n",
    "assert np.all(np.isclose(\n",
    "    pd.read_csv(output_path, sep=\"\\t\").values,\n",
    "    pd.read_csv(template_path, sep=\"\\t\").values\n",
    "))"
   ]
  },
  {
   "cell_type": "markdown",
   "metadata": {},
   "source": [
    "## Simulate data by random sampling"
   ]
  },
  {
   "cell_type": "code",
   "execution_count": 11,
   "metadata": {
    "scrolled": false
   },
   "outputs": [
    {
     "name": "stdout",
     "output_type": "stream",
     "text": [
      "Normalized gene expression data contains 50 samples and 5000 genes\n",
      "Return: simulated gene expression data containing 100 samples and 5000 genes\n"
     ]
    }
   ],
   "source": [
    "# Run simulation\n",
    "simulated_data = simulate_expression_data.simulate_by_random_sampling(\n",
    "    normalized_data_file,\n",
    "    train_architecture,\n",
    "    dataset_name,\n",
    "    analysis_name,\n",
    "    num_simulated_samples,\n",
    "    local_dir,\n",
    "    base_dir,\n",
    ")"
   ]
  },
  {
   "cell_type": "code",
   "execution_count": 12,
   "metadata": {},
   "outputs": [
    {
     "data": {
      "text/html": [
       "<div>\n",
       "<style scoped>\n",
       "    .dataframe tbody tr th:only-of-type {\n",
       "        vertical-align: middle;\n",
       "    }\n",
       "\n",
       "    .dataframe tbody tr th {\n",
       "        vertical-align: top;\n",
       "    }\n",
       "\n",
       "    .dataframe thead th {\n",
       "        text-align: right;\n",
       "    }\n",
       "</style>\n",
       "<table border=\"1\" class=\"dataframe\">\n",
       "  <thead>\n",
       "    <tr style=\"text-align: right;\">\n",
       "      <th></th>\n",
       "      <th>0</th>\n",
       "      <th>1</th>\n",
       "      <th>2</th>\n",
       "      <th>3</th>\n",
       "      <th>4</th>\n",
       "      <th>5</th>\n",
       "      <th>6</th>\n",
       "      <th>7</th>\n",
       "      <th>8</th>\n",
       "      <th>9</th>\n",
       "      <th>...</th>\n",
       "      <th>4990</th>\n",
       "      <th>4991</th>\n",
       "      <th>4992</th>\n",
       "      <th>4993</th>\n",
       "      <th>4994</th>\n",
       "      <th>4995</th>\n",
       "      <th>4996</th>\n",
       "      <th>4997</th>\n",
       "      <th>4998</th>\n",
       "      <th>4999</th>\n",
       "    </tr>\n",
       "  </thead>\n",
       "  <tbody>\n",
       "    <tr>\n",
       "      <th>0</th>\n",
       "      <td>0.107708</td>\n",
       "      <td>0.254322</td>\n",
       "      <td>0.091486</td>\n",
       "      <td>0.098933</td>\n",
       "      <td>0.169752</td>\n",
       "      <td>0.185692</td>\n",
       "      <td>0.296073</td>\n",
       "      <td>0.283656</td>\n",
       "      <td>0.027364</td>\n",
       "      <td>0.024563</td>\n",
       "      <td>...</td>\n",
       "      <td>0.302836</td>\n",
       "      <td>0.346906</td>\n",
       "      <td>0.042573</td>\n",
       "      <td>0.086233</td>\n",
       "      <td>0.054200</td>\n",
       "      <td>0.093757</td>\n",
       "      <td>0.034767</td>\n",
       "      <td>0.182133</td>\n",
       "      <td>0.133820</td>\n",
       "      <td>0.025069</td>\n",
       "    </tr>\n",
       "    <tr>\n",
       "      <th>1</th>\n",
       "      <td>0.521881</td>\n",
       "      <td>0.163992</td>\n",
       "      <td>0.077538</td>\n",
       "      <td>0.016292</td>\n",
       "      <td>0.102869</td>\n",
       "      <td>0.162192</td>\n",
       "      <td>0.552984</td>\n",
       "      <td>0.766563</td>\n",
       "      <td>0.014100</td>\n",
       "      <td>0.015000</td>\n",
       "      <td>...</td>\n",
       "      <td>0.299863</td>\n",
       "      <td>0.418889</td>\n",
       "      <td>0.007024</td>\n",
       "      <td>0.115648</td>\n",
       "      <td>0.006958</td>\n",
       "      <td>0.079686</td>\n",
       "      <td>0.044777</td>\n",
       "      <td>0.334944</td>\n",
       "      <td>0.426920</td>\n",
       "      <td>0.020790</td>\n",
       "    </tr>\n",
       "    <tr>\n",
       "      <th>2</th>\n",
       "      <td>0.551535</td>\n",
       "      <td>0.202164</td>\n",
       "      <td>0.101121</td>\n",
       "      <td>0.051845</td>\n",
       "      <td>0.126703</td>\n",
       "      <td>0.259566</td>\n",
       "      <td>0.534539</td>\n",
       "      <td>0.639785</td>\n",
       "      <td>0.035570</td>\n",
       "      <td>0.029662</td>\n",
       "      <td>...</td>\n",
       "      <td>0.292004</td>\n",
       "      <td>0.347224</td>\n",
       "      <td>0.023687</td>\n",
       "      <td>0.147598</td>\n",
       "      <td>0.026355</td>\n",
       "      <td>0.103412</td>\n",
       "      <td>0.082812</td>\n",
       "      <td>0.206011</td>\n",
       "      <td>0.389102</td>\n",
       "      <td>0.031277</td>\n",
       "    </tr>\n",
       "    <tr>\n",
       "      <th>3</th>\n",
       "      <td>0.174245</td>\n",
       "      <td>0.167301</td>\n",
       "      <td>0.208217</td>\n",
       "      <td>0.171929</td>\n",
       "      <td>0.106976</td>\n",
       "      <td>0.168417</td>\n",
       "      <td>0.220404</td>\n",
       "      <td>0.174601</td>\n",
       "      <td>0.037360</td>\n",
       "      <td>0.068209</td>\n",
       "      <td>...</td>\n",
       "      <td>0.201284</td>\n",
       "      <td>0.190060</td>\n",
       "      <td>0.133151</td>\n",
       "      <td>0.140554</td>\n",
       "      <td>0.167005</td>\n",
       "      <td>0.227725</td>\n",
       "      <td>0.055806</td>\n",
       "      <td>0.177414</td>\n",
       "      <td>0.165894</td>\n",
       "      <td>0.073089</td>\n",
       "    </tr>\n",
       "    <tr>\n",
       "      <th>4</th>\n",
       "      <td>0.310609</td>\n",
       "      <td>0.189269</td>\n",
       "      <td>0.192279</td>\n",
       "      <td>0.174314</td>\n",
       "      <td>0.137617</td>\n",
       "      <td>0.242249</td>\n",
       "      <td>0.331464</td>\n",
       "      <td>0.416984</td>\n",
       "      <td>0.044677</td>\n",
       "      <td>0.060262</td>\n",
       "      <td>...</td>\n",
       "      <td>0.229771</td>\n",
       "      <td>0.272926</td>\n",
       "      <td>0.075518</td>\n",
       "      <td>0.156485</td>\n",
       "      <td>0.110277</td>\n",
       "      <td>0.174624</td>\n",
       "      <td>0.074767</td>\n",
       "      <td>0.206038</td>\n",
       "      <td>0.271069</td>\n",
       "      <td>0.068040</td>\n",
       "    </tr>\n",
       "  </tbody>\n",
       "</table>\n",
       "<p>5 rows × 5000 columns</p>\n",
       "</div>"
      ],
      "text/plain": [
       "       0         1         2         3         4         5         6     \\\n",
       "0  0.107708  0.254322  0.091486  0.098933  0.169752  0.185692  0.296073   \n",
       "1  0.521881  0.163992  0.077538  0.016292  0.102869  0.162192  0.552984   \n",
       "2  0.551535  0.202164  0.101121  0.051845  0.126703  0.259566  0.534539   \n",
       "3  0.174245  0.167301  0.208217  0.171929  0.106976  0.168417  0.220404   \n",
       "4  0.310609  0.189269  0.192279  0.174314  0.137617  0.242249  0.331464   \n",
       "\n",
       "       7         8         9     ...      4990      4991      4992      4993  \\\n",
       "0  0.283656  0.027364  0.024563  ...  0.302836  0.346906  0.042573  0.086233   \n",
       "1  0.766563  0.014100  0.015000  ...  0.299863  0.418889  0.007024  0.115648   \n",
       "2  0.639785  0.035570  0.029662  ...  0.292004  0.347224  0.023687  0.147598   \n",
       "3  0.174601  0.037360  0.068209  ...  0.201284  0.190060  0.133151  0.140554   \n",
       "4  0.416984  0.044677  0.060262  ...  0.229771  0.272926  0.075518  0.156485   \n",
       "\n",
       "       4994      4995      4996      4997      4998      4999  \n",
       "0  0.054200  0.093757  0.034767  0.182133  0.133820  0.025069  \n",
       "1  0.006958  0.079686  0.044777  0.334944  0.426920  0.020790  \n",
       "2  0.026355  0.103412  0.082812  0.206011  0.389102  0.031277  \n",
       "3  0.167005  0.227725  0.055806  0.177414  0.165894  0.073089  \n",
       "4  0.110277  0.174624  0.074767  0.206038  0.271069  0.068040  \n",
       "\n",
       "[5 rows x 5000 columns]"
      ]
     },
     "execution_count": 12,
     "metadata": {},
     "output_type": "execute_result"
    }
   ],
   "source": [
    "simulated_data.head()"
   ]
  },
  {
   "cell_type": "markdown",
   "metadata": {},
   "source": [
    "## Visualize random sampled compendium"
   ]
  },
  {
   "cell_type": "code",
   "execution_count": 13,
   "metadata": {},
   "outputs": [],
   "source": [
    "# Read data\n",
    "normalized_data = pd.read_csv(normalized_data_file, header=0, sep=\"\\t\", index_col=0)"
   ]
  },
  {
   "cell_type": "code",
   "execution_count": 14,
   "metadata": {},
   "outputs": [
    {
     "data": {
      "text/html": [
       "<div>\n",
       "<style scoped>\n",
       "    .dataframe tbody tr th:only-of-type {\n",
       "        vertical-align: middle;\n",
       "    }\n",
       "\n",
       "    .dataframe tbody tr th {\n",
       "        vertical-align: top;\n",
       "    }\n",
       "\n",
       "    .dataframe thead th {\n",
       "        text-align: right;\n",
       "    }\n",
       "</style>\n",
       "<table border=\"1\" class=\"dataframe\">\n",
       "  <thead>\n",
       "    <tr style=\"text-align: right;\">\n",
       "      <th></th>\n",
       "      <th>ENSG00000086200.16</th>\n",
       "      <th>ENSG00000279019.1</th>\n",
       "      <th>ENSG00000206772.1</th>\n",
       "      <th>ENSG00000252996.1</th>\n",
       "      <th>ENSG00000277635.1</th>\n",
       "      <th>ENSG00000224790.2</th>\n",
       "      <th>ENSG00000106636.7</th>\n",
       "      <th>ENSG00000152443.12</th>\n",
       "      <th>ENSG00000225819.1</th>\n",
       "      <th>ENSG00000237377.2</th>\n",
       "      <th>...</th>\n",
       "      <th>ENSG00000281392.1</th>\n",
       "      <th>ENSG00000241627.3</th>\n",
       "      <th>ENSG00000239216.1</th>\n",
       "      <th>ENSG00000256797.1</th>\n",
       "      <th>ENSG00000221263.1</th>\n",
       "      <th>ENSG00000249478.1</th>\n",
       "      <th>ENSG00000283340.1</th>\n",
       "      <th>ENSG00000242052.1</th>\n",
       "      <th>ENSG00000264443.1</th>\n",
       "      <th>ENSG00000236858.1</th>\n",
       "    </tr>\n",
       "  </thead>\n",
       "  <tbody>\n",
       "    <tr>\n",
       "      <th>SRR592745</th>\n",
       "      <td>0.080978</td>\n",
       "      <td>0.886399</td>\n",
       "      <td>0.0</td>\n",
       "      <td>0.000654</td>\n",
       "      <td>0.676113</td>\n",
       "      <td>0.092019</td>\n",
       "      <td>0.563159</td>\n",
       "      <td>0.626964</td>\n",
       "      <td>0.0</td>\n",
       "      <td>0.000000</td>\n",
       "      <td>...</td>\n",
       "      <td>0.237537</td>\n",
       "      <td>0.241719</td>\n",
       "      <td>0.0</td>\n",
       "      <td>0.000000</td>\n",
       "      <td>0.0</td>\n",
       "      <td>0.000000</td>\n",
       "      <td>0.0</td>\n",
       "      <td>0.308343</td>\n",
       "      <td>0.111808</td>\n",
       "      <td>0.025641</td>\n",
       "    </tr>\n",
       "    <tr>\n",
       "      <th>SRR592746</th>\n",
       "      <td>0.087339</td>\n",
       "      <td>0.161515</td>\n",
       "      <td>0.0</td>\n",
       "      <td>0.000000</td>\n",
       "      <td>1.000000</td>\n",
       "      <td>0.053521</td>\n",
       "      <td>0.386222</td>\n",
       "      <td>0.333747</td>\n",
       "      <td>0.0</td>\n",
       "      <td>0.000000</td>\n",
       "      <td>...</td>\n",
       "      <td>0.114370</td>\n",
       "      <td>0.334752</td>\n",
       "      <td>0.0</td>\n",
       "      <td>0.000000</td>\n",
       "      <td>0.0</td>\n",
       "      <td>0.000000</td>\n",
       "      <td>0.0</td>\n",
       "      <td>0.124547</td>\n",
       "      <td>0.166928</td>\n",
       "      <td>0.000000</td>\n",
       "    </tr>\n",
       "    <tr>\n",
       "      <th>SRR592747</th>\n",
       "      <td>0.131139</td>\n",
       "      <td>0.411128</td>\n",
       "      <td>0.0</td>\n",
       "      <td>0.000000</td>\n",
       "      <td>0.000000</td>\n",
       "      <td>0.138028</td>\n",
       "      <td>0.514365</td>\n",
       "      <td>0.629170</td>\n",
       "      <td>0.0</td>\n",
       "      <td>0.000000</td>\n",
       "      <td>...</td>\n",
       "      <td>0.064516</td>\n",
       "      <td>0.514277</td>\n",
       "      <td>0.0</td>\n",
       "      <td>0.326923</td>\n",
       "      <td>0.0</td>\n",
       "      <td>0.000000</td>\n",
       "      <td>0.0</td>\n",
       "      <td>0.267231</td>\n",
       "      <td>0.149227</td>\n",
       "      <td>0.000000</td>\n",
       "    </tr>\n",
       "    <tr>\n",
       "      <th>SRR592748</th>\n",
       "      <td>0.144581</td>\n",
       "      <td>0.241113</td>\n",
       "      <td>0.0</td>\n",
       "      <td>0.044672</td>\n",
       "      <td>0.000000</td>\n",
       "      <td>0.135211</td>\n",
       "      <td>0.597027</td>\n",
       "      <td>0.866832</td>\n",
       "      <td>0.0</td>\n",
       "      <td>0.237624</td>\n",
       "      <td>...</td>\n",
       "      <td>1.000000</td>\n",
       "      <td>0.547814</td>\n",
       "      <td>0.0</td>\n",
       "      <td>0.000000</td>\n",
       "      <td>0.0</td>\n",
       "      <td>0.009901</td>\n",
       "      <td>0.0</td>\n",
       "      <td>0.637243</td>\n",
       "      <td>0.255882</td>\n",
       "      <td>0.041026</td>\n",
       "    </tr>\n",
       "    <tr>\n",
       "      <th>SRR592749</th>\n",
       "      <td>0.202282</td>\n",
       "      <td>0.047913</td>\n",
       "      <td>0.0</td>\n",
       "      <td>0.000000</td>\n",
       "      <td>0.000000</td>\n",
       "      <td>0.090141</td>\n",
       "      <td>0.667133</td>\n",
       "      <td>0.773918</td>\n",
       "      <td>0.0</td>\n",
       "      <td>0.000000</td>\n",
       "      <td>...</td>\n",
       "      <td>0.850440</td>\n",
       "      <td>0.486658</td>\n",
       "      <td>0.0</td>\n",
       "      <td>0.000000</td>\n",
       "      <td>0.0</td>\n",
       "      <td>0.014851</td>\n",
       "      <td>0.0</td>\n",
       "      <td>0.712213</td>\n",
       "      <td>0.230114</td>\n",
       "      <td>0.000000</td>\n",
       "    </tr>\n",
       "  </tbody>\n",
       "</table>\n",
       "<p>5 rows × 5000 columns</p>\n",
       "</div>"
      ],
      "text/plain": [
       "           ENSG00000086200.16  ENSG00000279019.1  ENSG00000206772.1  \\\n",
       "SRR592745            0.080978           0.886399                0.0   \n",
       "SRR592746            0.087339           0.161515                0.0   \n",
       "SRR592747            0.131139           0.411128                0.0   \n",
       "SRR592748            0.144581           0.241113                0.0   \n",
       "SRR592749            0.202282           0.047913                0.0   \n",
       "\n",
       "           ENSG00000252996.1  ENSG00000277635.1  ENSG00000224790.2  \\\n",
       "SRR592745           0.000654           0.676113           0.092019   \n",
       "SRR592746           0.000000           1.000000           0.053521   \n",
       "SRR592747           0.000000           0.000000           0.138028   \n",
       "SRR592748           0.044672           0.000000           0.135211   \n",
       "SRR592749           0.000000           0.000000           0.090141   \n",
       "\n",
       "           ENSG00000106636.7  ENSG00000152443.12  ENSG00000225819.1  \\\n",
       "SRR592745           0.563159            0.626964                0.0   \n",
       "SRR592746           0.386222            0.333747                0.0   \n",
       "SRR592747           0.514365            0.629170                0.0   \n",
       "SRR592748           0.597027            0.866832                0.0   \n",
       "SRR592749           0.667133            0.773918                0.0   \n",
       "\n",
       "           ENSG00000237377.2  ...  ENSG00000281392.1  ENSG00000241627.3  \\\n",
       "SRR592745           0.000000  ...           0.237537           0.241719   \n",
       "SRR592746           0.000000  ...           0.114370           0.334752   \n",
       "SRR592747           0.000000  ...           0.064516           0.514277   \n",
       "SRR592748           0.237624  ...           1.000000           0.547814   \n",
       "SRR592749           0.000000  ...           0.850440           0.486658   \n",
       "\n",
       "           ENSG00000239216.1  ENSG00000256797.1  ENSG00000221263.1  \\\n",
       "SRR592745                0.0           0.000000                0.0   \n",
       "SRR592746                0.0           0.000000                0.0   \n",
       "SRR592747                0.0           0.326923                0.0   \n",
       "SRR592748                0.0           0.000000                0.0   \n",
       "SRR592749                0.0           0.000000                0.0   \n",
       "\n",
       "           ENSG00000249478.1  ENSG00000283340.1  ENSG00000242052.1  \\\n",
       "SRR592745           0.000000                0.0           0.308343   \n",
       "SRR592746           0.000000                0.0           0.124547   \n",
       "SRR592747           0.000000                0.0           0.267231   \n",
       "SRR592748           0.009901                0.0           0.637243   \n",
       "SRR592749           0.014851                0.0           0.712213   \n",
       "\n",
       "           ENSG00000264443.1  ENSG00000236858.1  \n",
       "SRR592745           0.111808           0.025641  \n",
       "SRR592746           0.166928           0.000000  \n",
       "SRR592747           0.149227           0.000000  \n",
       "SRR592748           0.255882           0.041026  \n",
       "SRR592749           0.230114           0.000000  \n",
       "\n",
       "[5 rows x 5000 columns]"
      ]
     },
     "execution_count": 14,
     "metadata": {},
     "output_type": "execute_result"
    }
   ],
   "source": [
    "normalized_data.head()"
   ]
  },
  {
   "cell_type": "code",
   "execution_count": 15,
   "metadata": {},
   "outputs": [],
   "source": [
    "model = umap.UMAP(random_state=123).fit(normalized_data)\n",
    "\n",
    "input_data_UMAPencoded = model.transform(normalized_data)\n",
    "input_data_UMAPencoded_df = pd.DataFrame(data=input_data_UMAPencoded,\n",
    "                                         index=normalized_data.index,\n",
    "                                         columns=['1','2'])"
   ]
  },
  {
   "cell_type": "code",
   "execution_count": 16,
   "metadata": {},
   "outputs": [],
   "source": [
    "# UMAP embedding of simulated data\n",
    "\n",
    "simulated_data_UMAPencoded = model.transform(simulated_data)\n",
    "simulated_data_UMAPencoded_df = pd.DataFrame(data=simulated_data_UMAPencoded,\n",
    "                                         index=simulated_data.index,\n",
    "                                         columns=['1','2'])"
   ]
  },
  {
   "cell_type": "code",
   "execution_count": 17,
   "metadata": {
    "scrolled": false
   },
   "outputs": [
    {
     "data": {
      "image/png": "[encoded data removed]",
      "text/plain": [
       "<Figure size 640x480 with 1 Axes>"
      ]
     },
     "metadata": {},
     "output_type": "display_data"
    },
    {
     "name": "stdout",
     "output_type": "stream",
     "text": [
      "<ggplot: (-9223363269550871338)>\n"
     ]
    }
   ],
   "source": [
    "# Overlay original input vs simulated data\n",
    "\n",
    "# Add label for input or simulated dataset\n",
    "input_data_UMAPencoded_df['dataset'] = 'original'\n",
    "simulated_data_UMAPencoded_df['dataset'] = 'simulated'\n",
    "\n",
    "# Concatenate input and simulated dataframes together\n",
    "combined_data_df = pd.concat([input_data_UMAPencoded_df, simulated_data_UMAPencoded_df])\n",
    "\n",
    "# Plot\n",
    "g_input_sim = ggplot(combined_data_df, aes(x='1', y='2'))\n",
    "g_input_sim += geom_point(aes(color='dataset'),alpha=0.3)\n",
    "g_input_sim += labs(x = \"UMAP 1\",\n",
    "                    y = \"UMAP 2\", \n",
    "                    title = \"Original and simulated data\")\n",
    "g_input_sim += theme_bw()\n",
    "g_input_sim += theme(\n",
    "    legend_title_align = \"center\",\n",
    "    plot_background=element_rect(fill='white'),\n",
    "    legend_key=element_rect(fill='white', colour='white'), \n",
    "    plot_title=element_text(family='sans-serif', size=15),\n",
    "    axis_text=element_text(family='sans-serif', size=12),\n",
    "    axis_title=element_text(family='sans-serif', size=15)\n",
    "\n",
    ")\n",
    "\n",
    "print(g_input_sim)"
   ]
  },
  {
   "cell_type": "code",
   "execution_count": null,
   "metadata": {},
   "outputs": [],
   "source": []
  }
 ],
 "metadata": {
  "kernelspec": {
   "display_name": "Python [conda env:simulate_expression_compendia] *",
   "language": "python",
   "name": "conda-env-simulate_expression_compendia-py"
  },
  "language_info": {
   "codemirror_mode": {
    "name": "ipython",
    "version": 3
   },
   "file_extension": ".py",
   "mimetype": "text/x-python",
   "name": "python",
   "nbconvert_exporter": "python",
   "pygments_lexer": "ipython3",
   "version": "3.7.3"
  }
 },
 "nbformat": 4,
 "nbformat_minor": 2
}
