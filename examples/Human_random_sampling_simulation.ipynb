{
 "cells": [
  {
   "cell_type": "markdown",
   "metadata": {},
   "source": [
    "# Test simulating compendia by random sampling"
   ]
  },
  {
   "cell_type": "code",
   "execution_count": 1,
   "metadata": {},
   "outputs": [
    {
     "name": "stdout",
     "output_type": "stream",
     "text": [
      "WARNING:tensorflow:From /home/alexandra/Documents/Repos/ponyo/ponyo/helper_vae.py:21: The name tf.ConfigProto is deprecated. Please use tf.compat.v1.ConfigProto instead.\n",
      "\n",
      "WARNING:tensorflow:From /home/alexandra/Documents/Repos/ponyo/ponyo/helper_vae.py:25: The name tf.Session is deprecated. Please use tf.compat.v1.Session instead.\n",
      "\n",
      "WARNING:tensorflow:From /home/alexandra/Documents/Repos/ponyo/ponyo/helper_vae.py:25: The name tf.get_default_graph is deprecated. Please use tf.compat.v1.get_default_graph instead.\n",
      "\n"
     ]
    },
    {
     "name": "stderr",
     "output_type": "stream",
     "text": [
      "Using TensorFlow backend.\n"
     ]
    }
   ],
   "source": [
    "%load_ext autoreload\n",
    "%autoreload 2\n",
    "\n",
    "import os\n",
    "import sys\n",
    "import pandas as pd\n",
    "import umap\n",
    "from plotnine import (ggplot,\n",
    "                      labs,  \n",
    "                      geom_point,\n",
    "                      aes, \n",
    "                      ggsave, \n",
    "                      theme_bw,\n",
    "                      theme,\n",
    "                      facet_wrap,\n",
    "                      scale_color_manual,\n",
    "                      guides, \n",
    "                      guide_legend,\n",
    "                      element_blank,\n",
    "                      element_text,\n",
    "                      element_rect,\n",
    "                      element_line,\n",
    "                      coords)\n",
    "\n",
    "\n",
    "import warnings\n",
    "warnings.filterwarnings(action='ignore')\n",
    "\n",
    "from ponyo import utils, train_vae_modules, simulate_expression_data"
   ]
  },
  {
   "cell_type": "code",
   "execution_count": 2,
   "metadata": {},
   "outputs": [
    {
     "name": "stdout",
     "output_type": "stream",
     "text": [
      "WARNING:tensorflow:From /home/alexandra/Documents/Repos/ponyo/ponyo/train_vae_modules.py:56: The name tf.set_random_seed is deprecated. Please use tf.compat.v1.set_random_seed instead.\n",
      "\n"
     ]
    }
   ],
   "source": [
    "# Set seeds to get reproducible VAE trained models\n",
    "train_vae_modules.set_all_seeds()"
   ]
  },
  {
   "cell_type": "code",
   "execution_count": 3,
   "metadata": {},
   "outputs": [],
   "source": [
    "# Read in config variables\n",
    "base_dir = os.path.abspath(os.path.join(os.getcwd(),\"../\"))\n",
    "config_filename = os.path.abspath(os.path.join(base_dir,\n",
    "                                           \"human_tests\", \n",
    "                                           \"config_test_human.tsv\"))\n",
    "params = utils.read_config(config_filename)"
   ]
  },
  {
   "cell_type": "code",
   "execution_count": 4,
   "metadata": {},
   "outputs": [],
   "source": [
    "# Load parameters\n",
    "base_dir = params[\"base_dir\"]\n",
    "local_dir = params[\"local_dir\"]\n",
    "dataset_name = params['dataset_name']\n",
    "analysis_name = params[\"simulation_type\"]\n",
    "train_architecture = params['NN_architecture']\n",
    "num_simulated_samples = params['num_simulated_samples']\n",
    "rpkm_data_filename = params[\"raw_data_filename\"]\n",
    "normalized_data_filename = params[\"normalized_data_filename\"]\n",
    "training_stats_dir = params[\"training_stats_dir\"]\n",
    "vae_model_dir = params[\"vae_model_dir\"]"
   ]
  },
  {
   "cell_type": "code",
   "execution_count": 5,
   "metadata": {},
   "outputs": [],
   "source": [
    "# Input files\n",
    "assert os.path.exists(rpkm_data_filename)"
   ]
  },
  {
   "cell_type": "markdown",
   "metadata": {},
   "source": [
    "## Setup directories"
   ]
  },
  {
   "cell_type": "code",
   "execution_count": 6,
   "metadata": {},
   "outputs": [],
   "source": [
    "utils.setup_dir(config_filename)"
   ]
  },
  {
   "cell_type": "code",
   "execution_count": 7,
   "metadata": {},
   "outputs": [],
   "source": [
    "# Check that directories were made correctly\n",
    "assert os.path.isdir(training_stats_dir)\n",
    "assert os.path.isdir(vae_model_dir)"
   ]
  },
  {
   "cell_type": "markdown",
   "metadata": {},
   "source": [
    "## Pre-process data"
   ]
  },
  {
   "cell_type": "code",
   "execution_count": 8,
   "metadata": {},
   "outputs": [
    {
     "name": "stdout",
     "output_type": "stream",
     "text": [
      "input: dataset contains 273 samples and 5000 genes\n",
      "Output: normalized dataset contains 273 samples and 5000 genes\n"
     ]
    }
   ],
   "source": [
    "train_vae_modules.normalize_expression_data(config_filename,\n",
    "                                            rpkm_data_filename,\n",
    "                                            normalized_data_filename)"
   ]
  },
  {
   "cell_type": "markdown",
   "metadata": {},
   "source": [
    "## Train VAE"
   ]
  },
  {
   "cell_type": "code",
   "execution_count": 9,
   "metadata": {
    "scrolled": false
   },
   "outputs": [
    {
     "name": "stdout",
     "output_type": "stream",
     "text": [
      "input dataset contains 273 samples and 5000 genes\n",
      "WARNING:tensorflow:From /home/alexandra/anaconda3/envs/test_ponyo/lib/python3.7/site-packages/tensorflow_core/python/ops/resource_variable_ops.py:1630: calling BaseResourceVariable.__init__ (from tensorflow.python.ops.resource_variable_ops) with constraint is deprecated and will be removed in a future version.\n",
      "Instructions for updating:\n",
      "If using Keras pass *_constraint arguments to layers.\n",
      "tracking <tf.Variable 'Variable:0' shape=() dtype=float32> beta\n",
      "WARNING:tensorflow:From /home/alexandra/anaconda3/envs/test_ponyo/lib/python3.7/site-packages/tensorflow_core/python/ops/nn_impl.py:183: where (from tensorflow.python.ops.array_ops) is deprecated and will be removed in a future version.\n",
      "Instructions for updating:\n",
      "Use tf.where in 2.0, which has the same broadcast rule as np.where\n",
      "WARNING:tensorflow:From /home/alexandra/anaconda3/envs/test_ponyo/lib/python3.7/site-packages/keras/backend/tensorflow_backend.py:422: The name tf.global_variables is deprecated. Please use tf.compat.v1.global_variables instead.\n",
      "\n",
      "Train on 246 samples, validate on 27 samples\n",
      "Epoch 1/10\n",
      "246/246 [==============================] - 22s 91ms/step - loss: 2340.0547 - kl_loss: 13.9695 - recons_loss: 2340.0549 - val_loss: 2576.0480 - val_kl_loss: 138.0642 - val_recons_loss: 2576.0481\n",
      "Epoch 2/10\n",
      "246/246 [==============================] - 21s 86ms/step - loss: 2167.1981 - kl_loss: 13.5955 - recons_loss: 2167.1982 - val_loss: 2336.0543 - val_kl_loss: 77.9998 - val_recons_loss: 2336.0542\n",
      "Epoch 3/10\n",
      "246/246 [==============================] - 22s 89ms/step - loss: 2154.3693 - kl_loss: 13.6479 - recons_loss: 2154.3691 - val_loss: 2209.4096 - val_kl_loss: 48.1001 - val_recons_loss: 2209.4097\n",
      "Epoch 4/10\n",
      "246/246 [==============================] - 22s 90ms/step - loss: 2145.3798 - kl_loss: 14.4935 - recons_loss: 2145.3799 - val_loss: 2148.8787 - val_kl_loss: 27.0799 - val_recons_loss: 2148.8787\n",
      "Epoch 5/10\n",
      "246/246 [==============================] - 23s 92ms/step - loss: 2140.5616 - kl_loss: 14.7198 - recons_loss: 2140.5618 - val_loss: 2125.0939 - val_kl_loss: 29.0089 - val_recons_loss: 2125.0940\n",
      "Epoch 6/10\n",
      "246/246 [==============================] - 22s 91ms/step - loss: 2135.2608 - kl_loss: 14.7896 - recons_loss: 2135.2607 - val_loss: 2106.7844 - val_kl_loss: 32.8426 - val_recons_loss: 2106.7847\n",
      "Epoch 7/10\n",
      "246/246 [==============================] - 22s 89ms/step - loss: 2123.8124 - kl_loss: 15.0116 - recons_loss: 2123.8123 - val_loss: 2084.1353 - val_kl_loss: 29.0683 - val_recons_loss: 2084.1355\n",
      "Epoch 8/10\n",
      "246/246 [==============================] - 22s 91ms/step - loss: 2123.9799 - kl_loss: 15.5945 - recons_loss: 2123.9795 - val_loss: 2089.8382 - val_kl_loss: 27.0921 - val_recons_loss: 2089.8381\n",
      "Epoch 9/10\n",
      "246/246 [==============================] - 22s 91ms/step - loss: 2090.6535 - kl_loss: 16.3353 - recons_loss: 2090.6541 - val_loss: 2126.9455 - val_kl_loss: 36.0171 - val_recons_loss: 2126.9456\n",
      "Epoch 10/10\n",
      "246/246 [==============================] - 22s 91ms/step - loss: 2101.7460 - kl_loss: 16.4985 - recons_loss: 2101.7461 - val_loss: 2079.0770 - val_kl_loss: 29.5822 - val_recons_loss: 2079.0769\n"
     ]
    },
    {
     "data": {
      "image/png": "[encoded data removed]",
      "text/plain": [
       "<Figure size 432x288 with 1 Axes>"
      ]
     },
     "metadata": {
      "needs_background": "light"
     },
     "output_type": "display_data"
    }
   ],
   "source": [
    "# Train VAE\n",
    "train_vae_modules.train_vae(config_filename,\n",
    "                            normalized_data_filename)"
   ]
  },
  {
   "cell_type": "code",
   "execution_count": 10,
   "metadata": {},
   "outputs": [],
   "source": [
    "# Check reproducibility of VAE training\n",
    "template_path = \"data/test_vae_log.tsv\"\n",
    "output_path = \"logs/tybalt_2layer_30latent_stats.tsv\"\n",
    "assert pd.read_csv(output_path, sep=\"\\t\")[\"val_loss\"].values[-1] < 2800, pd.read_csv(output_path, sep=\"\\t\")[\"val_loss\"].values[-1]"
   ]
  },
  {
   "cell_type": "markdown",
   "metadata": {},
   "source": [
    "## Simulate data by random sampling"
   ]
  },
  {
   "cell_type": "code",
   "execution_count": 11,
   "metadata": {
    "scrolled": false
   },
   "outputs": [
    {
     "name": "stdout",
     "output_type": "stream",
     "text": [
      "Normalized gene expression data contains 273 samples and 5000 genes\n",
      "Return: simulated gene expression data containing 100 samples and 5000 genes\n"
     ]
    }
   ],
   "source": [
    "# Run simulation\n",
    "simulated_data = simulate_expression_data.simulate_by_random_sampling(\n",
    "    normalized_data_filename,\n",
    "    num_simulated_samples,\n",
    "    vae_model_dir,\n",
    ")"
   ]
  },
  {
   "cell_type": "code",
   "execution_count": 12,
   "metadata": {},
   "outputs": [
    {
     "data": {
      "text/html": [
       "<div>\n",
       "<style scoped>\n",
       "    .dataframe tbody tr th:only-of-type {\n",
       "        vertical-align: middle;\n",
       "    }\n",
       "\n",
       "    .dataframe tbody tr th {\n",
       "        vertical-align: top;\n",
       "    }\n",
       "\n",
       "    .dataframe thead th {\n",
       "        text-align: right;\n",
       "    }\n",
       "</style>\n",
       "<table border=\"1\" class=\"dataframe\">\n",
       "  <thead>\n",
       "    <tr style=\"text-align: right;\">\n",
       "      <th></th>\n",
       "      <th>0</th>\n",
       "      <th>1</th>\n",
       "      <th>2</th>\n",
       "      <th>3</th>\n",
       "      <th>4</th>\n",
       "      <th>5</th>\n",
       "      <th>6</th>\n",
       "      <th>7</th>\n",
       "      <th>8</th>\n",
       "      <th>9</th>\n",
       "      <th>...</th>\n",
       "      <th>4990</th>\n",
       "      <th>4991</th>\n",
       "      <th>4992</th>\n",
       "      <th>4993</th>\n",
       "      <th>4994</th>\n",
       "      <th>4995</th>\n",
       "      <th>4996</th>\n",
       "      <th>4997</th>\n",
       "      <th>4998</th>\n",
       "      <th>4999</th>\n",
       "    </tr>\n",
       "  </thead>\n",
       "  <tbody>\n",
       "    <tr>\n",
       "      <th>0</th>\n",
       "      <td>0.047630</td>\n",
       "      <td>0.036323</td>\n",
       "      <td>0.277738</td>\n",
       "      <td>0.119633</td>\n",
       "      <td>0.284286</td>\n",
       "      <td>0.346632</td>\n",
       "      <td>0.020977</td>\n",
       "      <td>0.096944</td>\n",
       "      <td>0.062515</td>\n",
       "      <td>0.418223</td>\n",
       "      <td>...</td>\n",
       "      <td>0.425015</td>\n",
       "      <td>0.361483</td>\n",
       "      <td>0.352412</td>\n",
       "      <td>0.020304</td>\n",
       "      <td>0.385193</td>\n",
       "      <td>0.157354</td>\n",
       "      <td>0.041844</td>\n",
       "      <td>0.049361</td>\n",
       "      <td>0.546658</td>\n",
       "      <td>0.421452</td>\n",
       "    </tr>\n",
       "    <tr>\n",
       "      <th>1</th>\n",
       "      <td>0.105216</td>\n",
       "      <td>0.041911</td>\n",
       "      <td>0.326393</td>\n",
       "      <td>0.190275</td>\n",
       "      <td>0.330326</td>\n",
       "      <td>0.358407</td>\n",
       "      <td>0.049109</td>\n",
       "      <td>0.164491</td>\n",
       "      <td>0.118614</td>\n",
       "      <td>0.475839</td>\n",
       "      <td>...</td>\n",
       "      <td>0.401023</td>\n",
       "      <td>0.417316</td>\n",
       "      <td>0.386674</td>\n",
       "      <td>0.045546</td>\n",
       "      <td>0.385735</td>\n",
       "      <td>0.247026</td>\n",
       "      <td>0.101031</td>\n",
       "      <td>0.080914</td>\n",
       "      <td>0.595254</td>\n",
       "      <td>0.265012</td>\n",
       "    </tr>\n",
       "    <tr>\n",
       "      <th>2</th>\n",
       "      <td>0.044584</td>\n",
       "      <td>0.052045</td>\n",
       "      <td>0.256216</td>\n",
       "      <td>0.125644</td>\n",
       "      <td>0.321328</td>\n",
       "      <td>0.339894</td>\n",
       "      <td>0.025672</td>\n",
       "      <td>0.089412</td>\n",
       "      <td>0.070641</td>\n",
       "      <td>0.389407</td>\n",
       "      <td>...</td>\n",
       "      <td>0.376761</td>\n",
       "      <td>0.370860</td>\n",
       "      <td>0.451509</td>\n",
       "      <td>0.024428</td>\n",
       "      <td>0.305814</td>\n",
       "      <td>0.152770</td>\n",
       "      <td>0.044391</td>\n",
       "      <td>0.052519</td>\n",
       "      <td>0.548577</td>\n",
       "      <td>0.277092</td>\n",
       "    </tr>\n",
       "    <tr>\n",
       "      <th>3</th>\n",
       "      <td>0.213337</td>\n",
       "      <td>0.090136</td>\n",
       "      <td>0.331925</td>\n",
       "      <td>0.146207</td>\n",
       "      <td>0.348609</td>\n",
       "      <td>0.224303</td>\n",
       "      <td>0.078291</td>\n",
       "      <td>0.206755</td>\n",
       "      <td>0.176637</td>\n",
       "      <td>0.438614</td>\n",
       "      <td>...</td>\n",
       "      <td>0.411843</td>\n",
       "      <td>0.415836</td>\n",
       "      <td>0.401190</td>\n",
       "      <td>0.055254</td>\n",
       "      <td>0.388872</td>\n",
       "      <td>0.261685</td>\n",
       "      <td>0.179475</td>\n",
       "      <td>0.102899</td>\n",
       "      <td>0.560416</td>\n",
       "      <td>0.235998</td>\n",
       "    </tr>\n",
       "    <tr>\n",
       "      <th>4</th>\n",
       "      <td>0.210298</td>\n",
       "      <td>0.179365</td>\n",
       "      <td>0.256450</td>\n",
       "      <td>0.219491</td>\n",
       "      <td>0.295060</td>\n",
       "      <td>0.208946</td>\n",
       "      <td>0.125192</td>\n",
       "      <td>0.166322</td>\n",
       "      <td>0.183197</td>\n",
       "      <td>0.408472</td>\n",
       "      <td>...</td>\n",
       "      <td>0.346551</td>\n",
       "      <td>0.352284</td>\n",
       "      <td>0.299130</td>\n",
       "      <td>0.072374</td>\n",
       "      <td>0.329897</td>\n",
       "      <td>0.240977</td>\n",
       "      <td>0.141765</td>\n",
       "      <td>0.070050</td>\n",
       "      <td>0.497483</td>\n",
       "      <td>0.220044</td>\n",
       "    </tr>\n",
       "  </tbody>\n",
       "</table>\n",
       "<p>5 rows × 5000 columns</p>\n",
       "</div>"
      ],
      "text/plain": [
       "       0         1         2         3         4         5         6     \\\n",
       "0  0.047630  0.036323  0.277738  0.119633  0.284286  0.346632  0.020977   \n",
       "1  0.105216  0.041911  0.326393  0.190275  0.330326  0.358407  0.049109   \n",
       "2  0.044584  0.052045  0.256216  0.125644  0.321328  0.339894  0.025672   \n",
       "3  0.213337  0.090136  0.331925  0.146207  0.348609  0.224303  0.078291   \n",
       "4  0.210298  0.179365  0.256450  0.219491  0.295060  0.208946  0.125192   \n",
       "\n",
       "       7         8         9     ...      4990      4991      4992      4993  \\\n",
       "0  0.096944  0.062515  0.418223  ...  0.425015  0.361483  0.352412  0.020304   \n",
       "1  0.164491  0.118614  0.475839  ...  0.401023  0.417316  0.386674  0.045546   \n",
       "2  0.089412  0.070641  0.389407  ...  0.376761  0.370860  0.451509  0.024428   \n",
       "3  0.206755  0.176637  0.438614  ...  0.411843  0.415836  0.401190  0.055254   \n",
       "4  0.166322  0.183197  0.408472  ...  0.346551  0.352284  0.299130  0.072374   \n",
       "\n",
       "       4994      4995      4996      4997      4998      4999  \n",
       "0  0.385193  0.157354  0.041844  0.049361  0.546658  0.421452  \n",
       "1  0.385735  0.247026  0.101031  0.080914  0.595254  0.265012  \n",
       "2  0.305814  0.152770  0.044391  0.052519  0.548577  0.277092  \n",
       "3  0.388872  0.261685  0.179475  0.102899  0.560416  0.235998  \n",
       "4  0.329897  0.240977  0.141765  0.070050  0.497483  0.220044  \n",
       "\n",
       "[5 rows x 5000 columns]"
      ]
     },
     "execution_count": 12,
     "metadata": {},
     "output_type": "execute_result"
    }
   ],
   "source": [
    "simulated_data.head()"
   ]
  },
  {
   "cell_type": "markdown",
   "metadata": {},
   "source": [
    "## Visualize random sampled compendium"
   ]
  },
  {
   "cell_type": "code",
   "execution_count": 13,
   "metadata": {},
   "outputs": [],
   "source": [
    "# Read data\n",
    "normalized_data = pd.read_csv(normalized_data_filename, header=0, sep=\"\\t\", index_col=0)"
   ]
  },
  {
   "cell_type": "code",
   "execution_count": 14,
   "metadata": {},
   "outputs": [
    {
     "data": {
      "text/html": [
       "<div>\n",
       "<style scoped>\n",
       "    .dataframe tbody tr th:only-of-type {\n",
       "        vertical-align: middle;\n",
       "    }\n",
       "\n",
       "    .dataframe tbody tr th {\n",
       "        vertical-align: top;\n",
       "    }\n",
       "\n",
       "    .dataframe thead th {\n",
       "        text-align: right;\n",
       "    }\n",
       "</style>\n",
       "<table border=\"1\" class=\"dataframe\">\n",
       "  <thead>\n",
       "    <tr style=\"text-align: right;\">\n",
       "      <th></th>\n",
       "      <th>ENSG00000000003.14</th>\n",
       "      <th>ENSG00000000005.5</th>\n",
       "      <th>ENSG00000000419.12</th>\n",
       "      <th>ENSG00000000457.13</th>\n",
       "      <th>ENSG00000000460.16</th>\n",
       "      <th>ENSG00000000938.12</th>\n",
       "      <th>ENSG00000000971.15</th>\n",
       "      <th>ENSG00000001036.13</th>\n",
       "      <th>ENSG00000001084.10</th>\n",
       "      <th>ENSG00000001167.14</th>\n",
       "      <th>...</th>\n",
       "      <th>ENSG00000119953.12</th>\n",
       "      <th>ENSG00000119965.12</th>\n",
       "      <th>ENSG00000119969.14</th>\n",
       "      <th>ENSG00000119973.5</th>\n",
       "      <th>ENSG00000119977.20</th>\n",
       "      <th>ENSG00000119979.16</th>\n",
       "      <th>ENSG00000119986.6</th>\n",
       "      <th>ENSG00000120008.15</th>\n",
       "      <th>ENSG00000120029.12</th>\n",
       "      <th>ENSG00000120049.18</th>\n",
       "    </tr>\n",
       "  </thead>\n",
       "  <tbody>\n",
       "    <tr>\n",
       "      <th>SRR493816</th>\n",
       "      <td>0.192519</td>\n",
       "      <td>0.0</td>\n",
       "      <td>0.214496</td>\n",
       "      <td>0.030213</td>\n",
       "      <td>0.185058</td>\n",
       "      <td>0.002518</td>\n",
       "      <td>0.037827</td>\n",
       "      <td>0.132201</td>\n",
       "      <td>0.344856</td>\n",
       "      <td>0.222818</td>\n",
       "      <td>...</td>\n",
       "      <td>0.098992</td>\n",
       "      <td>0.294837</td>\n",
       "      <td>0.061220</td>\n",
       "      <td>0.000000</td>\n",
       "      <td>0.302188</td>\n",
       "      <td>0.119891</td>\n",
       "      <td>0.279795</td>\n",
       "      <td>0.024098</td>\n",
       "      <td>0.650383</td>\n",
       "      <td>0.022837</td>\n",
       "    </tr>\n",
       "    <tr>\n",
       "      <th>SRR493817</th>\n",
       "      <td>0.127613</td>\n",
       "      <td>0.0</td>\n",
       "      <td>0.191400</td>\n",
       "      <td>0.022873</td>\n",
       "      <td>0.148562</td>\n",
       "      <td>0.003878</td>\n",
       "      <td>0.001635</td>\n",
       "      <td>0.103004</td>\n",
       "      <td>0.406601</td>\n",
       "      <td>0.187205</td>\n",
       "      <td>...</td>\n",
       "      <td>0.132431</td>\n",
       "      <td>0.312500</td>\n",
       "      <td>0.089187</td>\n",
       "      <td>0.003215</td>\n",
       "      <td>0.275055</td>\n",
       "      <td>0.139419</td>\n",
       "      <td>0.919693</td>\n",
       "      <td>0.026674</td>\n",
       "      <td>1.000000</td>\n",
       "      <td>0.039663</td>\n",
       "    </tr>\n",
       "    <tr>\n",
       "      <th>SRR547975</th>\n",
       "      <td>0.122846</td>\n",
       "      <td>0.0</td>\n",
       "      <td>0.483292</td>\n",
       "      <td>0.030554</td>\n",
       "      <td>0.324603</td>\n",
       "      <td>0.000000</td>\n",
       "      <td>0.064989</td>\n",
       "      <td>0.391202</td>\n",
       "      <td>0.035818</td>\n",
       "      <td>0.801450</td>\n",
       "      <td>...</td>\n",
       "      <td>1.000000</td>\n",
       "      <td>0.576087</td>\n",
       "      <td>0.506717</td>\n",
       "      <td>0.000000</td>\n",
       "      <td>0.509190</td>\n",
       "      <td>0.282016</td>\n",
       "      <td>0.124300</td>\n",
       "      <td>0.018504</td>\n",
       "      <td>0.598180</td>\n",
       "      <td>0.126202</td>\n",
       "    </tr>\n",
       "    <tr>\n",
       "      <th>SRR547973</th>\n",
       "      <td>0.407407</td>\n",
       "      <td>0.0</td>\n",
       "      <td>0.316953</td>\n",
       "      <td>0.067338</td>\n",
       "      <td>0.308716</td>\n",
       "      <td>0.000000</td>\n",
       "      <td>0.000000</td>\n",
       "      <td>0.106436</td>\n",
       "      <td>0.353394</td>\n",
       "      <td>0.209581</td>\n",
       "      <td>...</td>\n",
       "      <td>0.201964</td>\n",
       "      <td>0.387228</td>\n",
       "      <td>0.085444</td>\n",
       "      <td>0.000000</td>\n",
       "      <td>0.144639</td>\n",
       "      <td>0.187557</td>\n",
       "      <td>0.044633</td>\n",
       "      <td>1.000000</td>\n",
       "      <td>0.430077</td>\n",
       "      <td>0.006010</td>\n",
       "    </tr>\n",
       "    <tr>\n",
       "      <th>SRR547968</th>\n",
       "      <td>0.078108</td>\n",
       "      <td>0.0</td>\n",
       "      <td>0.173464</td>\n",
       "      <td>0.038576</td>\n",
       "      <td>0.200086</td>\n",
       "      <td>0.000000</td>\n",
       "      <td>0.000000</td>\n",
       "      <td>0.463940</td>\n",
       "      <td>0.239900</td>\n",
       "      <td>0.570123</td>\n",
       "      <td>...</td>\n",
       "      <td>0.419321</td>\n",
       "      <td>0.585598</td>\n",
       "      <td>0.641268</td>\n",
       "      <td>0.000000</td>\n",
       "      <td>1.000000</td>\n",
       "      <td>0.341962</td>\n",
       "      <td>0.157735</td>\n",
       "      <td>0.023676</td>\n",
       "      <td>0.687739</td>\n",
       "      <td>0.080529</td>\n",
       "    </tr>\n",
       "  </tbody>\n",
       "</table>\n",
       "<p>5 rows × 5000 columns</p>\n",
       "</div>"
      ],
      "text/plain": [
       "           ENSG00000000003.14  ENSG00000000005.5  ENSG00000000419.12  \\\n",
       "SRR493816            0.192519                0.0            0.214496   \n",
       "SRR493817            0.127613                0.0            0.191400   \n",
       "SRR547975            0.122846                0.0            0.483292   \n",
       "SRR547973            0.407407                0.0            0.316953   \n",
       "SRR547968            0.078108                0.0            0.173464   \n",
       "\n",
       "           ENSG00000000457.13  ENSG00000000460.16  ENSG00000000938.12  \\\n",
       "SRR493816            0.030213            0.185058            0.002518   \n",
       "SRR493817            0.022873            0.148562            0.003878   \n",
       "SRR547975            0.030554            0.324603            0.000000   \n",
       "SRR547973            0.067338            0.308716            0.000000   \n",
       "SRR547968            0.038576            0.200086            0.000000   \n",
       "\n",
       "           ENSG00000000971.15  ENSG00000001036.13  ENSG00000001084.10  \\\n",
       "SRR493816            0.037827            0.132201            0.344856   \n",
       "SRR493817            0.001635            0.103004            0.406601   \n",
       "SRR547975            0.064989            0.391202            0.035818   \n",
       "SRR547973            0.000000            0.106436            0.353394   \n",
       "SRR547968            0.000000            0.463940            0.239900   \n",
       "\n",
       "           ENSG00000001167.14  ...  ENSG00000119953.12  ENSG00000119965.12  \\\n",
       "SRR493816            0.222818  ...            0.098992            0.294837   \n",
       "SRR493817            0.187205  ...            0.132431            0.312500   \n",
       "SRR547975            0.801450  ...            1.000000            0.576087   \n",
       "SRR547973            0.209581  ...            0.201964            0.387228   \n",
       "SRR547968            0.570123  ...            0.419321            0.585598   \n",
       "\n",
       "           ENSG00000119969.14  ENSG00000119973.5  ENSG00000119977.20  \\\n",
       "SRR493816            0.061220           0.000000            0.302188   \n",
       "SRR493817            0.089187           0.003215            0.275055   \n",
       "SRR547975            0.506717           0.000000            0.509190   \n",
       "SRR547973            0.085444           0.000000            0.144639   \n",
       "SRR547968            0.641268           0.000000            1.000000   \n",
       "\n",
       "           ENSG00000119979.16  ENSG00000119986.6  ENSG00000120008.15  \\\n",
       "SRR493816            0.119891           0.279795            0.024098   \n",
       "SRR493817            0.139419           0.919693            0.026674   \n",
       "SRR547975            0.282016           0.124300            0.018504   \n",
       "SRR547973            0.187557           0.044633            1.000000   \n",
       "SRR547968            0.341962           0.157735            0.023676   \n",
       "\n",
       "           ENSG00000120029.12  ENSG00000120049.18  \n",
       "SRR493816            0.650383            0.022837  \n",
       "SRR493817            1.000000            0.039663  \n",
       "SRR547975            0.598180            0.126202  \n",
       "SRR547973            0.430077            0.006010  \n",
       "SRR547968            0.687739            0.080529  \n",
       "\n",
       "[5 rows x 5000 columns]"
      ]
     },
     "execution_count": 14,
     "metadata": {},
     "output_type": "execute_result"
    }
   ],
   "source": [
    "normalized_data.head()"
   ]
  },
  {
   "cell_type": "code",
   "execution_count": 15,
   "metadata": {},
   "outputs": [],
   "source": [
    "model = umap.UMAP(random_state=123).fit(normalized_data)\n",
    "\n",
    "input_data_UMAPencoded = model.transform(normalized_data)\n",
    "input_data_UMAPencoded_df = pd.DataFrame(data=input_data_UMAPencoded,\n",
    "                                         index=normalized_data.index,\n",
    "                                         columns=['1','2'])"
   ]
  },
  {
   "cell_type": "code",
   "execution_count": 16,
   "metadata": {},
   "outputs": [],
   "source": [
    "# UMAP embedding of simulated data\n",
    "\n",
    "simulated_data_UMAPencoded = model.transform(simulated_data)\n",
    "simulated_data_UMAPencoded_df = pd.DataFrame(data=simulated_data_UMAPencoded,\n",
    "                                         index=simulated_data.index,\n",
    "                                         columns=['1','2'])"
   ]
  },
  {
   "cell_type": "code",
   "execution_count": 17,
   "metadata": {
    "scrolled": false
   },
   "outputs": [
    {
     "data": {
      "image/png": "[encoded data removed]",
      "text/plain": [
       "<Figure size 640x480 with 1 Axes>"
      ]
     },
     "metadata": {},
     "output_type": "display_data"
    },
    {
     "name": "stdout",
     "output_type": "stream",
     "text": [
      "<ggplot: (8768742074725)>\n"
     ]
    }
   ],
   "source": [
    "# Overlay original input vs simulated data\n",
    "\n",
    "# Add label for input or simulated dataset\n",
    "input_data_UMAPencoded_df['dataset'] = 'original'\n",
    "simulated_data_UMAPencoded_df['dataset'] = 'simulated'\n",
    "\n",
    "# Concatenate input and simulated dataframes together\n",
    "combined_data_df = pd.concat([input_data_UMAPencoded_df, simulated_data_UMAPencoded_df])\n",
    "\n",
    "# Plot\n",
    "g_input_sim = ggplot(combined_data_df, aes(x='1', y='2'))\n",
    "g_input_sim += geom_point(aes(color='dataset'),alpha=0.3)\n",
    "g_input_sim += labs(x = \"UMAP 1\",\n",
    "                    y = \"UMAP 2\", \n",
    "                    title = \"Original and simulated data\")\n",
    "g_input_sim += theme_bw()\n",
    "g_input_sim += theme(\n",
    "    legend_title_align = \"center\",\n",
    "    plot_background=element_rect(fill='white'),\n",
    "    legend_key=element_rect(fill='white', colour='white'), \n",
    "    plot_title=element_text(family='sans-serif', size=15),\n",
    "    axis_text=element_text(family='sans-serif', size=12),\n",
    "    axis_title=element_text(family='sans-serif', size=15)\n",
    "\n",
    ")\n",
    "\n",
    "print(g_input_sim)"
   ]
  },
  {
   "cell_type": "code",
   "execution_count": null,
   "metadata": {},
   "outputs": [],
   "source": []
  }
 ],
 "metadata": {
  "kernelspec": {
   "display_name": "Python 3",
   "language": "python",
   "name": "python3"
  },
  "language_info": {
   "codemirror_mode": {
    "name": "ipython",
    "version": 3
   },
   "file_extension": ".py",
   "mimetype": "text/x-python",
   "name": "python",
   "nbconvert_exporter": "python",
   "pygments_lexer": "ipython3",
   "version": "3.7.9"
  }
 },
 "nbformat": 4,
 "nbformat_minor": 2
}
