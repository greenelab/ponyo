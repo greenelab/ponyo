{
 "cells": [
  {
   "cell_type": "markdown",
   "metadata": {},
   "source": [
    "# Test VAE training"
   ]
  },
  {
   "cell_type": "code",
   "execution_count": 1,
   "metadata": {},
   "outputs": [
    {
     "name": "stdout",
     "output_type": "stream",
     "text": [
      "WARNING:tensorflow:From /home/alexandra/Documents/Sandbox/ponyo_LOCAL/ponyo/helper_vae.py:21: The name tf.ConfigProto is deprecated. Please use tf.compat.v1.ConfigProto instead.\n",
      "\n",
      "WARNING:tensorflow:From /home/alexandra/Documents/Sandbox/ponyo_LOCAL/ponyo/helper_vae.py:25: The name tf.Session is deprecated. Please use tf.compat.v1.Session instead.\n",
      "\n",
      "WARNING:tensorflow:From /home/alexandra/Documents/Sandbox/ponyo_LOCAL/ponyo/helper_vae.py:25: The name tf.get_default_graph is deprecated. Please use tf.compat.v1.get_default_graph instead.\n",
      "\n"
     ]
    },
    {
     "name": "stderr",
     "output_type": "stream",
     "text": [
      "Using TensorFlow backend.\n"
     ]
    }
   ],
   "source": [
    "%load_ext autoreload\n",
    "%autoreload 2\n",
    "\n",
    "import os\n",
    "import sys\n",
    "import pandas as pd\n",
    "\n",
    "import warnings\n",
    "warnings.filterwarnings(action='ignore')\n",
    "\n",
    "from ponyo import utils, train_vae_modules, simulate_expression_data"
   ]
  },
  {
   "cell_type": "code",
   "execution_count": 2,
   "metadata": {},
   "outputs": [
    {
     "name": "stdout",
     "output_type": "stream",
     "text": [
      "WARNING:tensorflow:From /home/alexandra/Documents/Sandbox/ponyo_LOCAL/ponyo/train_vae_modules.py:56: The name tf.set_random_seed is deprecated. Please use tf.compat.v1.set_random_seed instead.\n",
      "\n"
     ]
    }
   ],
   "source": [
    "# Set seeds to get reproducible VAE trained models\n",
    "train_vae_modules.set_all_seeds()"
   ]
  },
  {
   "cell_type": "code",
   "execution_count": 3,
   "metadata": {},
   "outputs": [],
   "source": [
    "# Read in config variables\n",
    "config_filename = \"config_test_1.tsv\"\n",
    "params = utils.read_config(config_filename)"
   ]
  },
  {
   "cell_type": "code",
   "execution_count": 4,
   "metadata": {},
   "outputs": [],
   "source": [
    "# Load parameters\n",
    "base_dir = params[\"base_dir\"]\n",
    "local_dir = params[\"local_dir\"]\n",
    "dataset_name = params['dataset_name']\n",
    "analysis_name = params[\"simulation_type\"]\n",
    "rpkm_data_filename = params[\"raw_data_filename\"]\n",
    "normalized_data_filename = params[\"normalized_data_filename\"]\n",
    "metadata_filename = params[\"metadata_filename\"]\n",
    "experiment_id_filename = params[\"experiment_ids_filename\"]\n",
    "train_architecture = params['NN_architecture']"
   ]
  },
  {
   "cell_type": "code",
   "execution_count": 5,
   "metadata": {},
   "outputs": [],
   "source": [
    "assert os.path.exists(rpkm_data_filename)"
   ]
  },
  {
   "cell_type": "markdown",
   "metadata": {},
   "source": [
    "## Setup directories"
   ]
  },
  {
   "cell_type": "code",
   "execution_count": 6,
   "metadata": {},
   "outputs": [],
   "source": [
    "utils.setup_dir(config_filename)"
   ]
  },
  {
   "cell_type": "code",
   "execution_count": 7,
   "metadata": {},
   "outputs": [],
   "source": [
    "# Check that directories were made correctly\n",
    "assert os.path.isdir(os.path.join(base_dir, dataset_name, 'logs'))\n",
    "assert os.path.isdir(os.path.join(base_dir, dataset_name, 'models'))\n",
    "assert os.path.isdir(os.path.join(base_dir, dataset_name, 'results'))\n",
    "assert os.path.isdir(os.path.join(base_dir, dataset_name, 'logs', train_architecture))\n",
    "assert os.path.isdir(os.path.join(base_dir, dataset_name, 'models', train_architecture))\n",
    "assert os.path.isdir(os.path.join(base_dir, dataset_name, 'results', 'saved_variables'))"
   ]
  },
  {
   "cell_type": "markdown",
   "metadata": {},
   "source": [
    "## Pre-process data"
   ]
  },
  {
   "cell_type": "code",
   "execution_count": 8,
   "metadata": {},
   "outputs": [
    {
     "name": "stdout",
     "output_type": "stream",
     "text": [
      "input: dataset contains 273 samples and 5000 genes\n",
      "Output: normalized dataset contains 273 samples and 5000 genes\n"
     ]
    }
   ],
   "source": [
    "train_vae_modules.normalize_expression_data(base_dir,\n",
    "                                            config_filename,\n",
    "                                            rpkm_data_filename,\n",
    "                                            normalized_data_filename)"
   ]
  },
  {
   "cell_type": "markdown",
   "metadata": {},
   "source": [
    "## Train VAE"
   ]
  },
  {
   "cell_type": "code",
   "execution_count": 10,
   "metadata": {},
   "outputs": [],
   "source": [
    "# Directory containing log information from VAE training\n",
    "vae_log_dir = os.path.join(\n",
    "    base_dir, \n",
    "    dataset_name,\n",
    "    \"logs\",\n",
    "    train_architecture)"
   ]
  },
  {
   "cell_type": "code",
   "execution_count": 11,
   "metadata": {
    "scrolled": true
   },
   "outputs": [
    {
     "name": "stdout",
     "output_type": "stream",
     "text": [
      "input dataset contains 273 samples and 5000 genes\n",
      "WARNING:tensorflow:From /home/alexandra/anaconda3/envs/test_ponyo/lib/python3.7/site-packages/tensorflow_core/python/ops/resource_variable_ops.py:1630: calling BaseResourceVariable.__init__ (from tensorflow.python.ops.resource_variable_ops) with constraint is deprecated and will be removed in a future version.\n",
      "Instructions for updating:\n",
      "If using Keras pass *_constraint arguments to layers.\n",
      "tracking <tf.Variable 'Variable:0' shape=() dtype=float32> beta\n",
      "WARNING:tensorflow:From /home/alexandra/anaconda3/envs/test_ponyo/lib/python3.7/site-packages/tensorflow_core/python/ops/nn_impl.py:183: where (from tensorflow.python.ops.array_ops) is deprecated and will be removed in a future version.\n",
      "Instructions for updating:\n",
      "Use tf.where in 2.0, which has the same broadcast rule as np.where\n",
      "WARNING:tensorflow:From /home/alexandra/anaconda3/envs/test_ponyo/lib/python3.7/site-packages/keras/backend/tensorflow_backend.py:422: The name tf.global_variables is deprecated. Please use tf.compat.v1.global_variables instead.\n",
      "\n",
      "Train on 246 samples, validate on 27 samples\n",
      "Epoch 1/10\n",
      "246/246 [==============================] - 21s 85ms/step - loss: 2340.0547 - kl_loss: 13.9695 - recons_loss: 2340.0549 - val_loss: 2576.0480 - val_kl_loss: 138.0642 - val_recons_loss: 2576.0481\n",
      "Epoch 2/10\n",
      "246/246 [==============================] - 21s 84ms/step - loss: 2167.1981 - kl_loss: 13.5955 - recons_loss: 2167.1982 - val_loss: 2336.0543 - val_kl_loss: 77.9998 - val_recons_loss: 2336.0542\n",
      "Epoch 3/10\n",
      "246/246 [==============================] - 21s 84ms/step - loss: 2154.3693 - kl_loss: 13.6479 - recons_loss: 2154.3691 - val_loss: 2209.4096 - val_kl_loss: 48.1001 - val_recons_loss: 2209.4097\n",
      "Epoch 4/10\n",
      "246/246 [==============================] - 21s 84ms/step - loss: 2145.3798 - kl_loss: 14.4935 - recons_loss: 2145.3799 - val_loss: 2148.8787 - val_kl_loss: 27.0799 - val_recons_loss: 2148.8787\n",
      "Epoch 5/10\n",
      "246/246 [==============================] - 21s 84ms/step - loss: 2140.5616 - kl_loss: 14.7198 - recons_loss: 2140.5618 - val_loss: 2125.0939 - val_kl_loss: 29.0089 - val_recons_loss: 2125.0940\n",
      "Epoch 6/10\n",
      "246/246 [==============================] - 21s 84ms/step - loss: 2135.2608 - kl_loss: 14.7896 - recons_loss: 2135.2607 - val_loss: 2106.7844 - val_kl_loss: 32.8426 - val_recons_loss: 2106.7847\n",
      "Epoch 7/10\n",
      "246/246 [==============================] - 21s 84ms/step - loss: 2123.8124 - kl_loss: 15.0116 - recons_loss: 2123.8123 - val_loss: 2084.1353 - val_kl_loss: 29.0683 - val_recons_loss: 2084.1355\n",
      "Epoch 8/10\n",
      "246/246 [==============================] - 21s 84ms/step - loss: 2123.9799 - kl_loss: 15.5945 - recons_loss: 2123.9795 - val_loss: 2089.8382 - val_kl_loss: 27.0921 - val_recons_loss: 2089.8381\n",
      "Epoch 9/10\n",
      "246/246 [==============================] - 21s 84ms/step - loss: 2090.6535 - kl_loss: 16.3353 - recons_loss: 2090.6541 - val_loss: 2126.9455 - val_kl_loss: 36.0171 - val_recons_loss: 2126.9456\n",
      "Epoch 10/10\n",
      "246/246 [==============================] - 21s 84ms/step - loss: 2101.7460 - kl_loss: 16.4985 - recons_loss: 2101.7461 - val_loss: 2079.0770 - val_kl_loss: 29.5822 - val_recons_loss: 2079.0769\n"
     ]
    },
    {
     "data": {
      "image/png": "[encoded data removed]",
      "text/plain": [
       "<Figure size 432x288 with 1 Axes>"
      ]
     },
     "metadata": {
      "needs_background": "light"
     },
     "output_type": "display_data"
    }
   ],
   "source": [
    "# Train VAE\n",
    "train_vae_modules.train_vae(config_filename,\n",
    "                            normalized_data_filename)"
   ]
  },
  {
   "cell_type": "code",
   "execution_count": 12,
   "metadata": {},
   "outputs": [],
   "source": [
    "# Check reproducibility of VAE training\n",
    "template_path = \"data/test_vae_log.tsv\"\n",
    "output_path = \"logs/NN_2500_30/tybalt_2layer_30latent_stats.tsv\"\n",
    "assert pd.read_csv(output_path, sep=\"\\t\")[\"val_loss\"].values[-1] < 2800, pd.read_csv(output_path, sep=\"\\t\")[\"val_loss\"].values[-1]"
   ]
  }
 ],
 "metadata": {
  "kernelspec": {
   "display_name": "Python 3",
   "language": "python",
   "name": "python3"
  },
  "language_info": {
   "codemirror_mode": {
    "name": "ipython",
    "version": 3
   },
   "file_extension": ".py",
   "mimetype": "text/x-python",
   "name": "python",
   "nbconvert_exporter": "python",
   "pygments_lexer": "ipython3",
   "version": "3.7.9"
  }
 },
 "nbformat": 4,
 "nbformat_minor": 2
}
