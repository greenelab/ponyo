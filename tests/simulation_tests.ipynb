{
 "cells": [
  {
   "cell_type": "markdown",
   "metadata": {},
   "source": [
    "# Test shifting template experiments"
   ]
  },
  {
   "cell_type": "code",
   "execution_count": 1,
   "metadata": {},
   "outputs": [
    {
     "name": "stderr",
     "output_type": "stream",
     "text": [
      "Using TensorFlow backend.\n"
     ]
    },
    {
     "name": "stdout",
     "output_type": "stream",
     "text": [
      "WARNING:tensorflow:From /home/alexandra/Documents/Repos/ponyo/ponyo/helper_vae.py:21: The name tf.ConfigProto is deprecated. Please use tf.compat.v1.ConfigProto instead.\n",
      "\n",
      "WARNING:tensorflow:From /home/alexandra/Documents/Repos/ponyo/ponyo/helper_vae.py:25: The name tf.Session is deprecated. Please use tf.compat.v1.Session instead.\n",
      "\n",
      "WARNING:tensorflow:From /home/alexandra/Documents/Repos/ponyo/ponyo/helper_vae.py:25: The name tf.get_default_graph is deprecated. Please use tf.compat.v1.get_default_graph instead.\n",
      "\n"
     ]
    }
   ],
   "source": [
    "%load_ext autoreload\n",
    "%autoreload 2\n",
    "\n",
    "import os\n",
    "import sys\n",
    "import pandas as pd\n",
    "import umap\n",
    "import glob\n",
    "import pickle\n",
    "from keras.models import load_model\n",
    "\n",
    "import warnings\n",
    "warnings.filterwarnings(action='ignore')\n",
    "\n",
    "from ponyo import utils, train_vae_modules, simulate_expression_data"
   ]
  },
  {
   "cell_type": "code",
   "execution_count": 2,
   "metadata": {},
   "outputs": [
    {
     "name": "stdout",
     "output_type": "stream",
     "text": [
      "WARNING:tensorflow:From /home/alexandra/Documents/Repos/ponyo/ponyo/train_vae_modules.py:56: The name tf.set_random_seed is deprecated. Please use tf.compat.v1.set_random_seed instead.\n",
      "\n"
     ]
    }
   ],
   "source": [
    "# Set seeds to get reproducible VAE trained models\n",
    "train_vae_modules.set_all_seeds()"
   ]
  },
  {
   "cell_type": "code",
   "execution_count": 3,
   "metadata": {},
   "outputs": [],
   "source": [
    "# Read in config variables\n",
    "config_filename = \"config_test_1.tsv\"\n",
    "params = utils.read_config(config_filename)"
   ]
  },
  {
   "cell_type": "code",
   "execution_count": 4,
   "metadata": {},
   "outputs": [],
   "source": [
    "# Load parameters\n",
    "local_dir = params[\"local_dir\"]\n",
    "raw_compendium_filename = params[\"raw_compendium_filename\"]\n",
    "normalized_compendium_filename = params[\"normalized_compendium_filename\"]\n",
    "metadata_filename = params[\"metadata_filename\"]\n",
    "experiment_id_filename = params[\"experiment_ids_filename\"]\n",
    "latent_dim = params['latent_dim']\n",
    "scaler_filename = params['scaler_transform_filename']\n",
    "num_simulated_samples = params['num_simulated']\n",
    "#num_simulated_experiments = params['num_simulated_experiments']\n",
    "#num_runs = params['num_simulated']\n",
    "metadata_delimiter = params[\"metadata_delimiter\"]\n",
    "experiment_id_colname = params['metadata_experiment_colname']\n",
    "sample_id_colname = params['metadata_sample_colname']\n",
    "project_id = params['project_id']\n",
    "training_stats_dir = params[\"training_stats_dir\"]\n",
    "vae_model_dir = params[\"vae_model_dir\"]"
   ]
  },
  {
   "cell_type": "markdown",
   "metadata": {},
   "source": [
    "## 1. Random simulation"
   ]
  },
  {
   "cell_type": "code",
   "execution_count": null,
   "metadata": {},
   "outputs": [],
   "source": []
  },
  {
   "cell_type": "code",
   "execution_count": 5,
   "metadata": {},
   "outputs": [
    {
     "name": "stdout",
     "output_type": "stream",
     "text": [
      "WARNING:tensorflow:From /home/alexandra/anaconda3/envs/test_ponyo/lib/python3.7/site-packages/tensorflow_core/python/ops/resource_variable_ops.py:1630: calling BaseResourceVariable.__init__ (from tensorflow.python.ops.resource_variable_ops) with constraint is deprecated and will be removed in a future version.\n",
      "Instructions for updating:\n",
      "If using Keras pass *_constraint arguments to layers.\n",
      "Normalized gene expression data contains 56 samples and 5000 genes\n",
      "WARNING:tensorflow:From /home/alexandra/anaconda3/envs/test_ponyo/lib/python3.7/site-packages/keras/backend/tensorflow_backend.py:422: The name tf.global_variables is deprecated. Please use tf.compat.v1.global_variables instead.\n",
      "\n",
      "Return: simulated gene expression data containing 100 samples and 5000 genes\n"
     ]
    }
   ],
   "source": [
    "# Run simulation\n",
    "simulated_data = simulate_expression_data.simulate_by_random_sampling(\n",
    "    normalized_compendium_filename,\n",
    "    num_simulated_samples,\n",
    "    vae_model_dir,\n",
    ")"
   ]
  },
  {
   "cell_type": "markdown",
   "metadata": {},
   "source": [
    "## 2. Latent transformation simulation"
   ]
  },
  {
   "cell_type": "code",
   "execution_count": 6,
   "metadata": {},
   "outputs": [
    {
     "data": {
      "text/plain": [
       "'utils.create_experiment_id_file(metadata_filename,\\n                                normalized_compendium_filename,\\n                                experiment_id_filename,\\n                                config_filename)'"
      ]
     },
     "execution_count": 6,
     "metadata": {},
     "output_type": "execute_result"
    }
   ],
   "source": [
    "\"\"\"utils.create_experiment_id_file(metadata_filename,\n",
    "                                normalized_compendium_filename,\n",
    "                                experiment_id_filename,\n",
    "                                config_filename)\"\"\""
   ]
  },
  {
   "cell_type": "code",
   "execution_count": 7,
   "metadata": {},
   "outputs": [
    {
     "data": {
      "text/plain": [
       "'# Run simulation\\nsimulated_data = simulate_expression_data.simulate_by_latent_transformation(\\n    num_simulated_experiments,\\n    normalized_compendium_filename,\\n    vae_model_dir,\\n    latent_dim,\\n    metadata_filename,\\n    metadata_delimiter,\\n    experiment_id_colname,\\n    sample_id_colname,\\n    experiment_id_filename,\\n    local_dir,\\n)'"
      ]
     },
     "execution_count": 7,
     "metadata": {},
     "output_type": "execute_result"
    }
   ],
   "source": [
    "\"\"\"# Run simulation\n",
    "simulated_data = simulate_expression_data.simulate_by_latent_transformation(\n",
    "    num_simulated_experiments,\n",
    "    normalized_compendium_filename,\n",
    "    vae_model_dir,\n",
    "    latent_dim,\n",
    "    metadata_filename,\n",
    "    metadata_delimiter,\n",
    "    experiment_id_colname,\n",
    "    sample_id_colname,\n",
    "    experiment_id_filename,\n",
    "    local_dir,\n",
    ")\"\"\""
   ]
  },
  {
   "cell_type": "markdown",
   "metadata": {},
   "source": [
    "## 3. Template shift simulation"
   ]
  },
  {
   "cell_type": "code",
   "execution_count": 8,
   "metadata": {},
   "outputs": [],
   "source": [
    "# Load pickled file\n",
    "# scaler = pickle.load(open(scaler_filename, \"rb\"))"
   ]
  },
  {
   "cell_type": "code",
   "execution_count": 9,
   "metadata": {},
   "outputs": [
    {
     "data": {
      "text/plain": [
       "'# Run simulation\\nsimulate_expression_data.shift_template_experiment(\\n    normalized_compendium_filename,\\n    vae_model_dir,\\n    latent_dim,\\n    scaler_filename,\\n    metadata_filename,\\n    metadata_delimiter,\\n    experiment_id_colname,\\n    sample_id_colname,\\n    project_id,\\n    local_dir,\\n    simulated_data_dir,\\n    num_runs)'"
      ]
     },
     "execution_count": 9,
     "metadata": {},
     "output_type": "execute_result"
    }
   ],
   "source": [
    "\"\"\"# Run simulation\n",
    "simulate_expression_data.shift_template_experiment(\n",
    "    normalized_compendium_filename,\n",
    "    vae_model_dir,\n",
    "    latent_dim,\n",
    "    scaler_filename,\n",
    "    metadata_filename,\n",
    "    metadata_delimiter,\n",
    "    experiment_id_colname,\n",
    "    sample_id_colname,\n",
    "    project_id,\n",
    "    local_dir,\n",
    "    simulated_data_dir,\n",
    "    num_runs)\"\"\""
   ]
  },
  {
   "cell_type": "markdown",
   "metadata": {},
   "source": [
    "## 4. Embed shift simulation"
   ]
  },
  {
   "cell_type": "code",
   "execution_count": 10,
   "metadata": {},
   "outputs": [],
   "source": [
    "# Read in config variables\n",
    "config_filename = \"config_test_2.tsv\"\n",
    "params = utils.read_config(config_filename)"
   ]
  },
  {
   "cell_type": "code",
   "execution_count": 11,
   "metadata": {},
   "outputs": [],
   "source": [
    "# Load parameters\n",
    "local_dir = params[\"local_dir\"]\n",
    "raw_compendium_filename = params[\"raw_compendium_filename\"]\n",
    "normalized_compendium_filename = params[\"normalized_compendium_filename\"]\n",
    "raw_template_filename = params[\"raw_template_filename\"]\n",
    "mapped_template_filename = params[\"mapped_template_filename\"]\n",
    "normalized_template_filename = params[\"normalized_template_filename\"]\n",
    "metadata_filename = params[\"metadata_filename\"]\n",
    "latent_dim = params['latent_dim']\n",
    "scaler_filename = params['scaler_transform_filename']\n",
    "num_runs = params['num_simulated']\n",
    "metadata_delimiter = params[\"metadata_delimiter\"]\n",
    "experiment_id_colname = params['metadata_experiment_colname']\n",
    "sample_id_colname = params['metadata_sample_colname']\n",
    "project_id = params['project_id']\n",
    "vae_model_dir = params[\"vae_model_dir\"]\n",
    "simulated_data_dir = params[\"simulated_data_dir\"]"
   ]
  },
  {
   "cell_type": "markdown",
   "metadata": {},
   "source": [
    "### Process template experiment\n",
    "\n",
    "In order to simulate a new gene expression experiment, we will need to encode this experiment into the learned latent space. This requires that the feature space (i.e. genes) in the template experiment match the features in the compendium used to train the VAE model. These cells process the template experiment to be of the expected input format:\n",
    "\n",
    "* Template data is expected to be a matrix that is sample x gene\n",
    "* Template experiment is expected to have the same genes as the compendium experiment. Genes that are in the template experiment but not in the compendium are removed. Genes that are in the compendium but missing in the template experiment are added and the gene expression value is set to the median gene expression value of that gene across the samples in the compendium.\n",
    "* Template values are expected to be within the range (i.e. both the template and compendium expression measurements are estimated counts)"
   ]
  },
  {
   "cell_type": "code",
   "execution_count": 12,
   "metadata": {},
   "outputs": [
    {
     "name": "stdout",
     "output_type": "stream",
     "text": [
      "(5, 5000)\n",
      "(56, 5000)\n"
     ]
    }
   ],
   "source": [
    "simulate_expression_data.process_template_experiment(\n",
    "    raw_template_filename,\n",
    "    normalized_compendium_filename,\n",
    "    scaler_filename,\n",
    "    mapped_template_filename,\n",
    "    normalized_template_filename,\n",
    ")"
   ]
  },
  {
   "cell_type": "code",
   "execution_count": 13,
   "metadata": {},
   "outputs": [
    {
     "name": "stdout",
     "output_type": "stream",
     "text": [
      "(5, 5000)\n"
     ]
    },
    {
     "data": {
      "text/html": [
       "<div>\n",
       "<style scoped>\n",
       "    .dataframe tbody tr th:only-of-type {\n",
       "        vertical-align: middle;\n",
       "    }\n",
       "\n",
       "    .dataframe tbody tr th {\n",
       "        vertical-align: top;\n",
       "    }\n",
       "\n",
       "    .dataframe thead th {\n",
       "        text-align: right;\n",
       "    }\n",
       "</style>\n",
       "<table border=\"1\" class=\"dataframe\">\n",
       "  <thead>\n",
       "    <tr style=\"text-align: right;\">\n",
       "      <th></th>\n",
       "      <th>ENSG00000000003.14</th>\n",
       "      <th>ENSG00000000005.5</th>\n",
       "      <th>ENSG00000000419.12</th>\n",
       "      <th>ENSG00000000457.13</th>\n",
       "      <th>ENSG00000000460.16</th>\n",
       "      <th>ENSG00000000938.12</th>\n",
       "      <th>ENSG00000000971.15</th>\n",
       "      <th>ENSG00000001036.13</th>\n",
       "      <th>ENSG00000001084.10</th>\n",
       "      <th>ENSG00000001167.14</th>\n",
       "      <th>...</th>\n",
       "      <th>ENSG00000119953.12</th>\n",
       "      <th>ENSG00000119965.12</th>\n",
       "      <th>ENSG00000119969.14</th>\n",
       "      <th>ENSG00000119973.5</th>\n",
       "      <th>ENSG00000119977.20</th>\n",
       "      <th>ENSG00000119979.16</th>\n",
       "      <th>ENSG00000119986.6</th>\n",
       "      <th>ENSG00000120008.15</th>\n",
       "      <th>ENSG00000120029.12</th>\n",
       "      <th>ENSG00000120049.18</th>\n",
       "    </tr>\n",
       "  </thead>\n",
       "  <tbody>\n",
       "    <tr>\n",
       "      <th>SRR592745</th>\n",
       "      <td>52338</td>\n",
       "      <td>5</td>\n",
       "      <td>449</td>\n",
       "      <td>959</td>\n",
       "      <td>237</td>\n",
       "      <td>5</td>\n",
       "      <td>21814</td>\n",
       "      <td>1784</td>\n",
       "      <td>1228</td>\n",
       "      <td>690</td>\n",
       "      <td>...</td>\n",
       "      <td>587</td>\n",
       "      <td>256</td>\n",
       "      <td>58</td>\n",
       "      <td>0</td>\n",
       "      <td>2602</td>\n",
       "      <td>605</td>\n",
       "      <td>327</td>\n",
       "      <td>2120</td>\n",
       "      <td>1222</td>\n",
       "      <td>77</td>\n",
       "    </tr>\n",
       "    <tr>\n",
       "      <th>SRR592746</th>\n",
       "      <td>27719</td>\n",
       "      <td>2</td>\n",
       "      <td>630</td>\n",
       "      <td>429</td>\n",
       "      <td>195</td>\n",
       "      <td>45</td>\n",
       "      <td>14051</td>\n",
       "      <td>832</td>\n",
       "      <td>933</td>\n",
       "      <td>825</td>\n",
       "      <td>...</td>\n",
       "      <td>748</td>\n",
       "      <td>199</td>\n",
       "      <td>62</td>\n",
       "      <td>0</td>\n",
       "      <td>2066</td>\n",
       "      <td>458</td>\n",
       "      <td>635</td>\n",
       "      <td>1331</td>\n",
       "      <td>1236</td>\n",
       "      <td>79</td>\n",
       "    </tr>\n",
       "    <tr>\n",
       "      <th>SRR592747</th>\n",
       "      <td>34242</td>\n",
       "      <td>2</td>\n",
       "      <td>1329</td>\n",
       "      <td>487</td>\n",
       "      <td>183</td>\n",
       "      <td>4</td>\n",
       "      <td>17662</td>\n",
       "      <td>1411</td>\n",
       "      <td>1383</td>\n",
       "      <td>1015</td>\n",
       "      <td>...</td>\n",
       "      <td>1320</td>\n",
       "      <td>234</td>\n",
       "      <td>59</td>\n",
       "      <td>0</td>\n",
       "      <td>2698</td>\n",
       "      <td>568</td>\n",
       "      <td>706</td>\n",
       "      <td>1595</td>\n",
       "      <td>1558</td>\n",
       "      <td>45</td>\n",
       "    </tr>\n",
       "    <tr>\n",
       "      <th>SRR592748</th>\n",
       "      <td>11768</td>\n",
       "      <td>88</td>\n",
       "      <td>612</td>\n",
       "      <td>860</td>\n",
       "      <td>370</td>\n",
       "      <td>8</td>\n",
       "      <td>8229</td>\n",
       "      <td>1927</td>\n",
       "      <td>451</td>\n",
       "      <td>1922</td>\n",
       "      <td>...</td>\n",
       "      <td>689</td>\n",
       "      <td>349</td>\n",
       "      <td>503</td>\n",
       "      <td>1</td>\n",
       "      <td>3163</td>\n",
       "      <td>586</td>\n",
       "      <td>113</td>\n",
       "      <td>2903</td>\n",
       "      <td>1099</td>\n",
       "      <td>225</td>\n",
       "    </tr>\n",
       "    <tr>\n",
       "      <th>SRR592749</th>\n",
       "      <td>16803</td>\n",
       "      <td>713</td>\n",
       "      <td>855</td>\n",
       "      <td>799</td>\n",
       "      <td>447</td>\n",
       "      <td>4</td>\n",
       "      <td>5676</td>\n",
       "      <td>2099</td>\n",
       "      <td>379</td>\n",
       "      <td>2185</td>\n",
       "      <td>...</td>\n",
       "      <td>864</td>\n",
       "      <td>431</td>\n",
       "      <td>797</td>\n",
       "      <td>0</td>\n",
       "      <td>4314</td>\n",
       "      <td>659</td>\n",
       "      <td>128</td>\n",
       "      <td>2332</td>\n",
       "      <td>971</td>\n",
       "      <td>123</td>\n",
       "    </tr>\n",
       "  </tbody>\n",
       "</table>\n",
       "<p>5 rows × 5000 columns</p>\n",
       "</div>"
      ],
      "text/plain": [
       "           ENSG00000000003.14  ENSG00000000005.5  ENSG00000000419.12  \\\n",
       "SRR592745               52338                  5                 449   \n",
       "SRR592746               27719                  2                 630   \n",
       "SRR592747               34242                  2                1329   \n",
       "SRR592748               11768                 88                 612   \n",
       "SRR592749               16803                713                 855   \n",
       "\n",
       "           ENSG00000000457.13  ENSG00000000460.16  ENSG00000000938.12  \\\n",
       "SRR592745                 959                 237                   5   \n",
       "SRR592746                 429                 195                  45   \n",
       "SRR592747                 487                 183                   4   \n",
       "SRR592748                 860                 370                   8   \n",
       "SRR592749                 799                 447                   4   \n",
       "\n",
       "           ENSG00000000971.15  ENSG00000001036.13  ENSG00000001084.10  \\\n",
       "SRR592745               21814                1784                1228   \n",
       "SRR592746               14051                 832                 933   \n",
       "SRR592747               17662                1411                1383   \n",
       "SRR592748                8229                1927                 451   \n",
       "SRR592749                5676                2099                 379   \n",
       "\n",
       "           ENSG00000001167.14  ...  ENSG00000119953.12  ENSG00000119965.12  \\\n",
       "SRR592745                 690  ...                 587                 256   \n",
       "SRR592746                 825  ...                 748                 199   \n",
       "SRR592747                1015  ...                1320                 234   \n",
       "SRR592748                1922  ...                 689                 349   \n",
       "SRR592749                2185  ...                 864                 431   \n",
       "\n",
       "           ENSG00000119969.14  ENSG00000119973.5  ENSG00000119977.20  \\\n",
       "SRR592745                  58                  0                2602   \n",
       "SRR592746                  62                  0                2066   \n",
       "SRR592747                  59                  0                2698   \n",
       "SRR592748                 503                  1                3163   \n",
       "SRR592749                 797                  0                4314   \n",
       "\n",
       "           ENSG00000119979.16  ENSG00000119986.6  ENSG00000120008.15  \\\n",
       "SRR592745                 605                327                2120   \n",
       "SRR592746                 458                635                1331   \n",
       "SRR592747                 568                706                1595   \n",
       "SRR592748                 586                113                2903   \n",
       "SRR592749                 659                128                2332   \n",
       "\n",
       "           ENSG00000120029.12  ENSG00000120049.18  \n",
       "SRR592745                1222                  77  \n",
       "SRR592746                1236                  79  \n",
       "SRR592747                1558                  45  \n",
       "SRR592748                1099                 225  \n",
       "SRR592749                 971                 123  \n",
       "\n",
       "[5 rows x 5000 columns]"
      ]
     },
     "execution_count": 13,
     "metadata": {},
     "output_type": "execute_result"
    }
   ],
   "source": [
    "template = pd.read_csv(raw_template_filename, sep=\"\\t\", index_col=0, header=0)\n",
    "print(template.shape)\n",
    "template.head()"
   ]
  },
  {
   "cell_type": "markdown",
   "metadata": {},
   "source": [
    "### Simulation"
   ]
  },
  {
   "cell_type": "code",
   "execution_count": 14,
   "metadata": {
    "scrolled": false
   },
   "outputs": [
    {
     "ename": "FileNotFoundError",
     "evalue": "[Errno 2] No such file or directory: 'test_results/selected_simulated_data_SRP016140_0.tsv'",
     "output_type": "error",
     "traceback": [
      "\u001b[0;31m---------------------------------------------------------------------------\u001b[0m",
      "\u001b[0;31mFileNotFoundError\u001b[0m                         Traceback (most recent call last)",
      "\u001b[0;32m<ipython-input-14-b15d2915362d>\u001b[0m in \u001b[0;36m<module>\u001b[0;34m\u001b[0m\n\u001b[1;32m      9\u001b[0m     \u001b[0mlatent_dim\u001b[0m\u001b[0;34m,\u001b[0m\u001b[0;34m\u001b[0m\u001b[0;34m\u001b[0m\u001b[0m\n\u001b[1;32m     10\u001b[0m     \u001b[0mnum_runs\u001b[0m\u001b[0;34m,\u001b[0m\u001b[0;34m\u001b[0m\u001b[0;34m\u001b[0m\u001b[0m\n\u001b[0;32m---> 11\u001b[0;31m     \u001b[0msimulated_data_dir\u001b[0m\u001b[0;34m\u001b[0m\u001b[0;34m\u001b[0m\u001b[0m\n\u001b[0m\u001b[1;32m     12\u001b[0m )\n",
      "\u001b[0;32m~/Documents/Repos/ponyo/ponyo/simulate_expression_data.py\u001b[0m in \u001b[0;36membed_shift_template_experiment\u001b[0;34m(normalized_compendium_filename, normalized_template_filename, vae_model_dir, selected_experiment_id, scaler_filename, local_dir, latent_dim, num_simulated_experiments, simulated_data_dir)\u001b[0m\n\u001b[1;32m   1000\u001b[0m         )\n\u001b[1;32m   1001\u001b[0m \u001b[0;34m\u001b[0m\u001b[0m\n\u001b[0;32m-> 1002\u001b[0;31m         \u001b[0msimulated_data_scaled_df\u001b[0m\u001b[0;34m.\u001b[0m\u001b[0mto_csv\u001b[0m\u001b[0;34m(\u001b[0m\u001b[0mout_filename\u001b[0m\u001b[0;34m,\u001b[0m \u001b[0mfloat_format\u001b[0m\u001b[0;34m=\u001b[0m\u001b[0;34m\"%.3f\"\u001b[0m\u001b[0;34m,\u001b[0m \u001b[0msep\u001b[0m\u001b[0;34m=\u001b[0m\u001b[0;34m\"\\t\"\u001b[0m\u001b[0;34m)\u001b[0m\u001b[0;34m\u001b[0m\u001b[0;34m\u001b[0m\u001b[0m\n\u001b[0m\u001b[1;32m   1003\u001b[0m \u001b[0;34m\u001b[0m\u001b[0m\n\u001b[1;32m   1004\u001b[0m         out_encoded_filename = os.path.join(\n",
      "\u001b[0;32m~/anaconda3/envs/test_ponyo/lib/python3.7/site-packages/pandas/core/generic.py\u001b[0m in \u001b[0;36mto_csv\u001b[0;34m(self, path_or_buf, sep, na_rep, float_format, columns, header, index, index_label, mode, encoding, compression, quoting, quotechar, line_terminator, chunksize, date_format, doublequote, escapechar, decimal, errors)\u001b[0m\n\u001b[1;32m   3168\u001b[0m             \u001b[0mdecimal\u001b[0m\u001b[0;34m=\u001b[0m\u001b[0mdecimal\u001b[0m\u001b[0;34m,\u001b[0m\u001b[0;34m\u001b[0m\u001b[0;34m\u001b[0m\u001b[0m\n\u001b[1;32m   3169\u001b[0m         )\n\u001b[0;32m-> 3170\u001b[0;31m         \u001b[0mformatter\u001b[0m\u001b[0;34m.\u001b[0m\u001b[0msave\u001b[0m\u001b[0;34m(\u001b[0m\u001b[0;34m)\u001b[0m\u001b[0;34m\u001b[0m\u001b[0;34m\u001b[0m\u001b[0m\n\u001b[0m\u001b[1;32m   3171\u001b[0m \u001b[0;34m\u001b[0m\u001b[0m\n\u001b[1;32m   3172\u001b[0m         \u001b[0;32mif\u001b[0m \u001b[0mpath_or_buf\u001b[0m \u001b[0;32mis\u001b[0m \u001b[0;32mNone\u001b[0m\u001b[0;34m:\u001b[0m\u001b[0;34m\u001b[0m\u001b[0;34m\u001b[0m\u001b[0m\n",
      "\u001b[0;32m~/anaconda3/envs/test_ponyo/lib/python3.7/site-packages/pandas/io/formats/csvs.py\u001b[0m in \u001b[0;36msave\u001b[0;34m(self)\u001b[0m\n\u001b[1;32m    188\u001b[0m                 \u001b[0mencoding\u001b[0m\u001b[0;34m=\u001b[0m\u001b[0mself\u001b[0m\u001b[0;34m.\u001b[0m\u001b[0mencoding\u001b[0m\u001b[0;34m,\u001b[0m\u001b[0;34m\u001b[0m\u001b[0;34m\u001b[0m\u001b[0m\n\u001b[1;32m    189\u001b[0m                 \u001b[0merrors\u001b[0m\u001b[0;34m=\u001b[0m\u001b[0mself\u001b[0m\u001b[0;34m.\u001b[0m\u001b[0merrors\u001b[0m\u001b[0;34m,\u001b[0m\u001b[0;34m\u001b[0m\u001b[0;34m\u001b[0m\u001b[0m\n\u001b[0;32m--> 190\u001b[0;31m                 \u001b[0mcompression\u001b[0m\u001b[0;34m=\u001b[0m\u001b[0mdict\u001b[0m\u001b[0;34m(\u001b[0m\u001b[0mself\u001b[0m\u001b[0;34m.\u001b[0m\u001b[0mcompression_args\u001b[0m\u001b[0;34m,\u001b[0m \u001b[0mmethod\u001b[0m\u001b[0;34m=\u001b[0m\u001b[0mself\u001b[0m\u001b[0;34m.\u001b[0m\u001b[0mcompression\u001b[0m\u001b[0;34m)\u001b[0m\u001b[0;34m,\u001b[0m\u001b[0;34m\u001b[0m\u001b[0;34m\u001b[0m\u001b[0m\n\u001b[0m\u001b[1;32m    191\u001b[0m             )\n\u001b[1;32m    192\u001b[0m             \u001b[0mclose\u001b[0m \u001b[0;34m=\u001b[0m \u001b[0;32mTrue\u001b[0m\u001b[0;34m\u001b[0m\u001b[0;34m\u001b[0m\u001b[0m\n",
      "\u001b[0;32m~/anaconda3/envs/test_ponyo/lib/python3.7/site-packages/pandas/io/common.py\u001b[0m in \u001b[0;36mget_handle\u001b[0;34m(path_or_buf, mode, encoding, compression, memory_map, is_text, errors)\u001b[0m\n\u001b[1;32m    491\u001b[0m         \u001b[0;32mif\u001b[0m \u001b[0mencoding\u001b[0m\u001b[0;34m:\u001b[0m\u001b[0;34m\u001b[0m\u001b[0;34m\u001b[0m\u001b[0m\n\u001b[1;32m    492\u001b[0m             \u001b[0;31m# Encoding\u001b[0m\u001b[0;34m\u001b[0m\u001b[0;34m\u001b[0m\u001b[0;34m\u001b[0m\u001b[0m\n\u001b[0;32m--> 493\u001b[0;31m             \u001b[0mf\u001b[0m \u001b[0;34m=\u001b[0m \u001b[0mopen\u001b[0m\u001b[0;34m(\u001b[0m\u001b[0mpath_or_buf\u001b[0m\u001b[0;34m,\u001b[0m \u001b[0mmode\u001b[0m\u001b[0;34m,\u001b[0m \u001b[0mencoding\u001b[0m\u001b[0;34m=\u001b[0m\u001b[0mencoding\u001b[0m\u001b[0;34m,\u001b[0m \u001b[0merrors\u001b[0m\u001b[0;34m=\u001b[0m\u001b[0merrors\u001b[0m\u001b[0;34m,\u001b[0m \u001b[0mnewline\u001b[0m\u001b[0;34m=\u001b[0m\u001b[0;34m\"\"\u001b[0m\u001b[0;34m)\u001b[0m\u001b[0;34m\u001b[0m\u001b[0;34m\u001b[0m\u001b[0m\n\u001b[0m\u001b[1;32m    494\u001b[0m         \u001b[0;32melif\u001b[0m \u001b[0mis_text\u001b[0m\u001b[0;34m:\u001b[0m\u001b[0;34m\u001b[0m\u001b[0;34m\u001b[0m\u001b[0m\n\u001b[1;32m    495\u001b[0m             \u001b[0;31m# No explicit encoding\u001b[0m\u001b[0;34m\u001b[0m\u001b[0;34m\u001b[0m\u001b[0;34m\u001b[0m\u001b[0m\n",
      "\u001b[0;31mFileNotFoundError\u001b[0m: [Errno 2] No such file or directory: 'test_results/selected_simulated_data_SRP016140_0.tsv'"
     ]
    }
   ],
   "source": [
    "# Run simulation\n",
    "simulate_expression_data.embed_shift_template_experiment(\n",
    "    normalized_compendium_filename,\n",
    "    normalized_template_filename,\n",
    "    vae_model_dir,\n",
    "    project_id,\n",
    "    scaler_filename,\n",
    "    local_dir,\n",
    "    latent_dim,\n",
    "    num_runs,\n",
    "    simulated_data_dir\n",
    ")"
   ]
  }
 ],
 "metadata": {
  "kernelspec": {
   "display_name": "Python 3",
   "language": "python",
   "name": "python3"
  },
  "language_info": {
   "codemirror_mode": {
    "name": "ipython",
    "version": 3
   },
   "file_extension": ".py",
   "mimetype": "text/x-python",
   "name": "python",
   "nbconvert_exporter": "python",
   "pygments_lexer": "ipython3",
   "version": "3.7.9"
  }
 },
 "nbformat": 4,
 "nbformat_minor": 2
}
